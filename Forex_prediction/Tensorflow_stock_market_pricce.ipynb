{
 "cells": [
  {
   "cell_type": "code",
   "execution_count": 1,
   "metadata": {
    "colab": {
     "base_uri": "https://localhost:8080/",
     "height": 34
    },
    "colab_type": "code",
    "id": "KnTkmHxaJBiv",
    "outputId": "41fe27b0-950b-4699-8d27-b90cfed85125"
   },
   "outputs": [
    {
     "name": "stdout",
     "output_type": "stream",
     "text": [
      "2.2.0\n"
     ]
    }
   ],
   "source": [
    "import os\n",
    "import tensorflow as tf\n",
    "from tensorflow import keras\n",
    "\n",
    "print(tf.version.VERSION)"
   ]
  },
  {
   "cell_type": "code",
   "execution_count": 2,
   "metadata": {
    "colab": {
     "base_uri": "https://localhost:8080/",
     "height": 34
    },
    "colab_type": "code",
    "id": "NoQ2JIFZJBi4",
    "outputId": "ef59c9a3-2f2b-412e-c634-886740681af4"
   },
   "outputs": [
    {
     "name": "stdout",
     "output_type": "stream",
     "text": [
      "Populating the interactive namespace from numpy and matplotlib\n"
     ]
    }
   ],
   "source": [
    "#import pandas_datareader as pdr\n",
    "import matplotlib.pyplot as plt\n",
    "import pandas as pd\n",
    "import datetime \n",
    "\n",
    "#from tqdm import tqdm_notebook as tqdm\n",
    "from tqdm import tqdm\n",
    "%matplotlib inline\n",
    "%pylab inline\n",
    "pylab.rcParams['figure.figsize'] = (14, 9)   "
   ]
  },
  {
   "cell_type": "code",
   "execution_count": 6,
   "metadata": {
    "colab": {},
    "colab_type": "code",
    "id": "EAZKh3ZxJBi9"
   },
   "outputs": [],
   "source": [
    "import numpy as np\n",
    "from sklearn.model_selection import train_test_split\n",
    "from sklearn.preprocessing import StandardScaler\n",
    "from datetime import datetime\n",
    "\n"
   ]
  },
  {
   "cell_type": "code",
   "execution_count": 4,
   "metadata": {
    "colab": {
     "base_uri": "https://localhost:8080/",
     "height": 122
    },
    "colab_type": "code",
    "id": "nKhXxhn7JG-F",
    "outputId": "7e20a948-9f10-47f1-86c3-1007589e926d"
   },
   "outputs": [
    {
     "ename": "ModuleNotFoundError",
     "evalue": "No module named 'google.colab'",
     "output_type": "error",
     "traceback": [
      "\u001b[0;31m---------------------------------------------------------------------------\u001b[0m",
      "\u001b[0;31mModuleNotFoundError\u001b[0m                       Traceback (most recent call last)",
      "\u001b[0;32m<ipython-input-4-697cdff7d3c5>\u001b[0m in \u001b[0;36m<module>\u001b[0;34m\u001b[0m\n\u001b[1;32m      1\u001b[0m \u001b[0;31m# Load the Drive helper and mount\u001b[0m\u001b[0;34m\u001b[0m\u001b[0;34m\u001b[0m\u001b[0;34m\u001b[0m\u001b[0m\n\u001b[0;32m----> 2\u001b[0;31m \u001b[0;32mfrom\u001b[0m \u001b[0mgoogle\u001b[0m\u001b[0;34m.\u001b[0m\u001b[0mcolab\u001b[0m \u001b[0;32mimport\u001b[0m \u001b[0mdrive\u001b[0m\u001b[0;34m\u001b[0m\u001b[0;34m\u001b[0m\u001b[0m\n\u001b[0m\u001b[1;32m      3\u001b[0m \u001b[0;31m# This will prompt for authorization.\u001b[0m\u001b[0;34m\u001b[0m\u001b[0;34m\u001b[0m\u001b[0;34m\u001b[0m\u001b[0m\n\u001b[1;32m      4\u001b[0m \u001b[0mdrive\u001b[0m\u001b[0;34m.\u001b[0m\u001b[0mmount\u001b[0m\u001b[0;34m(\u001b[0m\u001b[0;34m'/content/drive'\u001b[0m\u001b[0;34m)\u001b[0m\u001b[0;34m\u001b[0m\u001b[0;34m\u001b[0m\u001b[0m\n",
      "\u001b[0;31mModuleNotFoundError\u001b[0m: No module named 'google.colab'"
     ]
    }
   ],
   "source": [
    "# Load the Drive helper and mount\n",
    "from google.colab import drive\n",
    "# This will prompt for authorization.\n",
    "drive.mount('/content/drive')\n"
   ]
  },
  {
   "cell_type": "code",
   "execution_count": 7,
   "metadata": {
    "colab": {
     "base_uri": "https://localhost:8080/",
     "height": 204
    },
    "colab_type": "code",
    "id": "JH2Wk2lFJBjC",
    "outputId": "80bb0c1d-249a-414e-b36c-ddf1822d5008"
   },
   "outputs": [
    {
     "data": {
      "text/html": [
       "<div>\n",
       "<style scoped>\n",
       "    .dataframe tbody tr th:only-of-type {\n",
       "        vertical-align: middle;\n",
       "    }\n",
       "\n",
       "    .dataframe tbody tr th {\n",
       "        vertical-align: top;\n",
       "    }\n",
       "\n",
       "    .dataframe thead th {\n",
       "        text-align: right;\n",
       "    }\n",
       "</style>\n",
       "<table border=\"1\" class=\"dataframe\">\n",
       "  <thead>\n",
       "    <tr style=\"text-align: right;\">\n",
       "      <th></th>\n",
       "      <th>Date</th>\n",
       "      <th>Time</th>\n",
       "      <th>Open</th>\n",
       "      <th>High</th>\n",
       "      <th>Low</th>\n",
       "      <th>Close</th>\n",
       "      <th>Volume</th>\n",
       "    </tr>\n",
       "  </thead>\n",
       "  <tbody>\n",
       "    <tr>\n",
       "      <th>0</th>\n",
       "      <td>1999.01.04</td>\n",
       "      <td>10:00</td>\n",
       "      <td>1.1801</td>\n",
       "      <td>1.1819</td>\n",
       "      <td>1.1769</td>\n",
       "      <td>1.1789</td>\n",
       "      <td>388</td>\n",
       "    </tr>\n",
       "    <tr>\n",
       "      <th>1</th>\n",
       "      <td>1999.01.04</td>\n",
       "      <td>11:00</td>\n",
       "      <td>1.1795</td>\n",
       "      <td>1.1819</td>\n",
       "      <td>1.1780</td>\n",
       "      <td>1.1791</td>\n",
       "      <td>490</td>\n",
       "    </tr>\n",
       "    <tr>\n",
       "      <th>2</th>\n",
       "      <td>1999.01.04</td>\n",
       "      <td>12:00</td>\n",
       "      <td>1.1791</td>\n",
       "      <td>1.1803</td>\n",
       "      <td>1.1788</td>\n",
       "      <td>1.1798</td>\n",
       "      <td>278</td>\n",
       "    </tr>\n",
       "    <tr>\n",
       "      <th>3</th>\n",
       "      <td>1999.01.04</td>\n",
       "      <td>13:00</td>\n",
       "      <td>1.1797</td>\n",
       "      <td>1.1804</td>\n",
       "      <td>1.1781</td>\n",
       "      <td>1.1782</td>\n",
       "      <td>364</td>\n",
       "    </tr>\n",
       "    <tr>\n",
       "      <th>4</th>\n",
       "      <td>1999.01.04</td>\n",
       "      <td>14:00</td>\n",
       "      <td>1.1780</td>\n",
       "      <td>1.1820</td>\n",
       "      <td>1.1775</td>\n",
       "      <td>1.1802</td>\n",
       "      <td>482</td>\n",
       "    </tr>\n",
       "  </tbody>\n",
       "</table>\n",
       "</div>"
      ],
      "text/plain": [
       "         Date   Time    Open    High     Low   Close  Volume\n",
       "0  1999.01.04  10:00  1.1801  1.1819  1.1769  1.1789     388\n",
       "1  1999.01.04  11:00  1.1795  1.1819  1.1780  1.1791     490\n",
       "2  1999.01.04  12:00  1.1791  1.1803  1.1788  1.1798     278\n",
       "3  1999.01.04  13:00  1.1797  1.1804  1.1781  1.1782     364\n",
       "4  1999.01.04  14:00  1.1780  1.1820  1.1775  1.1802     482"
      ]
     },
     "execution_count": 7,
     "metadata": {},
     "output_type": "execute_result"
    }
   ],
   "source": [
    "data=pd.read_csv('EURUSD60.csv')\n",
    "data.head()\n"
   ]
  },
  {
   "cell_type": "code",
   "execution_count": 8,
   "metadata": {
    "colab": {
     "base_uri": "https://localhost:8080/",
     "height": 204
    },
    "colab_type": "code",
    "id": "8je9wwgQ18Yv",
    "outputId": "20140c3e-296e-4e6a-e47f-bd8bf87d77bd"
   },
   "outputs": [
    {
     "data": {
      "text/html": [
       "<div>\n",
       "<style scoped>\n",
       "    .dataframe tbody tr th:only-of-type {\n",
       "        vertical-align: middle;\n",
       "    }\n",
       "\n",
       "    .dataframe tbody tr th {\n",
       "        vertical-align: top;\n",
       "    }\n",
       "\n",
       "    .dataframe thead th {\n",
       "        text-align: right;\n",
       "    }\n",
       "</style>\n",
       "<table border=\"1\" class=\"dataframe\">\n",
       "  <thead>\n",
       "    <tr style=\"text-align: right;\">\n",
       "      <th></th>\n",
       "      <th>Date</th>\n",
       "      <th>Time</th>\n",
       "      <th>Open</th>\n",
       "      <th>High</th>\n",
       "      <th>Low</th>\n",
       "      <th>Close</th>\n",
       "      <th>Volume</th>\n",
       "    </tr>\n",
       "  </thead>\n",
       "  <tbody>\n",
       "    <tr>\n",
       "      <th>129930</th>\n",
       "      <td>2019.12.12</td>\n",
       "      <td>17:00</td>\n",
       "      <td>1.11249</td>\n",
       "      <td>1.11362</td>\n",
       "      <td>1.11113</td>\n",
       "      <td>1.11171</td>\n",
       "      <td>5186</td>\n",
       "    </tr>\n",
       "    <tr>\n",
       "      <th>129931</th>\n",
       "      <td>2019.12.12</td>\n",
       "      <td>18:00</td>\n",
       "      <td>1.11171</td>\n",
       "      <td>1.11214</td>\n",
       "      <td>1.11104</td>\n",
       "      <td>1.11142</td>\n",
       "      <td>3525</td>\n",
       "    </tr>\n",
       "    <tr>\n",
       "      <th>129932</th>\n",
       "      <td>2019.12.12</td>\n",
       "      <td>19:00</td>\n",
       "      <td>1.11143</td>\n",
       "      <td>1.11171</td>\n",
       "      <td>1.11080</td>\n",
       "      <td>1.11101</td>\n",
       "      <td>2331</td>\n",
       "    </tr>\n",
       "    <tr>\n",
       "      <th>129933</th>\n",
       "      <td>2019.12.12</td>\n",
       "      <td>20:00</td>\n",
       "      <td>1.11101</td>\n",
       "      <td>1.11133</td>\n",
       "      <td>1.11029</td>\n",
       "      <td>1.11100</td>\n",
       "      <td>2431</td>\n",
       "    </tr>\n",
       "    <tr>\n",
       "      <th>129934</th>\n",
       "      <td>2019.12.12</td>\n",
       "      <td>21:00</td>\n",
       "      <td>1.11098</td>\n",
       "      <td>1.11131</td>\n",
       "      <td>1.11039</td>\n",
       "      <td>1.11113</td>\n",
       "      <td>3011</td>\n",
       "    </tr>\n",
       "  </tbody>\n",
       "</table>\n",
       "</div>"
      ],
      "text/plain": [
       "              Date   Time     Open     High      Low    Close  Volume\n",
       "129930  2019.12.12  17:00  1.11249  1.11362  1.11113  1.11171    5186\n",
       "129931  2019.12.12  18:00  1.11171  1.11214  1.11104  1.11142    3525\n",
       "129932  2019.12.12  19:00  1.11143  1.11171  1.11080  1.11101    2331\n",
       "129933  2019.12.12  20:00  1.11101  1.11133  1.11029  1.11100    2431\n",
       "129934  2019.12.12  21:00  1.11098  1.11131  1.11039  1.11113    3011"
      ]
     },
     "execution_count": 8,
     "metadata": {},
     "output_type": "execute_result"
    }
   ],
   "source": [
    "data.tail()\n"
   ]
  },
  {
   "cell_type": "code",
   "execution_count": 9,
   "metadata": {
    "colab": {
     "base_uri": "https://localhost:8080/",
     "height": 500
    },
    "colab_type": "code",
    "id": "x2svRiu5JBjH",
    "outputId": "ed71803b-9b8b-4764-857c-c88054add4eb"
   },
   "outputs": [
    {
     "data": {
      "text/plain": [
       "<matplotlib.axes._subplots.AxesSubplot at 0x7f2f8df5deb0>"
      ]
     },
     "execution_count": 9,
     "metadata": {},
     "output_type": "execute_result"
    },
    {
     "data": {
      "image/png": "[encoded data removed]",
      "text/plain": [
       "<Figure size 792x576 with 1 Axes>"
      ]
     },
     "metadata": {
      "needs_background": "light"
     },
     "output_type": "display_data"
    }
   ],
   "source": [
    "f, ax = plt.subplots(figsize=(11,8))\n",
    "\n",
    "data['Close'].plot(grid = True)"
   ]
  },
  {
   "cell_type": "code",
   "execution_count": 10,
   "metadata": {
    "colab": {
     "base_uri": "https://localhost:8080/",
     "height": 204
    },
    "colab_type": "code",
    "id": "hJoRA0mmJBkC",
    "outputId": "1ff935d2-0c87-4e9a-b8b2-d0bb7f68260b"
   },
   "outputs": [
    {
     "data": {
      "text/html": [
       "<div>\n",
       "<style scoped>\n",
       "    .dataframe tbody tr th:only-of-type {\n",
       "        vertical-align: middle;\n",
       "    }\n",
       "\n",
       "    .dataframe tbody tr th {\n",
       "        vertical-align: top;\n",
       "    }\n",
       "\n",
       "    .dataframe thead th {\n",
       "        text-align: right;\n",
       "    }\n",
       "</style>\n",
       "<table border=\"1\" class=\"dataframe\">\n",
       "  <thead>\n",
       "    <tr style=\"text-align: right;\">\n",
       "      <th></th>\n",
       "      <th>Open</th>\n",
       "      <th>High</th>\n",
       "      <th>Low</th>\n",
       "      <th>Close</th>\n",
       "    </tr>\n",
       "  </thead>\n",
       "  <tbody>\n",
       "    <tr>\n",
       "      <th>0</th>\n",
       "      <td>1.1801</td>\n",
       "      <td>1.1819</td>\n",
       "      <td>1.1769</td>\n",
       "      <td>1.1789</td>\n",
       "    </tr>\n",
       "    <tr>\n",
       "      <th>1</th>\n",
       "      <td>1.1795</td>\n",
       "      <td>1.1819</td>\n",
       "      <td>1.1780</td>\n",
       "      <td>1.1791</td>\n",
       "    </tr>\n",
       "    <tr>\n",
       "      <th>2</th>\n",
       "      <td>1.1791</td>\n",
       "      <td>1.1803</td>\n",
       "      <td>1.1788</td>\n",
       "      <td>1.1798</td>\n",
       "    </tr>\n",
       "    <tr>\n",
       "      <th>3</th>\n",
       "      <td>1.1797</td>\n",
       "      <td>1.1804</td>\n",
       "      <td>1.1781</td>\n",
       "      <td>1.1782</td>\n",
       "    </tr>\n",
       "    <tr>\n",
       "      <th>4</th>\n",
       "      <td>1.1780</td>\n",
       "      <td>1.1820</td>\n",
       "      <td>1.1775</td>\n",
       "      <td>1.1802</td>\n",
       "    </tr>\n",
       "  </tbody>\n",
       "</table>\n",
       "</div>"
      ],
      "text/plain": [
       "     Open    High     Low   Close\n",
       "0  1.1801  1.1819  1.1769  1.1789\n",
       "1  1.1795  1.1819  1.1780  1.1791\n",
       "2  1.1791  1.1803  1.1788  1.1798\n",
       "3  1.1797  1.1804  1.1781  1.1782\n",
       "4  1.1780  1.1820  1.1775  1.1802"
      ]
     },
     "execution_count": 10,
     "metadata": {},
     "output_type": "execute_result"
    }
   ],
   "source": [
    "new_data=data.loc[:,['Open','High','Low','Close']]\n",
    "new_data.head()\n"
   ]
  },
  {
   "cell_type": "markdown",
   "metadata": {
    "colab_type": "text",
    "id": "KPwf7Jomz7TO"
   },
   "source": [
    "#Preprocessing \n"
   ]
  },
  {
   "cell_type": "code",
   "execution_count": 11,
   "metadata": {
    "colab": {},
    "colab_type": "code",
    "id": "5caZvvZO1LSG"
   },
   "outputs": [],
   "source": [
    "X=new_data.iloc[:,:-1].values\n",
    "y=new_data.iloc[:,-1].values\n",
    "\n"
   ]
  },
  {
   "cell_type": "code",
   "execution_count": 12,
   "metadata": {
    "colab": {
     "base_uri": "https://localhost:8080/",
     "height": 34
    },
    "colab_type": "code",
    "id": "BcUAVUWx-TUo",
    "outputId": "9e1ad3bf-435b-478c-e603-e070faaf041e"
   },
   "outputs": [
    {
     "data": {
      "text/plain": [
       "(129935, 3)"
      ]
     },
     "execution_count": 12,
     "metadata": {},
     "output_type": "execute_result"
    }
   ],
   "source": [
    "X.shape"
   ]
  },
  {
   "cell_type": "code",
   "execution_count": 13,
   "metadata": {
    "colab": {},
    "colab_type": "code",
    "id": "Es3xpTRwz68z"
   },
   "outputs": [],
   "source": [
    "from sklearn.impute import SimpleImputer \n",
    "imputer = SimpleImputer(missing_values=np.nan, strategy='mean')\n",
    "X[:,:]=imputer.fit_transform(X[:,:])"
   ]
  },
  {
   "cell_type": "code",
   "execution_count": 14,
   "metadata": {
    "colab": {},
    "colab_type": "code",
    "id": "EYuWxczo2ynI"
   },
   "outputs": [],
   "source": [
    "y=imputer.fit_transform(y.reshape(-1,1))\n",
    "imputer2 = SimpleImputer(missing_values=np.nan, strategy='mean')\n",
    "\n",
    "y=imputer2.fit_transform(y)"
   ]
  },
  {
   "cell_type": "code",
   "execution_count": 15,
   "metadata": {
    "colab": {},
    "colab_type": "code",
    "id": "vttFwVQl0zhe"
   },
   "outputs": [],
   "source": [
    "#Feature Scaler\n",
    "from sklearn.preprocessing import StandardScaler\n",
    "featurescaling=StandardScaler()\n",
    "X=featurescaling.fit_transform(X)\n",
    " "
   ]
  },
  {
   "cell_type": "code",
   "execution_count": 16,
   "metadata": {
    "colab": {},
    "colab_type": "code",
    "id": "k9ZhgvHjJBkM"
   },
   "outputs": [],
   "source": [
    "from sklearn.model_selection import train_test_split\n",
    "train_X,test_X,train_y,test_y=train_test_split(X,y,test_size=0.2,shuffle=False)"
   ]
  },
  {
   "cell_type": "code",
   "execution_count": 17,
   "metadata": {
    "colab": {},
    "colab_type": "code",
    "id": "hilSTstSJBkU"
   },
   "outputs": [],
   "source": [
    "n_features=3\n",
    "n_mins=1"
   ]
  },
  {
   "cell_type": "code",
   "execution_count": 18,
   "metadata": {
    "colab": {
     "base_uri": "https://localhost:8080/",
     "height": 34
    },
    "colab_type": "code",
    "id": "bj7kbZFnJBkY",
    "outputId": "c98ea79b-e58a-4dd8-cb6f-0b569a36b5c3"
   },
   "outputs": [
    {
     "name": "stdout",
     "output_type": "stream",
     "text": [
      "(103948, 1, 3) (25987, 1, 3)\n"
     ]
    }
   ],
   "source": [
    "train_X=train_X.reshape(train_X.shape[0],n_mins,n_features)\n",
    "test_X=test_X.reshape(test_X.shape[0],n_mins,n_features)\n",
    "print(train_X.shape,test_X.shape)"
   ]
  },
  {
   "cell_type": "code",
   "execution_count": 19,
   "metadata": {
    "colab": {
     "base_uri": "https://localhost:8080/",
     "height": 357
    },
    "colab_type": "code",
    "id": "cra6VUiZJBkg",
    "outputId": "c3879944-27b7-4294-825f-effccecb9574"
   },
   "outputs": [
    {
     "name": "stdout",
     "output_type": "stream",
     "text": [
      "Model: \"sequential\"\n",
      "_________________________________________________________________\n",
      "Layer (type)                 Output Shape              Param #   \n",
      "=================================================================\n",
      "lstm (LSTM)                  (None, 200)               163200    \n",
      "_________________________________________________________________\n",
      "dense (Dense)                (None, 100)               20100     \n",
      "_________________________________________________________________\n",
      "dropout (Dropout)            (None, 100)               0         \n",
      "_________________________________________________________________\n",
      "dense_1 (Dense)              (None, 50)                5050      \n",
      "_________________________________________________________________\n",
      "dropout_1 (Dropout)          (None, 50)                0         \n",
      "_________________________________________________________________\n",
      "dense_2 (Dense)              (None, 1)                 51        \n",
      "=================================================================\n",
      "Total params: 188,401\n",
      "Trainable params: 188,401\n",
      "Non-trainable params: 0\n",
      "_________________________________________________________________\n"
     ]
    }
   ],
   "source": [
    "# Define a simple sequential model\n",
    "def create_model():\n",
    "    model = tf.keras.models.Sequential([\n",
    "    keras.layers.LSTM(200, activation='relu', input_shape=(train_X.shape[1], train_X.shape[2])),\n",
    "    keras.layers.Dense(100, activation='relu'),\n",
    "    keras.layers.Dropout(0.2),\n",
    "    keras.layers.Dense(50, activation='relu'),\n",
    "    keras.layers.Dropout(0.2),\n",
    "    keras.layers.Dense(1)\n",
    "  ])\n",
    "\n",
    "    model.compile(optimizer='adam',\n",
    "                loss='mse',\n",
    "                metrics=['mse'])\n",
    "\n",
    "    return model\n",
    "\n",
    "# Create a basic model instance\n",
    "model = create_model()\n",
    "\n",
    "# Display the model's architecture\n",
    "model.summary()"
   ]
  },
  {
   "cell_type": "code",
   "execution_count": 20,
   "metadata": {
    "colab": {
     "base_uri": "https://localhost:8080/",
     "height": 1000
    },
    "colab_type": "code",
    "id": "xzoeJcjXJBkl",
    "outputId": "e3816fd8-b29c-4b22-f8d9-bbb69e697a0b"
   },
   "outputs": [
    {
     "name": "stdout",
     "output_type": "stream",
     "text": [
      "Epoch 1/30\n",
      "2599/2599 [==============================] - ETA: 0s - loss: 0.0231 - mse: 0.0231\n",
      "Epoch 00001: saving model to training_1/cp.ckpt\n",
      "2599/2599 [==============================] - 27s 10ms/step - loss: 0.0231 - mse: 0.0231 - val_loss: 3.0893e-05 - val_mse: 3.0893e-05\n",
      "Epoch 2/30\n",
      "2594/2599 [============================>.] - ETA: 0s - loss: 0.0050 - mse: 0.0050\n",
      "Epoch 00002: saving model to training_1/cp.ckpt\n",
      "2599/2599 [==============================] - 30s 11ms/step - loss: 0.0050 - mse: 0.0050 - val_loss: 7.4277e-05 - val_mse: 7.4277e-05\n",
      "Epoch 3/30\n",
      "2598/2599 [============================>.] - ETA: 0s - loss: 0.0012 - mse: 0.0012\n",
      "Epoch 00003: saving model to training_1/cp.ckpt\n",
      "2599/2599 [==============================] - 27s 10ms/step - loss: 0.0012 - mse: 0.0012 - val_loss: 5.7290e-05 - val_mse: 5.7290e-05\n",
      "Epoch 4/30\n",
      "2596/2599 [============================>.] - ETA: 0s - loss: 8.3971e-04 - mse: 8.3971e-04\n",
      "Epoch 00004: saving model to training_1/cp.ckpt\n",
      "2599/2599 [==============================] - 27s 11ms/step - loss: 8.4009e-04 - mse: 8.4009e-04 - val_loss: 8.3020e-05 - val_mse: 8.3020e-05\n",
      "Epoch 5/30\n",
      "2598/2599 [============================>.] - ETA: 0s - loss: 8.2527e-04 - mse: 8.2527e-04\n",
      "Epoch 00005: saving model to training_1/cp.ckpt\n",
      "2599/2599 [==============================] - 28s 11ms/step - loss: 8.2544e-04 - mse: 8.2544e-04 - val_loss: 1.0277e-04 - val_mse: 1.0277e-04\n",
      "Epoch 6/30\n",
      "2595/2599 [============================>.] - ETA: 0s - loss: 8.2838e-04 - mse: 8.2838e-04\n",
      "Epoch 00006: saving model to training_1/cp.ckpt\n",
      "2599/2599 [==============================] - 28s 11ms/step - loss: 8.2862e-04 - mse: 8.2862e-04 - val_loss: 9.3533e-05 - val_mse: 9.3533e-05\n",
      "Epoch 7/30\n",
      "2598/2599 [============================>.] - ETA: 0s - loss: 8.0854e-04 - mse: 8.0854e-04\n",
      "Epoch 00007: saving model to training_1/cp.ckpt\n",
      "2599/2599 [==============================] - 27s 11ms/step - loss: 8.0877e-04 - mse: 8.0877e-04 - val_loss: 1.1616e-04 - val_mse: 1.1616e-04\n",
      "Epoch 8/30\n",
      "2595/2599 [============================>.] - ETA: 0s - loss: 8.1162e-04 - mse: 8.1162e-04\n",
      "Epoch 00008: saving model to training_1/cp.ckpt\n",
      "2599/2599 [==============================] - 28s 11ms/step - loss: 8.1157e-04 - mse: 8.1157e-04 - val_loss: 1.2706e-04 - val_mse: 1.2706e-04\n",
      "Epoch 9/30\n",
      "2596/2599 [============================>.] - ETA: 0s - loss: 7.8633e-04 - mse: 7.8633e-04\n",
      "Epoch 00009: saving model to training_1/cp.ckpt\n",
      "2599/2599 [==============================] - 30s 12ms/step - loss: 7.8621e-04 - mse: 7.8621e-04 - val_loss: 2.5894e-04 - val_mse: 2.5894e-04\n",
      "Epoch 10/30\n",
      "2596/2599 [============================>.] - ETA: 0s - loss: 7.8496e-04 - mse: 7.8496e-04\n",
      "Epoch 00010: saving model to training_1/cp.ckpt\n",
      "2599/2599 [==============================] - 28s 11ms/step - loss: 7.8505e-04 - mse: 7.8505e-04 - val_loss: 6.6169e-05 - val_mse: 6.6169e-05\n",
      "Epoch 11/30\n",
      "2599/2599 [==============================] - ETA: 0s - loss: 7.8517e-04 - mse: 7.8517e-04\n",
      "Epoch 00011: saving model to training_1/cp.ckpt\n",
      "2599/2599 [==============================] - 28s 11ms/step - loss: 7.8517e-04 - mse: 7.8517e-04 - val_loss: 1.2479e-04 - val_mse: 1.2479e-04\n",
      "Epoch 12/30\n",
      "2599/2599 [==============================] - ETA: 0s - loss: 7.7973e-04 - mse: 7.7973e-04\n",
      "Epoch 00012: saving model to training_1/cp.ckpt\n",
      "2599/2599 [==============================] - 28s 11ms/step - loss: 7.7973e-04 - mse: 7.7973e-04 - val_loss: 8.9897e-05 - val_mse: 8.9897e-05\n",
      "Epoch 13/30\n",
      "2596/2599 [============================>.] - ETA: 0s - loss: 7.8276e-04 - mse: 7.8276e-04\n",
      "Epoch 00013: saving model to training_1/cp.ckpt\n",
      "2599/2599 [==============================] - 29s 11ms/step - loss: 7.8264e-04 - mse: 7.8264e-04 - val_loss: 4.7262e-05 - val_mse: 4.7262e-05\n",
      "Epoch 14/30\n",
      "2595/2599 [============================>.] - ETA: 0s - loss: 7.7713e-04 - mse: 7.7713e-04\n",
      "Epoch 00014: saving model to training_1/cp.ckpt\n",
      "2599/2599 [==============================] - 29s 11ms/step - loss: 7.7725e-04 - mse: 7.7725e-04 - val_loss: 7.4893e-05 - val_mse: 7.4893e-05\n",
      "Epoch 15/30\n",
      "2597/2599 [============================>.] - ETA: 0s - loss: 7.6790e-04 - mse: 7.6790e-04\n",
      "Epoch 00015: saving model to training_1/cp.ckpt\n",
      "2599/2599 [==============================] - 29s 11ms/step - loss: 7.6773e-04 - mse: 7.6773e-04 - val_loss: 8.5036e-05 - val_mse: 8.5036e-05\n",
      "Epoch 16/30\n",
      "2595/2599 [============================>.] - ETA: 0s - loss: 7.6509e-04 - mse: 7.6509e-04\n",
      "Epoch 00016: saving model to training_1/cp.ckpt\n",
      "2599/2599 [==============================] - 31s 12ms/step - loss: 7.6497e-04 - mse: 7.6497e-04 - val_loss: 7.4301e-05 - val_mse: 7.4301e-05\n",
      "Epoch 17/30\n",
      "2596/2599 [============================>.] - ETA: 0s - loss: 7.6671e-04 - mse: 7.6671e-04\n",
      "Epoch 00017: saving model to training_1/cp.ckpt\n",
      "2599/2599 [==============================] - 31s 12ms/step - loss: 7.6672e-04 - mse: 7.6672e-04 - val_loss: 9.1306e-05 - val_mse: 9.1306e-05\n",
      "Epoch 18/30\n",
      "2598/2599 [============================>.] - ETA: 0s - loss: 7.7462e-04 - mse: 7.7462e-04\n",
      "Epoch 00018: saving model to training_1/cp.ckpt\n",
      "2599/2599 [==============================] - 27s 10ms/step - loss: 7.7463e-04 - mse: 7.7463e-04 - val_loss: 5.3008e-05 - val_mse: 5.3008e-05\n",
      "Epoch 19/30\n",
      "2596/2599 [============================>.] - ETA: 0s - loss: 7.7055e-04 - mse: 7.7055e-04\n",
      "Epoch 00019: saving model to training_1/cp.ckpt\n",
      "2599/2599 [==============================] - 27s 11ms/step - loss: 7.7078e-04 - mse: 7.7078e-04 - val_loss: 3.7121e-05 - val_mse: 3.7121e-05\n",
      "Epoch 20/30\n",
      "2596/2599 [============================>.] - ETA: 0s - loss: 7.5693e-04 - mse: 7.5693e-04\n",
      "Epoch 00020: saving model to training_1/cp.ckpt\n",
      "2599/2599 [==============================] - 30s 12ms/step - loss: 7.5682e-04 - mse: 7.5682e-04 - val_loss: 6.3155e-05 - val_mse: 6.3155e-05\n",
      "Epoch 21/30\n",
      "2596/2599 [============================>.] - ETA: 0s - loss: 7.7170e-04 - mse: 7.7170e-04\n",
      "Epoch 00021: saving model to training_1/cp.ckpt\n",
      "2599/2599 [==============================] - 32s 12ms/step - loss: 7.7201e-04 - mse: 7.7201e-04 - val_loss: 9.0039e-05 - val_mse: 9.0039e-05\n",
      "Epoch 22/30\n",
      "2596/2599 [============================>.] - ETA: 0s - loss: 7.6592e-04 - mse: 7.6592e-04\n",
      "Epoch 00022: saving model to training_1/cp.ckpt\n",
      "2599/2599 [==============================] - 24s 9ms/step - loss: 7.6601e-04 - mse: 7.6601e-04 - val_loss: 1.3777e-04 - val_mse: 1.3777e-04\n",
      "Epoch 23/30\n",
      "2598/2599 [============================>.] - ETA: 0s - loss: 7.6339e-04 - mse: 7.6339e-04\n",
      "Epoch 00023: saving model to training_1/cp.ckpt\n",
      "2599/2599 [==============================] - 21s 8ms/step - loss: 7.6338e-04 - mse: 7.6338e-04 - val_loss: 4.5790e-05 - val_mse: 4.5790e-05\n",
      "Epoch 24/30\n",
      "2598/2599 [============================>.] - ETA: 0s - loss: 7.6337e-04 - mse: 7.6337e-04\n",
      "Epoch 00024: saving model to training_1/cp.ckpt\n",
      "2599/2599 [==============================] - 22s 9ms/step - loss: 7.6365e-04 - mse: 7.6365e-04 - val_loss: 9.3101e-05 - val_mse: 9.3101e-05\n",
      "Epoch 25/30\n",
      "2596/2599 [============================>.] - ETA: 0s - loss: 7.4918e-04 - mse: 7.4918e-04\n",
      "Epoch 00025: saving model to training_1/cp.ckpt\n",
      "2599/2599 [==============================] - 25s 9ms/step - loss: 7.4895e-04 - mse: 7.4895e-04 - val_loss: 1.0362e-04 - val_mse: 1.0362e-04\n",
      "Epoch 26/30\n",
      "2599/2599 [==============================] - ETA: 0s - loss: 7.6455e-04 - mse: 7.6455e-04\n",
      "Epoch 00026: saving model to training_1/cp.ckpt\n",
      "2599/2599 [==============================] - 23s 9ms/step - loss: 7.6455e-04 - mse: 7.6455e-04 - val_loss: 1.0366e-04 - val_mse: 1.0366e-04\n",
      "Epoch 27/30\n",
      "2597/2599 [============================>.] - ETA: 0s - loss: 7.6673e-04 - mse: 7.6673e-04\n",
      "Epoch 00027: saving model to training_1/cp.ckpt\n",
      "2599/2599 [==============================] - 27s 10ms/step - loss: 7.6671e-04 - mse: 7.6671e-04 - val_loss: 5.9933e-05 - val_mse: 5.9933e-05\n",
      "Epoch 28/30\n",
      "2594/2599 [============================>.] - ETA: 0s - loss: 7.5659e-04 - mse: 7.5659e-04\n",
      "Epoch 00028: saving model to training_1/cp.ckpt\n",
      "2599/2599 [==============================] - 29s 11ms/step - loss: 7.5627e-04 - mse: 7.5627e-04 - val_loss: 4.7408e-05 - val_mse: 4.7408e-05\n",
      "Epoch 29/30\n",
      "2598/2599 [============================>.] - ETA: 0s - loss: 7.3325e-04 - mse: 7.3325e-04\n",
      "Epoch 00029: saving model to training_1/cp.ckpt\n",
      "2599/2599 [==============================] - 32s 12ms/step - loss: 7.3331e-04 - mse: 7.3331e-04 - val_loss: 2.7541e-05 - val_mse: 2.7541e-05\n",
      "Epoch 30/30\n",
      "2594/2599 [============================>.] - ETA: 0s - loss: 7.2663e-04 - mse: 7.2663e-04\n",
      "Epoch 00030: saving model to training_1/cp.ckpt\n",
      "2599/2599 [==============================] - 30s 12ms/step - loss: 7.2635e-04 - mse: 7.2635e-04 - val_loss: 4.0861e-05 - val_mse: 4.0861e-05\n"
     ]
    }
   ],
   "source": [
    "checkpoint_path = \"training_1/cp.ckpt\"\n",
    "checkpoint_dir = os.path.dirname(checkpoint_path)\n",
    "\n",
    "# Create a callback that saves the model's weights\n",
    "cp_callback = tf.keras.callbacks.ModelCheckpoint(filepath=checkpoint_path,\n",
    "                                                 save_weights_only=True,\n",
    "                                                 verbose=1)\n",
    "\n",
    "# Train the model with the new callback\n",
    "history=model.fit(train_X, \n",
    "          train_y,  \n",
    "          epochs=30,\n",
    "          validation_split=0.2,\n",
    "          callbacks=[cp_callback])\n",
    "  # Pass callback to training\n",
    "\n",
    "# This may generate warnings related to saving the state of the optimizer.\n",
    "# These warnings (and similar warnings throughout this notebook)\n",
    "# are in place to discourage outdated usage, and can be ignored."
   ]
  },
  {
   "cell_type": "code",
   "execution_count": 26,
   "metadata": {
    "colab": {
     "base_uri": "https://localhost:8080/",
     "height": 537
    },
    "colab_type": "code",
    "id": "39abPfR_2eUA",
    "outputId": "c1e3cb3e-7be6-4f1b-df08-a595c8aaf0a4"
   },
   "outputs": [
    {
     "data": {
      "image/png": "[encoded data removed]",
      "text/plain": [
       "<Figure size 1008x648 with 1 Axes>"
      ]
     },
     "metadata": {
      "needs_background": "light"
     },
     "output_type": "display_data"
    }
   ],
   "source": [
    "import matplotlib.pyplot as plt\n",
    "# plot history\n",
    "plt.plot(history.history['loss'], label='train')\n",
    "plt.plot(history.history['val_loss'], label='validation')\n",
    "plt.legend()\n",
    "plt.show()"
   ]
  },
  {
   "cell_type": "code",
   "execution_count": 22,
   "metadata": {
    "colab": {
     "base_uri": "https://localhost:8080/",
     "height": 537
    },
    "colab_type": "code",
    "id": "i1N0CnLV2geI",
    "outputId": "45762e7a-9f62-47ce-c7df-abac8b77438d"
   },
   "outputs": [
    {
     "data": {
      "image/png": "[encoded data removed]",
      "text/plain": [
       "<Figure size 1008x648 with 1 Axes>"
      ]
     },
     "metadata": {
      "needs_background": "light"
     },
     "output_type": "display_data"
    }
   ],
   "source": [
    "# plot history\n",
    "plt.plot(history.history['mse'], label='train')\n",
    "plt.plot(history.history['val_mse'], label='validation')\n",
    "plt.legend()\n",
    "plt.show()"
   ]
  },
  {
   "cell_type": "code",
   "execution_count": 23,
   "metadata": {
    "colab": {
     "base_uri": "https://localhost:8080/",
     "height": 51
    },
    "colab_type": "code",
    "id": "yg6vsUDSJBkp",
    "outputId": "a1157beb-164e-451e-f218-bc7c85ff75d1"
   },
   "outputs": [
    {
     "name": "stdout",
     "output_type": "stream",
     "text": [
      "813/813 [==============================] - 3s 3ms/step - loss: 1.3782e-04 - mse: 1.3782e-04\n"
     ]
    },
    {
     "data": {
      "text/plain": [
       "[0.00013781647430732846, 0.00013781647430732846]"
      ]
     },
     "execution_count": 23,
     "metadata": {},
     "output_type": "execute_result"
    }
   ],
   "source": [
    "\n",
    "accr = model.evaluate(test_X,test_y)\n",
    "##print('Test set\\n  Loss: {:0.3f}\\n  Accuracy: {:0.1f} %'.format(accr[0],round(accr[1]*100,1)))\n",
    "accr"
   ]
  },
  {
   "cell_type": "code",
   "execution_count": 44,
   "metadata": {
    "colab": {
     "base_uri": "https://localhost:8080/",
     "height": 34
    },
    "colab_type": "code",
    "id": "je0E4oFHJBkx",
    "outputId": "5d26702c-de52-4961-f252-cfc724fc80ab"
   },
   "outputs": [
    {
     "data": {
      "text/plain": [
       "0.00013781642356497665"
      ]
     },
     "execution_count": 44,
     "metadata": {},
     "output_type": "execute_result"
    }
   ],
   "source": [
    "prediction=model.predict(test_X)\n",
    "prediction\n",
    "\n",
    "from sklearn.metrics import mean_squared_error\n",
    "\n",
    "res=mean_squared_error(test_y, prediction)  \n",
    "res"
   ]
  },
  {
   "cell_type": "code",
   "execution_count": 45,
   "metadata": {
    "colab": {
     "base_uri": "https://localhost:8080/",
     "height": 136
    },
    "colab_type": "code",
    "id": "MO9mTJjyMdB7",
    "outputId": "9ac79b74-be92-4f6d-9142-752970c8caa9"
   },
   "outputs": [
    {
     "data": {
      "text/plain": [
       "array([[1.1314312],\n",
       "       [1.1319696],\n",
       "       [1.1333315],\n",
       "       ...,\n",
       "       [1.1194582],\n",
       "       [1.1190126],\n",
       "       [1.1190336]], dtype=float32)"
      ]
     },
     "execution_count": 45,
     "metadata": {},
     "output_type": "execute_result"
    }
   ],
   "source": [
    "prediction"
   ]
  },
  {
   "cell_type": "code",
   "execution_count": 46,
   "metadata": {
    "colab": {
     "base_uri": "https://localhost:8080/",
     "height": 34
    },
    "colab_type": "code",
    "id": "U11igu7AJBk1",
    "outputId": "18f96337-a691-4453-f763-09ac53a3d329"
   },
   "outputs": [
    {
     "data": {
      "text/plain": [
       "25987"
      ]
     },
     "execution_count": 46,
     "metadata": {},
     "output_type": "execute_result"
    }
   ],
   "source": [
    "len(prediction)"
   ]
  },
  {
   "cell_type": "code",
   "execution_count": 47,
   "metadata": {
    "colab": {
     "base_uri": "https://localhost:8080/",
     "height": 34
    },
    "colab_type": "code",
    "id": "DtFJTmXYM_01",
    "outputId": "49018020-6e17-4f4d-8e0d-15b8bb83ecbe"
   },
   "outputs": [
    {
     "data": {
      "text/plain": [
       "25987"
      ]
     },
     "execution_count": 47,
     "metadata": {},
     "output_type": "execute_result"
    }
   ],
   "source": [
    "len(data.iloc[-25987:,:])"
   ]
  },
  {
   "cell_type": "code",
   "execution_count": 48,
   "metadata": {
    "colab": {
     "base_uri": "https://localhost:8080/",
     "height": 204
    },
    "colab_type": "code",
    "id": "0AsOLHsBNNQf",
    "outputId": "cc5876c0-7e1e-463c-a04c-92fa673b7948"
   },
   "outputs": [
    {
     "data": {
      "text/html": [
       "<div>\n",
       "<style scoped>\n",
       "    .dataframe tbody tr th:only-of-type {\n",
       "        vertical-align: middle;\n",
       "    }\n",
       "\n",
       "    .dataframe tbody tr th {\n",
       "        vertical-align: top;\n",
       "    }\n",
       "\n",
       "    .dataframe thead th {\n",
       "        text-align: right;\n",
       "    }\n",
       "</style>\n",
       "<table border=\"1\" class=\"dataframe\">\n",
       "  <thead>\n",
       "    <tr style=\"text-align: right;\">\n",
       "      <th></th>\n",
       "      <th>Date</th>\n",
       "      <th>Time</th>\n",
       "      <th>Open</th>\n",
       "      <th>High</th>\n",
       "      <th>Low</th>\n",
       "      <th>Close</th>\n",
       "      <th>Volume</th>\n",
       "    </tr>\n",
       "  </thead>\n",
       "  <tbody>\n",
       "    <tr>\n",
       "      <th>103948</th>\n",
       "      <td>2015.10.05</td>\n",
       "      <td>09:00</td>\n",
       "      <td>1.12307</td>\n",
       "      <td>1.12434</td>\n",
       "      <td>1.12254</td>\n",
       "      <td>1.12352</td>\n",
       "      <td>6326</td>\n",
       "    </tr>\n",
       "    <tr>\n",
       "      <th>103949</th>\n",
       "      <td>2015.10.05</td>\n",
       "      <td>10:00</td>\n",
       "      <td>1.12352</td>\n",
       "      <td>1.12593</td>\n",
       "      <td>1.12213</td>\n",
       "      <td>1.12483</td>\n",
       "      <td>11955</td>\n",
       "    </tr>\n",
       "    <tr>\n",
       "      <th>103950</th>\n",
       "      <td>2015.10.05</td>\n",
       "      <td>11:00</td>\n",
       "      <td>1.12484</td>\n",
       "      <td>1.12645</td>\n",
       "      <td>1.12443</td>\n",
       "      <td>1.12582</td>\n",
       "      <td>10939</td>\n",
       "    </tr>\n",
       "    <tr>\n",
       "      <th>103951</th>\n",
       "      <td>2015.10.05</td>\n",
       "      <td>12:00</td>\n",
       "      <td>1.12582</td>\n",
       "      <td>1.12890</td>\n",
       "      <td>1.12577</td>\n",
       "      <td>1.12788</td>\n",
       "      <td>11031</td>\n",
       "    </tr>\n",
       "    <tr>\n",
       "      <th>103952</th>\n",
       "      <td>2015.10.05</td>\n",
       "      <td>13:00</td>\n",
       "      <td>1.12786</td>\n",
       "      <td>1.12804</td>\n",
       "      <td>1.12362</td>\n",
       "      <td>1.12443</td>\n",
       "      <td>9065</td>\n",
       "    </tr>\n",
       "  </tbody>\n",
       "</table>\n",
       "</div>"
      ],
      "text/plain": [
       "              Date   Time     Open     High      Low    Close  Volume\n",
       "103948  2015.10.05  09:00  1.12307  1.12434  1.12254  1.12352    6326\n",
       "103949  2015.10.05  10:00  1.12352  1.12593  1.12213  1.12483   11955\n",
       "103950  2015.10.05  11:00  1.12484  1.12645  1.12443  1.12582   10939\n",
       "103951  2015.10.05  12:00  1.12582  1.12890  1.12577  1.12788   11031\n",
       "103952  2015.10.05  13:00  1.12786  1.12804  1.12362  1.12443    9065"
      ]
     },
     "execution_count": 48,
     "metadata": {},
     "output_type": "execute_result"
    }
   ],
   "source": [
    "data.iloc[-25987:,:].head()"
   ]
  },
  {
   "cell_type": "code",
   "execution_count": 69,
   "metadata": {
    "colab": {
     "base_uri": "https://localhost:8080/",
     "height": 306
    },
    "colab_type": "code",
    "id": "AkH9Z5kSNgXG",
    "outputId": "1f29871f-c663-4264-d3b9-0d2dd8ab353a"
   },
   "outputs": [
    {
     "data": {
      "text/html": [
       "<div>\n",
       "<style scoped>\n",
       "    .dataframe tbody tr th:only-of-type {\n",
       "        vertical-align: middle;\n",
       "    }\n",
       "\n",
       "    .dataframe tbody tr th {\n",
       "        vertical-align: top;\n",
       "    }\n",
       "\n",
       "    .dataframe thead th {\n",
       "        text-align: right;\n",
       "    }\n",
       "</style>\n",
       "<table border=\"1\" class=\"dataframe\">\n",
       "  <thead>\n",
       "    <tr style=\"text-align: right;\">\n",
       "      <th></th>\n",
       "      <th>Date</th>\n",
       "      <th>Time</th>\n",
       "      <th>Open</th>\n",
       "      <th>High</th>\n",
       "      <th>Low</th>\n",
       "      <th>Close</th>\n",
       "      <th>prdiction</th>\n",
       "    </tr>\n",
       "  </thead>\n",
       "  <tbody>\n",
       "    <tr>\n",
       "      <th>103948</th>\n",
       "      <td>2015.10.05</td>\n",
       "      <td>09:00</td>\n",
       "      <td>1.12307</td>\n",
       "      <td>1.12434</td>\n",
       "      <td>1.12254</td>\n",
       "      <td>1.12352</td>\n",
       "      <td>1.131431</td>\n",
       "    </tr>\n",
       "    <tr>\n",
       "      <th>103949</th>\n",
       "      <td>2015.10.05</td>\n",
       "      <td>10:00</td>\n",
       "      <td>1.12352</td>\n",
       "      <td>1.12593</td>\n",
       "      <td>1.12213</td>\n",
       "      <td>1.12483</td>\n",
       "      <td>1.131970</td>\n",
       "    </tr>\n",
       "    <tr>\n",
       "      <th>103950</th>\n",
       "      <td>2015.10.05</td>\n",
       "      <td>11:00</td>\n",
       "      <td>1.12484</td>\n",
       "      <td>1.12645</td>\n",
       "      <td>1.12443</td>\n",
       "      <td>1.12582</td>\n",
       "      <td>1.133332</td>\n",
       "    </tr>\n",
       "    <tr>\n",
       "      <th>103951</th>\n",
       "      <td>2015.10.05</td>\n",
       "      <td>12:00</td>\n",
       "      <td>1.12582</td>\n",
       "      <td>1.12890</td>\n",
       "      <td>1.12577</td>\n",
       "      <td>1.12788</td>\n",
       "      <td>1.134954</td>\n",
       "    </tr>\n",
       "    <tr>\n",
       "      <th>103952</th>\n",
       "      <td>2015.10.05</td>\n",
       "      <td>13:00</td>\n",
       "      <td>1.12786</td>\n",
       "      <td>1.12804</td>\n",
       "      <td>1.12362</td>\n",
       "      <td>1.12443</td>\n",
       "      <td>1.134421</td>\n",
       "    </tr>\n",
       "  </tbody>\n",
       "</table>\n",
       "</div>"
      ],
      "text/plain": [
       "              Date   Time     Open     High      Low    Close  prdiction\n",
       "103948  2015.10.05  09:00  1.12307  1.12434  1.12254  1.12352   1.131431\n",
       "103949  2015.10.05  10:00  1.12352  1.12593  1.12213  1.12483   1.131970\n",
       "103950  2015.10.05  11:00  1.12484  1.12645  1.12443  1.12582   1.133332\n",
       "103951  2015.10.05  12:00  1.12582  1.12890  1.12577  1.12788   1.134954\n",
       "103952  2015.10.05  13:00  1.12786  1.12804  1.12362  1.12443   1.134421"
      ]
     },
     "execution_count": 69,
     "metadata": {},
     "output_type": "execute_result"
    }
   ],
   "source": [
    "result=data.iloc[-25987:,:-1]\n",
    "result['prdiction']=prediction \n",
    "result.head()"
   ]
  },
  {
   "cell_type": "code",
   "execution_count": 70,
   "metadata": {
    "colab": {
     "base_uri": "https://localhost:8080/",
     "height": 204
    },
    "colab_type": "code",
    "id": "T_H6CKGvNxR9",
    "outputId": "c93d7db3-19ee-4266-c484-124017eac654"
   },
   "outputs": [
    {
     "data": {
      "text/html": [
       "<div>\n",
       "<style scoped>\n",
       "    .dataframe tbody tr th:only-of-type {\n",
       "        vertical-align: middle;\n",
       "    }\n",
       "\n",
       "    .dataframe tbody tr th {\n",
       "        vertical-align: top;\n",
       "    }\n",
       "\n",
       "    .dataframe thead th {\n",
       "        text-align: right;\n",
       "    }\n",
       "</style>\n",
       "<table border=\"1\" class=\"dataframe\">\n",
       "  <thead>\n",
       "    <tr style=\"text-align: right;\">\n",
       "      <th></th>\n",
       "      <th>Date</th>\n",
       "      <th>Time</th>\n",
       "      <th>Open</th>\n",
       "      <th>High</th>\n",
       "      <th>Low</th>\n",
       "      <th>Close</th>\n",
       "      <th>prdiction</th>\n",
       "    </tr>\n",
       "  </thead>\n",
       "  <tbody>\n",
       "    <tr>\n",
       "      <th>129930</th>\n",
       "      <td>2019.12.12</td>\n",
       "      <td>17:00</td>\n",
       "      <td>1.11249</td>\n",
       "      <td>1.11362</td>\n",
       "      <td>1.11113</td>\n",
       "      <td>1.11171</td>\n",
       "      <td>1.120569</td>\n",
       "    </tr>\n",
       "    <tr>\n",
       "      <th>129931</th>\n",
       "      <td>2019.12.12</td>\n",
       "      <td>18:00</td>\n",
       "      <td>1.11171</td>\n",
       "      <td>1.11214</td>\n",
       "      <td>1.11104</td>\n",
       "      <td>1.11142</td>\n",
       "      <td>1.119782</td>\n",
       "    </tr>\n",
       "    <tr>\n",
       "      <th>129932</th>\n",
       "      <td>2019.12.12</td>\n",
       "      <td>19:00</td>\n",
       "      <td>1.11143</td>\n",
       "      <td>1.11171</td>\n",
       "      <td>1.11080</td>\n",
       "      <td>1.11101</td>\n",
       "      <td>1.119458</td>\n",
       "    </tr>\n",
       "    <tr>\n",
       "      <th>129933</th>\n",
       "      <td>2019.12.12</td>\n",
       "      <td>20:00</td>\n",
       "      <td>1.11101</td>\n",
       "      <td>1.11133</td>\n",
       "      <td>1.11029</td>\n",
       "      <td>1.11100</td>\n",
       "      <td>1.119013</td>\n",
       "    </tr>\n",
       "    <tr>\n",
       "      <th>129934</th>\n",
       "      <td>2019.12.12</td>\n",
       "      <td>21:00</td>\n",
       "      <td>1.11098</td>\n",
       "      <td>1.11131</td>\n",
       "      <td>1.11039</td>\n",
       "      <td>1.11113</td>\n",
       "      <td>1.119034</td>\n",
       "    </tr>\n",
       "  </tbody>\n",
       "</table>\n",
       "</div>"
      ],
      "text/plain": [
       "              Date   Time     Open     High      Low    Close  prdiction\n",
       "129930  2019.12.12  17:00  1.11249  1.11362  1.11113  1.11171   1.120569\n",
       "129931  2019.12.12  18:00  1.11171  1.11214  1.11104  1.11142   1.119782\n",
       "129932  2019.12.12  19:00  1.11143  1.11171  1.11080  1.11101   1.119458\n",
       "129933  2019.12.12  20:00  1.11101  1.11133  1.11029  1.11100   1.119013\n",
       "129934  2019.12.12  21:00  1.11098  1.11131  1.11039  1.11113   1.119034"
      ]
     },
     "execution_count": 70,
     "metadata": {},
     "output_type": "execute_result"
    }
   ],
   "source": [
    "result.tail()"
   ]
  },
  {
   "cell_type": "code",
   "execution_count": 71,
   "metadata": {
    "colab": {
     "base_uri": "https://localhost:8080/",
     "height": 374
    },
    "colab_type": "code",
    "id": "fia_luCPN59r",
    "outputId": "30bc3cda-adbb-4145-ab38-95c23605c289"
   },
   "outputs": [
    {
     "data": {
      "image/png": "[encoded data removed]",
      "text/plain": [
       "<Figure size 1296x432 with 1 Axes>"
      ]
     },
     "metadata": {
      "needs_background": "light"
     },
     "output_type": "display_data"
    }
   ],
   "source": [
    "# plot\n",
    "plt.figure(figsize=(18,6))\n",
    "plt.plot([x for x in range(0,100)], prediction[:100], linestyle='-', color='blue', label='prediction')\n",
    "plt.plot([x for x in range(0,100)], test_y[:100], linestyle='-', color='black', label='actual')\n",
    "plt.legend(loc=1, prop={'size': 12})\n",
    "plt.show()\n"
   ]
  },
  {
   "cell_type": "code",
   "execution_count": 66,
   "metadata": {},
   "outputs": [],
   "source": [
    "target=[]\n",
    "for i in range(len(result)):\n",
    "    if result.iloc[i,5]<result.iloc[i,7]:\n",
    "        target.append(1)\n",
    "    else:\n",
    "        target.append(0)\n",
    "        "
   ]
  },
  {
   "cell_type": "code",
   "execution_count": 72,
   "metadata": {},
   "outputs": [
    {
     "data": {
      "text/html": [
       "<div>\n",
       "<style scoped>\n",
       "    .dataframe tbody tr th:only-of-type {\n",
       "        vertical-align: middle;\n",
       "    }\n",
       "\n",
       "    .dataframe tbody tr th {\n",
       "        vertical-align: top;\n",
       "    }\n",
       "\n",
       "    .dataframe thead th {\n",
       "        text-align: right;\n",
       "    }\n",
       "</style>\n",
       "<table border=\"1\" class=\"dataframe\">\n",
       "  <thead>\n",
       "    <tr style=\"text-align: right;\">\n",
       "      <th></th>\n",
       "      <th>Date</th>\n",
       "      <th>Time</th>\n",
       "      <th>Open</th>\n",
       "      <th>High</th>\n",
       "      <th>Low</th>\n",
       "      <th>Close</th>\n",
       "      <th>prdiction</th>\n",
       "      <th>target</th>\n",
       "    </tr>\n",
       "  </thead>\n",
       "  <tbody>\n",
       "    <tr>\n",
       "      <th>103948</th>\n",
       "      <td>2015.10.05</td>\n",
       "      <td>09:00</td>\n",
       "      <td>1.12307</td>\n",
       "      <td>1.12434</td>\n",
       "      <td>1.12254</td>\n",
       "      <td>1.12352</td>\n",
       "      <td>1.131431</td>\n",
       "      <td>1</td>\n",
       "    </tr>\n",
       "    <tr>\n",
       "      <th>103949</th>\n",
       "      <td>2015.10.05</td>\n",
       "      <td>10:00</td>\n",
       "      <td>1.12352</td>\n",
       "      <td>1.12593</td>\n",
       "      <td>1.12213</td>\n",
       "      <td>1.12483</td>\n",
       "      <td>1.131970</td>\n",
       "      <td>1</td>\n",
       "    </tr>\n",
       "    <tr>\n",
       "      <th>103950</th>\n",
       "      <td>2015.10.05</td>\n",
       "      <td>11:00</td>\n",
       "      <td>1.12484</td>\n",
       "      <td>1.12645</td>\n",
       "      <td>1.12443</td>\n",
       "      <td>1.12582</td>\n",
       "      <td>1.133332</td>\n",
       "      <td>1</td>\n",
       "    </tr>\n",
       "    <tr>\n",
       "      <th>103951</th>\n",
       "      <td>2015.10.05</td>\n",
       "      <td>12:00</td>\n",
       "      <td>1.12582</td>\n",
       "      <td>1.12890</td>\n",
       "      <td>1.12577</td>\n",
       "      <td>1.12788</td>\n",
       "      <td>1.134954</td>\n",
       "      <td>1</td>\n",
       "    </tr>\n",
       "    <tr>\n",
       "      <th>103952</th>\n",
       "      <td>2015.10.05</td>\n",
       "      <td>13:00</td>\n",
       "      <td>1.12786</td>\n",
       "      <td>1.12804</td>\n",
       "      <td>1.12362</td>\n",
       "      <td>1.12443</td>\n",
       "      <td>1.134421</td>\n",
       "      <td>1</td>\n",
       "    </tr>\n",
       "  </tbody>\n",
       "</table>\n",
       "</div>"
      ],
      "text/plain": [
       "              Date   Time     Open     High      Low    Close  prdiction  \\\n",
       "103948  2015.10.05  09:00  1.12307  1.12434  1.12254  1.12352   1.131431   \n",
       "103949  2015.10.05  10:00  1.12352  1.12593  1.12213  1.12483   1.131970   \n",
       "103950  2015.10.05  11:00  1.12484  1.12645  1.12443  1.12582   1.133332   \n",
       "103951  2015.10.05  12:00  1.12582  1.12890  1.12577  1.12788   1.134954   \n",
       "103952  2015.10.05  13:00  1.12786  1.12804  1.12362  1.12443   1.134421   \n",
       "\n",
       "        target  \n",
       "103948       1  \n",
       "103949       1  \n",
       "103950       1  \n",
       "103951       1  \n",
       "103952       1  "
      ]
     },
     "execution_count": 72,
     "metadata": {},
     "output_type": "execute_result"
    }
   ],
   "source": [
    "result['target']=target\n",
    "result.head()\n"
   ]
  },
  {
   "cell_type": "code",
   "execution_count": 73,
   "metadata": {},
   "outputs": [
    {
     "data": {
      "text/plain": [
       "1    25985\n",
       "0        2\n",
       "Name: target, dtype: int64"
      ]
     },
     "execution_count": 73,
     "metadata": {},
     "output_type": "execute_result"
    }
   ],
   "source": [
    "result['target'].value_counts()"
   ]
  },
  {
   "cell_type": "code",
   "execution_count": 78,
   "metadata": {},
   "outputs": [],
   "source": [
    "result.to_excel('result.xlsx')"
   ]
  },
  {
   "cell_type": "code",
   "execution_count": 62,
   "metadata": {
    "colab": {
     "base_uri": "https://localhost:8080/",
     "height": 68
    },
    "colab_type": "code",
    "id": "zmjfwQST6sha",
    "outputId": "b68fb6da-3cbf-40f4-9f7d-d788182a78d3"
   },
   "outputs": [
    {
     "name": "stdout",
     "output_type": "stream",
     "text": [
      "ls: cannot access 'drive/My Drive/foxi_data': No such file or directory\n"
     ]
    }
   ],
   "source": [
    "!ls 'drive/My Drive/foxi_data'"
   ]
  },
  {
   "cell_type": "code",
   "execution_count": 95,
   "metadata": {
    "colab": {},
    "colab_type": "code",
    "id": "VmHg1sWG5qxd"
   },
   "outputs": [],
   "source": [
    "test_data=pd.read_csv('drive/My Drive/foxi_data/DEUIDXEUR60.csv',sep='\\t')"
   ]
  },
  {
   "cell_type": "code",
   "execution_count": 96,
   "metadata": {
    "colab": {
     "base_uri": "https://localhost:8080/",
     "height": 204
    },
    "colab_type": "code",
    "id": "AXJUd19O7VmR",
    "outputId": "83b4831a-c003-46a9-e18e-0a18ba521424"
   },
   "outputs": [
    {
     "data": {
      "text/html": [
       "<div>\n",
       "<style scoped>\n",
       "    .dataframe tbody tr th:only-of-type {\n",
       "        vertical-align: middle;\n",
       "    }\n",
       "\n",
       "    .dataframe tbody tr th {\n",
       "        vertical-align: top;\n",
       "    }\n",
       "\n",
       "    .dataframe thead th {\n",
       "        text-align: right;\n",
       "    }\n",
       "</style>\n",
       "<table border=\"1\" class=\"dataframe\">\n",
       "  <thead>\n",
       "    <tr style=\"text-align: right;\">\n",
       "      <th></th>\n",
       "      <th>2012-01-19 16:00</th>\n",
       "      <th>6401.96</th>\n",
       "      <th>6416.91</th>\n",
       "      <th>6397.65</th>\n",
       "      <th>6416.26</th>\n",
       "      <th>791</th>\n",
       "    </tr>\n",
       "  </thead>\n",
       "  <tbody>\n",
       "    <tr>\n",
       "      <th>0</th>\n",
       "      <td>2012-01-19 17:00</td>\n",
       "      <td>6416.26</td>\n",
       "      <td>6416.26</td>\n",
       "      <td>6416.26</td>\n",
       "      <td>6416.26</td>\n",
       "      <td>1</td>\n",
       "    </tr>\n",
       "    <tr>\n",
       "      <th>1</th>\n",
       "      <td>2012-01-19 18:00</td>\n",
       "      <td>6416.26</td>\n",
       "      <td>6416.26</td>\n",
       "      <td>6416.26</td>\n",
       "      <td>6416.26</td>\n",
       "      <td>1</td>\n",
       "    </tr>\n",
       "    <tr>\n",
       "      <th>2</th>\n",
       "      <td>2012-01-19 21:00</td>\n",
       "      <td>6416.26</td>\n",
       "      <td>6416.26</td>\n",
       "      <td>6416.26</td>\n",
       "      <td>6416.26</td>\n",
       "      <td>1</td>\n",
       "    </tr>\n",
       "    <tr>\n",
       "      <th>3</th>\n",
       "      <td>2012-01-19 23:00</td>\n",
       "      <td>6416.26</td>\n",
       "      <td>6416.26</td>\n",
       "      <td>6416.26</td>\n",
       "      <td>6416.26</td>\n",
       "      <td>1</td>\n",
       "    </tr>\n",
       "    <tr>\n",
       "      <th>4</th>\n",
       "      <td>2012-01-20 07:00</td>\n",
       "      <td>6416.26</td>\n",
       "      <td>6416.26</td>\n",
       "      <td>6416.26</td>\n",
       "      <td>6416.26</td>\n",
       "      <td>1</td>\n",
       "    </tr>\n",
       "  </tbody>\n",
       "</table>\n",
       "</div>"
      ],
      "text/plain": [
       "   2012-01-19 16:00  6401.96  6416.91  6397.65  6416.26  791\n",
       "0  2012-01-19 17:00  6416.26  6416.26  6416.26  6416.26    1\n",
       "1  2012-01-19 18:00  6416.26  6416.26  6416.26  6416.26    1\n",
       "2  2012-01-19 21:00  6416.26  6416.26  6416.26  6416.26    1\n",
       "3  2012-01-19 23:00  6416.26  6416.26  6416.26  6416.26    1\n",
       "4  2012-01-20 07:00  6416.26  6416.26  6416.26  6416.26    1"
      ]
     },
     "execution_count": 96,
     "metadata": {
      "tags": []
     },
     "output_type": "execute_result"
    }
   ],
   "source": [
    "test_data.head()"
   ]
  },
  {
   "cell_type": "code",
   "execution_count": 104,
   "metadata": {
    "colab": {},
    "colab_type": "code",
    "id": "bx2EbdQt8V56"
   },
   "outputs": [],
   "source": [
    "test_X=test_data.iloc[:,[1,2,3]].values\n",
    "test_y=test_data.iloc[:,4].values"
   ]
  },
  {
   "cell_type": "markdown",
   "metadata": {
    "colab_type": "text",
    "id": "zU6pLZvO91Om"
   },
   "source": [
    "# Preprocessing\n"
   ]
  },
  {
   "cell_type": "code",
   "execution_count": 98,
   "metadata": {
    "colab": {
     "base_uri": "https://localhost:8080/",
     "height": 34
    },
    "colab_type": "code",
    "id": "L3vzsihS-YST",
    "outputId": "12eb5dcf-c9ed-4eb1-c48a-fdbde638ca0f"
   },
   "outputs": [
    {
     "data": {
      "text/plain": [
       "(38610, 3)"
      ]
     },
     "execution_count": 98,
     "metadata": {
      "tags": []
     },
     "output_type": "execute_result"
    }
   ],
   "source": [
    "test_X.shape"
   ]
  },
  {
   "cell_type": "code",
   "execution_count": 99,
   "metadata": {
    "colab": {},
    "colab_type": "code",
    "id": "GcJSD5t69qjw"
   },
   "outputs": [],
   "source": [
    "imputer = SimpleImputer(missing_values=np.nan, strategy='mean')\n",
    "test_X[:,:]=imputer.fit_transform(test_X[:,:])"
   ]
  },
  {
   "cell_type": "code",
   "execution_count": 100,
   "metadata": {
    "colab": {},
    "colab_type": "code",
    "id": "SfxuUn0q649Q"
   },
   "outputs": [],
   "source": [
    "test_X=featurescaling.transform(test_X)"
   ]
  },
  {
   "cell_type": "code",
   "execution_count": 101,
   "metadata": {
    "colab": {},
    "colab_type": "code",
    "id": "uqeLubVTArFd"
   },
   "outputs": [],
   "source": [
    "test_X=test_X.reshape(test_X.shape[0],n_mins,n_features)\n"
   ]
  },
  {
   "cell_type": "code",
   "execution_count": 105,
   "metadata": {
    "colab": {
     "base_uri": "https://localhost:8080/",
     "height": 663
    },
    "colab_type": "code",
    "id": "Y6UwvboJ_Qi_",
    "outputId": "e25a6428-a034-4364-ac1a-d2efa31f55a1"
   },
   "outputs": [
    {
     "ename": "ValueError",
     "evalue": "ignored",
     "output_type": "error",
     "traceback": [
      "\u001b[0;31m---------------------------------------------------------------------------\u001b[0m",
      "\u001b[0;31mValueError\u001b[0m                                Traceback (most recent call last)",
      "\u001b[0;32m<ipython-input-105-01fc939955dc>\u001b[0m in \u001b[0;36m<module>\u001b[0;34m()\u001b[0m\n\u001b[0;32m----> 1\u001b[0;31m \u001b[0mpred\u001b[0m\u001b[0;34m=\u001b[0m\u001b[0mmodel\u001b[0m\u001b[0;34m.\u001b[0m\u001b[0mpredict\u001b[0m\u001b[0;34m(\u001b[0m\u001b[0mtest_X\u001b[0m\u001b[0;34m)\u001b[0m\u001b[0;34m\u001b[0m\u001b[0;34m\u001b[0m\u001b[0m\n\u001b[0m",
      "\u001b[0;32m/usr/local/lib/python3.6/dist-packages/tensorflow/python/keras/engine/training.py\u001b[0m in \u001b[0;36m_method_wrapper\u001b[0;34m(self, *args, **kwargs)\u001b[0m\n\u001b[1;32m    128\u001b[0m       raise ValueError('{} is not supported in multi-worker mode.'.format(\n\u001b[1;32m    129\u001b[0m           method.__name__))\n\u001b[0;32m--> 130\u001b[0;31m     \u001b[0;32mreturn\u001b[0m \u001b[0mmethod\u001b[0m\u001b[0;34m(\u001b[0m\u001b[0mself\u001b[0m\u001b[0;34m,\u001b[0m \u001b[0;34m*\u001b[0m\u001b[0margs\u001b[0m\u001b[0;34m,\u001b[0m \u001b[0;34m**\u001b[0m\u001b[0mkwargs\u001b[0m\u001b[0;34m)\u001b[0m\u001b[0;34m\u001b[0m\u001b[0;34m\u001b[0m\u001b[0m\n\u001b[0m\u001b[1;32m    131\u001b[0m \u001b[0;34m\u001b[0m\u001b[0m\n\u001b[1;32m    132\u001b[0m   return tf_decorator.make_decorator(\n",
      "\u001b[0;32m/usr/local/lib/python3.6/dist-packages/tensorflow/python/keras/engine/training.py\u001b[0m in \u001b[0;36mpredict\u001b[0;34m(self, x, batch_size, verbose, steps, callbacks, max_queue_size, workers, use_multiprocessing)\u001b[0m\n\u001b[1;32m   1597\u001b[0m           \u001b[0;32mfor\u001b[0m \u001b[0mstep\u001b[0m \u001b[0;32min\u001b[0m \u001b[0mdata_handler\u001b[0m\u001b[0;34m.\u001b[0m\u001b[0msteps\u001b[0m\u001b[0;34m(\u001b[0m\u001b[0;34m)\u001b[0m\u001b[0;34m:\u001b[0m\u001b[0;34m\u001b[0m\u001b[0;34m\u001b[0m\u001b[0m\n\u001b[1;32m   1598\u001b[0m             \u001b[0mcallbacks\u001b[0m\u001b[0;34m.\u001b[0m\u001b[0mon_predict_batch_begin\u001b[0m\u001b[0;34m(\u001b[0m\u001b[0mstep\u001b[0m\u001b[0;34m)\u001b[0m\u001b[0;34m\u001b[0m\u001b[0;34m\u001b[0m\u001b[0m\n\u001b[0;32m-> 1599\u001b[0;31m             \u001b[0mtmp_batch_outputs\u001b[0m \u001b[0;34m=\u001b[0m \u001b[0mpredict_function\u001b[0m\u001b[0;34m(\u001b[0m\u001b[0miterator\u001b[0m\u001b[0;34m)\u001b[0m\u001b[0;34m\u001b[0m\u001b[0;34m\u001b[0m\u001b[0m\n\u001b[0m\u001b[1;32m   1600\u001b[0m             \u001b[0;32mif\u001b[0m \u001b[0mdata_handler\u001b[0m\u001b[0;34m.\u001b[0m\u001b[0mshould_sync\u001b[0m\u001b[0;34m:\u001b[0m\u001b[0;34m\u001b[0m\u001b[0;34m\u001b[0m\u001b[0m\n\u001b[1;32m   1601\u001b[0m               \u001b[0mcontext\u001b[0m\u001b[0;34m.\u001b[0m\u001b[0masync_wait\u001b[0m\u001b[0;34m(\u001b[0m\u001b[0;34m)\u001b[0m\u001b[0;34m\u001b[0m\u001b[0;34m\u001b[0m\u001b[0m\n",
      "\u001b[0;32m/usr/local/lib/python3.6/dist-packages/tensorflow/python/eager/def_function.py\u001b[0m in \u001b[0;36m__call__\u001b[0;34m(self, *args, **kwds)\u001b[0m\n\u001b[1;32m    778\u001b[0m       \u001b[0;32melse\u001b[0m\u001b[0;34m:\u001b[0m\u001b[0;34m\u001b[0m\u001b[0;34m\u001b[0m\u001b[0m\n\u001b[1;32m    779\u001b[0m         \u001b[0mcompiler\u001b[0m \u001b[0;34m=\u001b[0m \u001b[0;34m\"nonXla\"\u001b[0m\u001b[0;34m\u001b[0m\u001b[0;34m\u001b[0m\u001b[0m\n\u001b[0;32m--> 780\u001b[0;31m         \u001b[0mresult\u001b[0m \u001b[0;34m=\u001b[0m \u001b[0mself\u001b[0m\u001b[0;34m.\u001b[0m\u001b[0m_call\u001b[0m\u001b[0;34m(\u001b[0m\u001b[0;34m*\u001b[0m\u001b[0margs\u001b[0m\u001b[0;34m,\u001b[0m \u001b[0;34m**\u001b[0m\u001b[0mkwds\u001b[0m\u001b[0;34m)\u001b[0m\u001b[0;34m\u001b[0m\u001b[0;34m\u001b[0m\u001b[0m\n\u001b[0m\u001b[1;32m    781\u001b[0m \u001b[0;34m\u001b[0m\u001b[0m\n\u001b[1;32m    782\u001b[0m       \u001b[0mnew_tracing_count\u001b[0m \u001b[0;34m=\u001b[0m \u001b[0mself\u001b[0m\u001b[0;34m.\u001b[0m\u001b[0m_get_tracing_count\u001b[0m\u001b[0;34m(\u001b[0m\u001b[0;34m)\u001b[0m\u001b[0;34m\u001b[0m\u001b[0;34m\u001b[0m\u001b[0m\n",
      "\u001b[0;32m/usr/local/lib/python3.6/dist-packages/tensorflow/python/eager/def_function.py\u001b[0m in \u001b[0;36m_call\u001b[0;34m(self, *args, **kwds)\u001b[0m\n\u001b[1;32m    812\u001b[0m       \u001b[0;31m# In this case we have not created variables on the first call. So we can\u001b[0m\u001b[0;34m\u001b[0m\u001b[0;34m\u001b[0m\u001b[0;34m\u001b[0m\u001b[0m\n\u001b[1;32m    813\u001b[0m       \u001b[0;31m# run the first trace but we should fail if variables are created.\u001b[0m\u001b[0;34m\u001b[0m\u001b[0;34m\u001b[0m\u001b[0;34m\u001b[0m\u001b[0m\n\u001b[0;32m--> 814\u001b[0;31m       \u001b[0mresults\u001b[0m \u001b[0;34m=\u001b[0m \u001b[0mself\u001b[0m\u001b[0;34m.\u001b[0m\u001b[0m_stateful_fn\u001b[0m\u001b[0;34m(\u001b[0m\u001b[0;34m*\u001b[0m\u001b[0margs\u001b[0m\u001b[0;34m,\u001b[0m \u001b[0;34m**\u001b[0m\u001b[0mkwds\u001b[0m\u001b[0;34m)\u001b[0m\u001b[0;34m\u001b[0m\u001b[0;34m\u001b[0m\u001b[0m\n\u001b[0m\u001b[1;32m    815\u001b[0m       \u001b[0;32mif\u001b[0m \u001b[0mself\u001b[0m\u001b[0;34m.\u001b[0m\u001b[0m_created_variables\u001b[0m\u001b[0;34m:\u001b[0m\u001b[0;34m\u001b[0m\u001b[0;34m\u001b[0m\u001b[0m\n\u001b[1;32m    816\u001b[0m         raise ValueError(\"Creating variables on a non-first call to a function\"\n",
      "\u001b[0;32m/usr/local/lib/python3.6/dist-packages/tensorflow/python/eager/function.py\u001b[0m in \u001b[0;36m__call__\u001b[0;34m(self, *args, **kwargs)\u001b[0m\n\u001b[1;32m   2826\u001b[0m     \u001b[0;34m\"\"\"Calls a graph function specialized to the inputs.\"\"\"\u001b[0m\u001b[0;34m\u001b[0m\u001b[0;34m\u001b[0m\u001b[0m\n\u001b[1;32m   2827\u001b[0m     \u001b[0;32mwith\u001b[0m \u001b[0mself\u001b[0m\u001b[0;34m.\u001b[0m\u001b[0m_lock\u001b[0m\u001b[0;34m:\u001b[0m\u001b[0;34m\u001b[0m\u001b[0;34m\u001b[0m\u001b[0m\n\u001b[0;32m-> 2828\u001b[0;31m       \u001b[0mgraph_function\u001b[0m\u001b[0;34m,\u001b[0m \u001b[0margs\u001b[0m\u001b[0;34m,\u001b[0m \u001b[0mkwargs\u001b[0m \u001b[0;34m=\u001b[0m \u001b[0mself\u001b[0m\u001b[0;34m.\u001b[0m\u001b[0m_maybe_define_function\u001b[0m\u001b[0;34m(\u001b[0m\u001b[0margs\u001b[0m\u001b[0;34m,\u001b[0m \u001b[0mkwargs\u001b[0m\u001b[0;34m)\u001b[0m\u001b[0;34m\u001b[0m\u001b[0;34m\u001b[0m\u001b[0m\n\u001b[0m\u001b[1;32m   2829\u001b[0m     \u001b[0;32mreturn\u001b[0m \u001b[0mgraph_function\u001b[0m\u001b[0;34m.\u001b[0m\u001b[0m_filtered_call\u001b[0m\u001b[0;34m(\u001b[0m\u001b[0margs\u001b[0m\u001b[0;34m,\u001b[0m \u001b[0mkwargs\u001b[0m\u001b[0;34m)\u001b[0m  \u001b[0;31m# pylint: disable=protected-access\u001b[0m\u001b[0;34m\u001b[0m\u001b[0;34m\u001b[0m\u001b[0m\n\u001b[1;32m   2830\u001b[0m \u001b[0;34m\u001b[0m\u001b[0m\n",
      "\u001b[0;32m/usr/local/lib/python3.6/dist-packages/tensorflow/python/eager/function.py\u001b[0m in \u001b[0;36m_maybe_define_function\u001b[0;34m(self, args, kwargs)\u001b[0m\n\u001b[1;32m   3208\u001b[0m           \u001b[0;32mand\u001b[0m \u001b[0mself\u001b[0m\u001b[0;34m.\u001b[0m\u001b[0minput_signature\u001b[0m \u001b[0;32mis\u001b[0m \u001b[0;32mNone\u001b[0m\u001b[0;34m\u001b[0m\u001b[0;34m\u001b[0m\u001b[0m\n\u001b[1;32m   3209\u001b[0m           and call_context_key in self._function_cache.missed):\n\u001b[0;32m-> 3210\u001b[0;31m         \u001b[0;32mreturn\u001b[0m \u001b[0mself\u001b[0m\u001b[0;34m.\u001b[0m\u001b[0m_define_function_with_shape_relaxation\u001b[0m\u001b[0;34m(\u001b[0m\u001b[0margs\u001b[0m\u001b[0;34m,\u001b[0m \u001b[0mkwargs\u001b[0m\u001b[0;34m)\u001b[0m\u001b[0;34m\u001b[0m\u001b[0;34m\u001b[0m\u001b[0m\n\u001b[0m\u001b[1;32m   3211\u001b[0m \u001b[0;34m\u001b[0m\u001b[0m\n\u001b[1;32m   3212\u001b[0m       \u001b[0mself\u001b[0m\u001b[0;34m.\u001b[0m\u001b[0m_function_cache\u001b[0m\u001b[0;34m.\u001b[0m\u001b[0mmissed\u001b[0m\u001b[0;34m.\u001b[0m\u001b[0madd\u001b[0m\u001b[0;34m(\u001b[0m\u001b[0mcall_context_key\u001b[0m\u001b[0;34m)\u001b[0m\u001b[0;34m\u001b[0m\u001b[0;34m\u001b[0m\u001b[0m\n",
      "\u001b[0;32m/usr/local/lib/python3.6/dist-packages/tensorflow/python/eager/function.py\u001b[0m in \u001b[0;36m_define_function_with_shape_relaxation\u001b[0;34m(self, args, kwargs)\u001b[0m\n\u001b[1;32m   3140\u001b[0m \u001b[0;34m\u001b[0m\u001b[0m\n\u001b[1;32m   3141\u001b[0m     graph_function = self._create_graph_function(\n\u001b[0;32m-> 3142\u001b[0;31m         args, kwargs, override_flat_arg_shapes=relaxed_arg_shapes)\n\u001b[0m\u001b[1;32m   3143\u001b[0m     \u001b[0mself\u001b[0m\u001b[0;34m.\u001b[0m\u001b[0m_function_cache\u001b[0m\u001b[0;34m.\u001b[0m\u001b[0marg_relaxed\u001b[0m\u001b[0;34m[\u001b[0m\u001b[0mrank_only_cache_key\u001b[0m\u001b[0;34m]\u001b[0m \u001b[0;34m=\u001b[0m \u001b[0mgraph_function\u001b[0m\u001b[0;34m\u001b[0m\u001b[0;34m\u001b[0m\u001b[0m\n\u001b[1;32m   3144\u001b[0m \u001b[0;34m\u001b[0m\u001b[0m\n",
      "\u001b[0;32m/usr/local/lib/python3.6/dist-packages/tensorflow/python/eager/function.py\u001b[0m in \u001b[0;36m_create_graph_function\u001b[0;34m(self, args, kwargs, override_flat_arg_shapes)\u001b[0m\n\u001b[1;32m   3073\u001b[0m             \u001b[0marg_names\u001b[0m\u001b[0;34m=\u001b[0m\u001b[0marg_names\u001b[0m\u001b[0;34m,\u001b[0m\u001b[0;34m\u001b[0m\u001b[0;34m\u001b[0m\u001b[0m\n\u001b[1;32m   3074\u001b[0m             \u001b[0moverride_flat_arg_shapes\u001b[0m\u001b[0;34m=\u001b[0m\u001b[0moverride_flat_arg_shapes\u001b[0m\u001b[0;34m,\u001b[0m\u001b[0;34m\u001b[0m\u001b[0;34m\u001b[0m\u001b[0m\n\u001b[0;32m-> 3075\u001b[0;31m             capture_by_value=self._capture_by_value),\n\u001b[0m\u001b[1;32m   3076\u001b[0m         \u001b[0mself\u001b[0m\u001b[0;34m.\u001b[0m\u001b[0m_function_attributes\u001b[0m\u001b[0;34m,\u001b[0m\u001b[0;34m\u001b[0m\u001b[0;34m\u001b[0m\u001b[0m\n\u001b[1;32m   3077\u001b[0m         \u001b[0mfunction_spec\u001b[0m\u001b[0;34m=\u001b[0m\u001b[0mself\u001b[0m\u001b[0;34m.\u001b[0m\u001b[0mfunction_spec\u001b[0m\u001b[0;34m,\u001b[0m\u001b[0;34m\u001b[0m\u001b[0;34m\u001b[0m\u001b[0m\n",
      "\u001b[0;32m/usr/local/lib/python3.6/dist-packages/tensorflow/python/framework/func_graph.py\u001b[0m in \u001b[0;36mfunc_graph_from_py_func\u001b[0;34m(name, python_func, args, kwargs, signature, func_graph, autograph, autograph_options, add_control_dependencies, arg_names, op_return_value, collections, capture_by_value, override_flat_arg_shapes)\u001b[0m\n\u001b[1;32m    984\u001b[0m         \u001b[0m_\u001b[0m\u001b[0;34m,\u001b[0m \u001b[0moriginal_func\u001b[0m \u001b[0;34m=\u001b[0m \u001b[0mtf_decorator\u001b[0m\u001b[0;34m.\u001b[0m\u001b[0munwrap\u001b[0m\u001b[0;34m(\u001b[0m\u001b[0mpython_func\u001b[0m\u001b[0;34m)\u001b[0m\u001b[0;34m\u001b[0m\u001b[0;34m\u001b[0m\u001b[0m\n\u001b[1;32m    985\u001b[0m \u001b[0;34m\u001b[0m\u001b[0m\n\u001b[0;32m--> 986\u001b[0;31m       \u001b[0mfunc_outputs\u001b[0m \u001b[0;34m=\u001b[0m \u001b[0mpython_func\u001b[0m\u001b[0;34m(\u001b[0m\u001b[0;34m*\u001b[0m\u001b[0mfunc_args\u001b[0m\u001b[0;34m,\u001b[0m \u001b[0;34m**\u001b[0m\u001b[0mfunc_kwargs\u001b[0m\u001b[0;34m)\u001b[0m\u001b[0;34m\u001b[0m\u001b[0;34m\u001b[0m\u001b[0m\n\u001b[0m\u001b[1;32m    987\u001b[0m \u001b[0;34m\u001b[0m\u001b[0m\n\u001b[1;32m    988\u001b[0m       \u001b[0;31m# invariant: `func_outputs` contains only Tensors, CompositeTensors,\u001b[0m\u001b[0;34m\u001b[0m\u001b[0;34m\u001b[0m\u001b[0;34m\u001b[0m\u001b[0m\n",
      "\u001b[0;32m/usr/local/lib/python3.6/dist-packages/tensorflow/python/eager/def_function.py\u001b[0m in \u001b[0;36mwrapped_fn\u001b[0;34m(*args, **kwds)\u001b[0m\n\u001b[1;32m    598\u001b[0m         \u001b[0;31m# __wrapped__ allows AutoGraph to swap in a converted function. We give\u001b[0m\u001b[0;34m\u001b[0m\u001b[0;34m\u001b[0m\u001b[0;34m\u001b[0m\u001b[0m\n\u001b[1;32m    599\u001b[0m         \u001b[0;31m# the function a weak reference to itself to avoid a reference cycle.\u001b[0m\u001b[0;34m\u001b[0m\u001b[0;34m\u001b[0m\u001b[0;34m\u001b[0m\u001b[0m\n\u001b[0;32m--> 600\u001b[0;31m         \u001b[0;32mreturn\u001b[0m \u001b[0mweak_wrapped_fn\u001b[0m\u001b[0;34m(\u001b[0m\u001b[0;34m)\u001b[0m\u001b[0;34m.\u001b[0m\u001b[0m__wrapped__\u001b[0m\u001b[0;34m(\u001b[0m\u001b[0;34m*\u001b[0m\u001b[0margs\u001b[0m\u001b[0;34m,\u001b[0m \u001b[0;34m**\u001b[0m\u001b[0mkwds\u001b[0m\u001b[0;34m)\u001b[0m\u001b[0;34m\u001b[0m\u001b[0;34m\u001b[0m\u001b[0m\n\u001b[0m\u001b[1;32m    601\u001b[0m     \u001b[0mweak_wrapped_fn\u001b[0m \u001b[0;34m=\u001b[0m \u001b[0mweakref\u001b[0m\u001b[0;34m.\u001b[0m\u001b[0mref\u001b[0m\u001b[0;34m(\u001b[0m\u001b[0mwrapped_fn\u001b[0m\u001b[0;34m)\u001b[0m\u001b[0;34m\u001b[0m\u001b[0;34m\u001b[0m\u001b[0m\n\u001b[1;32m    602\u001b[0m \u001b[0;34m\u001b[0m\u001b[0m\n",
      "\u001b[0;32m/usr/local/lib/python3.6/dist-packages/tensorflow/python/framework/func_graph.py\u001b[0m in \u001b[0;36mwrapper\u001b[0;34m(*args, **kwargs)\u001b[0m\n\u001b[1;32m    971\u001b[0m           \u001b[0;32mexcept\u001b[0m \u001b[0mException\u001b[0m \u001b[0;32mas\u001b[0m \u001b[0me\u001b[0m\u001b[0;34m:\u001b[0m  \u001b[0;31m# pylint:disable=broad-except\u001b[0m\u001b[0;34m\u001b[0m\u001b[0;34m\u001b[0m\u001b[0m\n\u001b[1;32m    972\u001b[0m             \u001b[0;32mif\u001b[0m \u001b[0mhasattr\u001b[0m\u001b[0;34m(\u001b[0m\u001b[0me\u001b[0m\u001b[0;34m,\u001b[0m \u001b[0;34m\"ag_error_metadata\"\u001b[0m\u001b[0;34m)\u001b[0m\u001b[0;34m:\u001b[0m\u001b[0;34m\u001b[0m\u001b[0;34m\u001b[0m\u001b[0m\n\u001b[0;32m--> 973\u001b[0;31m               \u001b[0;32mraise\u001b[0m \u001b[0me\u001b[0m\u001b[0;34m.\u001b[0m\u001b[0mag_error_metadata\u001b[0m\u001b[0;34m.\u001b[0m\u001b[0mto_exception\u001b[0m\u001b[0;34m(\u001b[0m\u001b[0me\u001b[0m\u001b[0;34m)\u001b[0m\u001b[0;34m\u001b[0m\u001b[0;34m\u001b[0m\u001b[0m\n\u001b[0m\u001b[1;32m    974\u001b[0m             \u001b[0;32melse\u001b[0m\u001b[0;34m:\u001b[0m\u001b[0;34m\u001b[0m\u001b[0;34m\u001b[0m\u001b[0m\n\u001b[1;32m    975\u001b[0m               \u001b[0;32mraise\u001b[0m\u001b[0;34m\u001b[0m\u001b[0;34m\u001b[0m\u001b[0m\n",
      "\u001b[0;31mValueError\u001b[0m: in user code:\n\n    /usr/local/lib/python3.6/dist-packages/tensorflow/python/keras/engine/training.py:1462 predict_function  *\n        return step_function(self, iterator)\n    /usr/local/lib/python3.6/dist-packages/tensorflow/python/keras/engine/training.py:1452 step_function  **\n        outputs = model.distribute_strategy.run(run_step, args=(data,))\n    /usr/local/lib/python3.6/dist-packages/tensorflow/python/distribute/distribute_lib.py:1211 run\n        return self._extended.call_for_each_replica(fn, args=args, kwargs=kwargs)\n    /usr/local/lib/python3.6/dist-packages/tensorflow/python/distribute/distribute_lib.py:2585 call_for_each_replica\n        return self._call_for_each_replica(fn, args, kwargs)\n    /usr/local/lib/python3.6/dist-packages/tensorflow/python/distribute/distribute_lib.py:2945 _call_for_each_replica\n        return fn(*args, **kwargs)\n    /usr/local/lib/python3.6/dist-packages/tensorflow/python/keras/engine/training.py:1445 run_step  **\n        outputs = model.predict_step(data)\n    /usr/local/lib/python3.6/dist-packages/tensorflow/python/keras/engine/training.py:1418 predict_step\n        return self(x, training=False)\n    /usr/local/lib/python3.6/dist-packages/tensorflow/python/keras/engine/base_layer.py:976 __call__\n        self.name)\n    /usr/local/lib/python3.6/dist-packages/tensorflow/python/keras/engine/input_spec.py:180 assert_input_compatibility\n        str(x.shape.as_list()))\n\n    ValueError: Input 0 of layer sequential is incompatible with the layer: expected ndim=3, found ndim=2. Full shape received: [None, 3]\n"
     ]
    }
   ],
   "source": [
    "pred=model.predict(test_X)"
   ]
  },
  {
   "cell_type": "code",
   "execution_count": 106,
   "metadata": {
    "colab": {
     "base_uri": "https://localhost:8080/",
     "height": 374
    },
    "colab_type": "code",
    "id": "Zmq-GvesApAz",
    "outputId": "df17cc9a-1b9e-47a0-a7f5-18df48c6106e"
   },
   "outputs": [
    {
     "data": {
      "image/png": "[encoded data removed]",
      "text/plain": [
       "<Figure size 1296x432 with 1 Axes>"
      ]
     },
     "metadata": {
      "needs_background": "light",
      "tags": []
     },
     "output_type": "display_data"
    }
   ],
   "source": [
    "# plot\n",
    "plt.figure(figsize=(18,6))\n",
    "plt.plot([x for x in range(0,100)], pred[:100], linestyle='-', color='blue', label='prediction')\n",
    "plt.plot([x for x in range(0,100)], test_y[:100], linestyle='-', color='black', label='actual')\n",
    "plt.legend(loc=1, prop={'size': 12})\n",
    "plt.show()\n"
   ]
  },
  {
   "cell_type": "code",
   "execution_count": null,
   "metadata": {
    "colab": {},
    "colab_type": "code",
    "id": "0dw-C8DNA1qH"
   },
   "outputs": [],
   "source": []
  }
 ],
 "metadata": {
  "accelerator": "TPU",
  "colab": {
   "name": "Tensorflow_stock_market_pricce.ipynb",
   "provenance": []
  },
  "kernelspec": {
   "display_name": "Python 3",
   "language": "python",
   "name": "python3"
  },
  "language_info": {
   "codemirror_mode": {
    "name": "ipython",
    "version": 3
   },
   "file_extension": ".py",
   "mimetype": "text/x-python",
   "name": "python",
   "nbconvert_exporter": "python",
   "pygments_lexer": "ipython3",
   "version": "3.8.3"
  }
 },
 "nbformat": 4,
 "nbformat_minor": 4
}

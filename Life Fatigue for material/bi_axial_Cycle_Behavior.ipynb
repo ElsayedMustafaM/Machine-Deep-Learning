{
 "cells": [
  {
   "cell_type": "code",
   "execution_count": 1,
   "metadata": {},
   "outputs": [],
   "source": [
    "import matplotlib.pyplot as plt\n",
    "import pandas as pd\n",
    "import numpy as np\n",
    "import random\n",
    "from keras.models import Sequential\n",
    "from keras.layers import Dense, Activation,LSTM,LeakyReLU,Dropout\n",
    "from sklearn.metrics import mean_squared_error\n",
    "from sklearn.metrics import mean_squared_error\n"
   ]
  },
  {
   "cell_type": "markdown",
   "metadata": {},
   "source": [
    "# read Data"
   ]
  },
  {
   "cell_type": "code",
   "execution_count": 2,
   "metadata": {},
   "outputs": [],
   "source": [
    "bi1=pd.read_excel('bi_1.xlsx')\n",
    "bi2=pd.read_excel('bi_2.xlsx')\n",
    "bi3=pd.read_excel('bi_3.xlsx')\n",
    "bi4=pd.read_excel('bi_4.xlsx')\n",
    "bi5=pd.read_excel('bi_5.xlsx')\n",
    "bi6=pd.read_excel('bi_6.xlsx')\n",
    "bi7=pd.read_excel('bi_7.xlsx')\n",
    "bi8=pd.read_excel('bi_8.xlsx')\n",
    "bi9=pd.read_excel('bi_9.xlsx')\n",
    "bi10=pd.read_excel('bi_10.xlsx')\n",
    "bi11=pd.read_excel('bi_11.xlsx')\n",
    "bi12=pd.read_excel('bi_12.xlsx')\n",
    "bi13=pd.read_excel('bi_13.xlsx')\n",
    "bi14=pd.read_excel('bi_14.xlsx')\n",
    "bi15=pd.read_excel('bi_15.xlsx')\n",
    "bi16=pd.read_excel('bi_16.xlsx')\n",
    "bi17=pd.read_excel('bi_17.xlsx')\n",
    "bi18=pd.read_excel('bi_18.xlsx')\n",
    "bi19=pd.read_excel('bi_19.xlsx')"
   ]
  },
  {
   "cell_type": "code",
   "execution_count": 3,
   "metadata": {},
   "outputs": [],
   "source": [
    "bi1['sig_equ']=np.sqrt((bi1['sig11']**2)+(3*(bi1['sig12']**2)))\n",
    "bi2['sig_equ']=np.sqrt((bi2['sig11']**2)+(3*(bi2['sig12']**2)))\n",
    "bi3['sig_equ']=np.sqrt((bi3['sig11']**2)+(3*(bi3['sig12']**2)))\n",
    "bi4['sig_equ']=np.sqrt((bi4['sig11']**2)+(3*(bi4['sig12']**2)))\n",
    "bi5['sig_equ']=np.sqrt((bi5['sig11']**2)+(3*(bi5['sig12']**2)))\n",
    "bi6['sig_equ']=np.sqrt((bi6['sig11']**2)+(3*(bi6['sig12']**2)))\n",
    "bi7['sig_equ']=np.sqrt((bi7['sig11']**2)+(3*(bi7['sig12']**2)))\n",
    "bi8['sig_equ']=np.sqrt((bi8['sig11']**2)+(3*(bi8['sig12']**2)))\n",
    "bi9['sig_equ']=np.sqrt((bi9['sig11']**2)+(3*(bi9['sig12']**2)))\n",
    "bi10['sig_equ']=np.sqrt((bi10['sig11']**2)+(3*(bi10['sig12']**2)))\n",
    "bi11['sig_equ']=np.sqrt((bi11['sig11']**2)+(3*(bi11['sig12']**2)))\n",
    "bi12['sig_equ']=np.sqrt((bi12['sig11']**2)+(3*(bi12['sig12']**2)))\n",
    "bi13['sig_equ']=np.sqrt((bi13['sig11']**2)+(3*(bi13['sig12']**2)))\n",
    "bi14['sig_equ']=np.sqrt((bi14['sig11']**2)+(3*(bi14['sig12']**2)))\n",
    "bi15['sig_equ']=np.sqrt((bi15['sig11']**2)+(3*(bi15['sig12']**2)))\n",
    "bi16['sig_equ']=np.sqrt((bi16['sig11']**2)+(3*(bi16['sig12']**2)))\n",
    "bi17['sig_equ']=np.sqrt((bi17['sig11']**2)+(3*(bi17['sig12']**2)))\n",
    "bi18['sig_equ']=np.sqrt((bi18['sig11']**2)+(3*(bi18['sig12']**2)))\n",
    "bi19['sig_equ']=np.sqrt((bi19['sig11']**2)+(3*(bi19['sig12']**2)))\n"
   ]
  },
  {
   "cell_type": "markdown",
   "metadata": {},
   "source": [
    "## Data Preprocessing"
   ]
  },
  {
   "cell_type": "code",
   "execution_count": 4,
   "metadata": {},
   "outputs": [
    {
     "data": {
      "text/html": [
       "<div>\n",
       "<style scoped>\n",
       "    .dataframe tbody tr th:only-of-type {\n",
       "        vertical-align: middle;\n",
       "    }\n",
       "\n",
       "    .dataframe tbody tr th {\n",
       "        vertical-align: top;\n",
       "    }\n",
       "\n",
       "    .dataframe thead th {\n",
       "        text-align: right;\n",
       "    }\n",
       "</style>\n",
       "<table border=\"1\" class=\"dataframe\">\n",
       "  <thead>\n",
       "    <tr style=\"text-align: right;\">\n",
       "      <th></th>\n",
       "      <th>time</th>\n",
       "      <th>eto11</th>\n",
       "      <th>sig11</th>\n",
       "      <th>eto12</th>\n",
       "      <th>sig12</th>\n",
       "      <th>sig_eq</th>\n",
       "    </tr>\n",
       "  </thead>\n",
       "  <tbody>\n",
       "    <tr>\n",
       "      <th>0</th>\n",
       "      <td>0</td>\n",
       "      <td>0.00000</td>\n",
       "      <td>0.000000</td>\n",
       "      <td>0.00000</td>\n",
       "      <td>0.000000</td>\n",
       "      <td>0.000000</td>\n",
       "    </tr>\n",
       "    <tr>\n",
       "      <th>1</th>\n",
       "      <td>1</td>\n",
       "      <td>0.00064</td>\n",
       "      <td>45.780480</td>\n",
       "      <td>0.00032</td>\n",
       "      <td>17.607877</td>\n",
       "      <td>55.008766</td>\n",
       "    </tr>\n",
       "    <tr>\n",
       "      <th>2</th>\n",
       "      <td>2</td>\n",
       "      <td>0.00128</td>\n",
       "      <td>91.560957</td>\n",
       "      <td>0.00064</td>\n",
       "      <td>35.215752</td>\n",
       "      <td>110.017527</td>\n",
       "    </tr>\n",
       "    <tr>\n",
       "      <th>3</th>\n",
       "      <td>3</td>\n",
       "      <td>0.00192</td>\n",
       "      <td>137.337337</td>\n",
       "      <td>0.00096</td>\n",
       "      <td>52.821467</td>\n",
       "      <td>165.020806</td>\n",
       "    </tr>\n",
       "    <tr>\n",
       "      <th>4</th>\n",
       "      <td>4</td>\n",
       "      <td>0.00256</td>\n",
       "      <td>182.661448</td>\n",
       "      <td>0.00128</td>\n",
       "      <td>70.189930</td>\n",
       "      <td>219.419879</td>\n",
       "    </tr>\n",
       "  </tbody>\n",
       "</table>\n",
       "</div>"
      ],
      "text/plain": [
       "   time    eto11       sig11    eto12      sig12      sig_eq\n",
       "0     0  0.00000    0.000000  0.00000   0.000000    0.000000\n",
       "1     1  0.00064   45.780480  0.00032  17.607877   55.008766\n",
       "2     2  0.00128   91.560957  0.00064  35.215752  110.017527\n",
       "3     3  0.00192  137.337337  0.00096  52.821467  165.020806\n",
       "4     4  0.00256  182.661448  0.00128  70.189930  219.419879"
      ]
     },
     "execution_count": 4,
     "metadata": {},
     "output_type": "execute_result"
    }
   ],
   "source": [
    "bi1.columns=['time','eto11','sig11','eto12','sig12','sig_eq']\n",
    "bi1.head()"
   ]
  },
  {
   "cell_type": "code",
   "execution_count": 5,
   "metadata": {},
   "outputs": [
    {
     "data": {
      "text/html": [
       "<div>\n",
       "<style scoped>\n",
       "    .dataframe tbody tr th:only-of-type {\n",
       "        vertical-align: middle;\n",
       "    }\n",
       "\n",
       "    .dataframe tbody tr th {\n",
       "        vertical-align: top;\n",
       "    }\n",
       "\n",
       "    .dataframe thead th {\n",
       "        text-align: right;\n",
       "    }\n",
       "</style>\n",
       "<table border=\"1\" class=\"dataframe\">\n",
       "  <thead>\n",
       "    <tr style=\"text-align: right;\">\n",
       "      <th></th>\n",
       "      <th>time</th>\n",
       "      <th>eto11</th>\n",
       "      <th>sig11</th>\n",
       "      <th>eto12</th>\n",
       "      <th>sig12</th>\n",
       "      <th>sig_eq</th>\n",
       "    </tr>\n",
       "  </thead>\n",
       "  <tbody>\n",
       "    <tr>\n",
       "      <th>0</th>\n",
       "      <td>0</td>\n",
       "      <td>0.00000</td>\n",
       "      <td>0.000000</td>\n",
       "      <td>0.00000</td>\n",
       "      <td>0.000000</td>\n",
       "      <td>0.000000</td>\n",
       "    </tr>\n",
       "    <tr>\n",
       "      <th>1</th>\n",
       "      <td>1</td>\n",
       "      <td>0.00048</td>\n",
       "      <td>34.335360</td>\n",
       "      <td>0.00056</td>\n",
       "      <td>30.813785</td>\n",
       "      <td>63.461681</td>\n",
       "    </tr>\n",
       "    <tr>\n",
       "      <th>2</th>\n",
       "      <td>2</td>\n",
       "      <td>0.00096</td>\n",
       "      <td>68.670676</td>\n",
       "      <td>0.00112</td>\n",
       "      <td>61.627517</td>\n",
       "      <td>126.923262</td>\n",
       "    </tr>\n",
       "    <tr>\n",
       "      <th>3</th>\n",
       "      <td>3</td>\n",
       "      <td>0.00144</td>\n",
       "      <td>102.966448</td>\n",
       "      <td>0.00168</td>\n",
       "      <td>92.394661</td>\n",
       "      <td>190.295585</td>\n",
       "    </tr>\n",
       "    <tr>\n",
       "      <th>4</th>\n",
       "      <td>4</td>\n",
       "      <td>0.00192</td>\n",
       "      <td>134.337502</td>\n",
       "      <td>0.00224</td>\n",
       "      <td>119.757565</td>\n",
       "      <td>247.127877</td>\n",
       "    </tr>\n",
       "  </tbody>\n",
       "</table>\n",
       "</div>"
      ],
      "text/plain": [
       "   time    eto11       sig11    eto12       sig12      sig_eq\n",
       "0     0  0.00000    0.000000  0.00000    0.000000    0.000000\n",
       "1     1  0.00048   34.335360  0.00056   30.813785   63.461681\n",
       "2     2  0.00096   68.670676  0.00112   61.627517  126.923262\n",
       "3     3  0.00144  102.966448  0.00168   92.394661  190.295585\n",
       "4     4  0.00192  134.337502  0.00224  119.757565  247.127877"
      ]
     },
     "execution_count": 5,
     "metadata": {},
     "output_type": "execute_result"
    }
   ],
   "source": [
    "bi2.columns=['time','eto11','sig11','eto12','sig12','sig_eq']\n",
    "bi2.head()"
   ]
  },
  {
   "cell_type": "code",
   "execution_count": 6,
   "metadata": {},
   "outputs": [
    {
     "data": {
      "text/html": [
       "<div>\n",
       "<style scoped>\n",
       "    .dataframe tbody tr th:only-of-type {\n",
       "        vertical-align: middle;\n",
       "    }\n",
       "\n",
       "    .dataframe tbody tr th {\n",
       "        vertical-align: top;\n",
       "    }\n",
       "\n",
       "    .dataframe thead th {\n",
       "        text-align: right;\n",
       "    }\n",
       "</style>\n",
       "<table border=\"1\" class=\"dataframe\">\n",
       "  <thead>\n",
       "    <tr style=\"text-align: right;\">\n",
       "      <th></th>\n",
       "      <th>time</th>\n",
       "      <th>eto11</th>\n",
       "      <th>sig11</th>\n",
       "      <th>eto12</th>\n",
       "      <th>sig12</th>\n",
       "      <th>sig_eq</th>\n",
       "    </tr>\n",
       "  </thead>\n",
       "  <tbody>\n",
       "    <tr>\n",
       "      <th>0</th>\n",
       "      <td>0</td>\n",
       "      <td>0.00000</td>\n",
       "      <td>0.000000</td>\n",
       "      <td>0.0000</td>\n",
       "      <td>0.000000</td>\n",
       "      <td>0.000000</td>\n",
       "    </tr>\n",
       "    <tr>\n",
       "      <th>1</th>\n",
       "      <td>1</td>\n",
       "      <td>0.00032</td>\n",
       "      <td>22.890249</td>\n",
       "      <td>0.0008</td>\n",
       "      <td>44.019715</td>\n",
       "      <td>79.606340</td>\n",
       "    </tr>\n",
       "    <tr>\n",
       "      <th>2</th>\n",
       "      <td>2</td>\n",
       "      <td>0.00064</td>\n",
       "      <td>45.779429</td>\n",
       "      <td>0.0016</td>\n",
       "      <td>88.036786</td>\n",
       "      <td>159.207987</td>\n",
       "    </tr>\n",
       "    <tr>\n",
       "      <th>3</th>\n",
       "      <td>3</td>\n",
       "      <td>0.00096</td>\n",
       "      <td>67.983621</td>\n",
       "      <td>0.0024</td>\n",
       "      <td>130.372832</td>\n",
       "      <td>235.824085</td>\n",
       "    </tr>\n",
       "    <tr>\n",
       "      <th>4</th>\n",
       "      <td>4</td>\n",
       "      <td>0.00128</td>\n",
       "      <td>81.260635</td>\n",
       "      <td>0.0032</td>\n",
       "      <td>152.059345</td>\n",
       "      <td>275.625513</td>\n",
       "    </tr>\n",
       "  </tbody>\n",
       "</table>\n",
       "</div>"
      ],
      "text/plain": [
       "   time    eto11      sig11   eto12       sig12      sig_eq\n",
       "0     0  0.00000   0.000000  0.0000    0.000000    0.000000\n",
       "1     1  0.00032  22.890249  0.0008   44.019715   79.606340\n",
       "2     2  0.00064  45.779429  0.0016   88.036786  159.207987\n",
       "3     3  0.00096  67.983621  0.0024  130.372832  235.824085\n",
       "4     4  0.00128  81.260635  0.0032  152.059345  275.625513"
      ]
     },
     "execution_count": 6,
     "metadata": {},
     "output_type": "execute_result"
    }
   ],
   "source": [
    "bi3.columns=['time','eto11','sig11','eto12','sig12','sig_eq']\n",
    "bi3.head()"
   ]
  },
  {
   "cell_type": "code",
   "execution_count": 7,
   "metadata": {},
   "outputs": [
    {
     "data": {
      "text/html": [
       "<div>\n",
       "<style scoped>\n",
       "    .dataframe tbody tr th:only-of-type {\n",
       "        vertical-align: middle;\n",
       "    }\n",
       "\n",
       "    .dataframe tbody tr th {\n",
       "        vertical-align: top;\n",
       "    }\n",
       "\n",
       "    .dataframe thead th {\n",
       "        text-align: right;\n",
       "    }\n",
       "</style>\n",
       "<table border=\"1\" class=\"dataframe\">\n",
       "  <thead>\n",
       "    <tr style=\"text-align: right;\">\n",
       "      <th></th>\n",
       "      <th>time</th>\n",
       "      <th>eto11</th>\n",
       "      <th>sig11</th>\n",
       "      <th>eto12</th>\n",
       "      <th>sig12</th>\n",
       "      <th>sig_eq</th>\n",
       "    </tr>\n",
       "  </thead>\n",
       "  <tbody>\n",
       "    <tr>\n",
       "      <th>0</th>\n",
       "      <td>0</td>\n",
       "      <td>0.00000</td>\n",
       "      <td>0.000000</td>\n",
       "      <td>0.00000</td>\n",
       "      <td>0.000000</td>\n",
       "      <td>0.000000</td>\n",
       "    </tr>\n",
       "    <tr>\n",
       "      <th>1</th>\n",
       "      <td>1</td>\n",
       "      <td>0.00072</td>\n",
       "      <td>51.503040</td>\n",
       "      <td>0.00024</td>\n",
       "      <td>13.205907</td>\n",
       "      <td>56.353803</td>\n",
       "    </tr>\n",
       "    <tr>\n",
       "      <th>2</th>\n",
       "      <td>2</td>\n",
       "      <td>0.00144</td>\n",
       "      <td>103.006075</td>\n",
       "      <td>0.00048</td>\n",
       "      <td>26.411813</td>\n",
       "      <td>112.707600</td>\n",
       "    </tr>\n",
       "    <tr>\n",
       "      <th>3</th>\n",
       "      <td>3</td>\n",
       "      <td>0.00216</td>\n",
       "      <td>154.503534</td>\n",
       "      <td>0.00072</td>\n",
       "      <td>39.615831</td>\n",
       "      <td>169.054974</td>\n",
       "    </tr>\n",
       "    <tr>\n",
       "      <th>4</th>\n",
       "      <td>4</td>\n",
       "      <td>0.00288</td>\n",
       "      <td>205.387806</td>\n",
       "      <td>0.00096</td>\n",
       "      <td>52.613180</td>\n",
       "      <td>224.696665</td>\n",
       "    </tr>\n",
       "  </tbody>\n",
       "</table>\n",
       "</div>"
      ],
      "text/plain": [
       "   time    eto11       sig11    eto12      sig12      sig_eq\n",
       "0     0  0.00000    0.000000  0.00000   0.000000    0.000000\n",
       "1     1  0.00072   51.503040  0.00024  13.205907   56.353803\n",
       "2     2  0.00144  103.006075  0.00048  26.411813  112.707600\n",
       "3     3  0.00216  154.503534  0.00072  39.615831  169.054974\n",
       "4     4  0.00288  205.387806  0.00096  52.613180  224.696665"
      ]
     },
     "execution_count": 7,
     "metadata": {},
     "output_type": "execute_result"
    }
   ],
   "source": [
    "bi4.columns=['time','eto11','sig11','eto12','sig12','sig_eq']\n",
    "bi4.head()"
   ]
  },
  {
   "cell_type": "code",
   "execution_count": 8,
   "metadata": {},
   "outputs": [
    {
     "data": {
      "text/html": [
       "<div>\n",
       "<style scoped>\n",
       "    .dataframe tbody tr th:only-of-type {\n",
       "        vertical-align: middle;\n",
       "    }\n",
       "\n",
       "    .dataframe tbody tr th {\n",
       "        vertical-align: top;\n",
       "    }\n",
       "\n",
       "    .dataframe thead th {\n",
       "        text-align: right;\n",
       "    }\n",
       "</style>\n",
       "<table border=\"1\" class=\"dataframe\">\n",
       "  <thead>\n",
       "    <tr style=\"text-align: right;\">\n",
       "      <th></th>\n",
       "      <th>time</th>\n",
       "      <th>eto11</th>\n",
       "      <th>sig11</th>\n",
       "      <th>eto12</th>\n",
       "      <th>sig12</th>\n",
       "      <th>sig_eq</th>\n",
       "    </tr>\n",
       "  </thead>\n",
       "  <tbody>\n",
       "    <tr>\n",
       "      <th>0</th>\n",
       "      <td>0</td>\n",
       "      <td>0.0000</td>\n",
       "      <td>0.000000</td>\n",
       "      <td>0.00000</td>\n",
       "      <td>0.000000</td>\n",
       "      <td>0.000000</td>\n",
       "    </tr>\n",
       "    <tr>\n",
       "      <th>1</th>\n",
       "      <td>1</td>\n",
       "      <td>0.0008</td>\n",
       "      <td>57.225600</td>\n",
       "      <td>0.00016</td>\n",
       "      <td>8.803938</td>\n",
       "      <td>59.222439</td>\n",
       "    </tr>\n",
       "    <tr>\n",
       "      <th>2</th>\n",
       "      <td>2</td>\n",
       "      <td>0.0016</td>\n",
       "      <td>114.451189</td>\n",
       "      <td>0.00032</td>\n",
       "      <td>17.607875</td>\n",
       "      <td>118.444866</td>\n",
       "    </tr>\n",
       "    <tr>\n",
       "      <th>3</th>\n",
       "      <td>3</td>\n",
       "      <td>0.0024</td>\n",
       "      <td>171.664635</td>\n",
       "      <td>0.00048</td>\n",
       "      <td>26.409590</td>\n",
       "      <td>177.654570</td>\n",
       "    </tr>\n",
       "    <tr>\n",
       "      <th>4</th>\n",
       "      <td>4</td>\n",
       "      <td>0.0032</td>\n",
       "      <td>227.603339</td>\n",
       "      <td>0.00064</td>\n",
       "      <td>34.978385</td>\n",
       "      <td>235.528644</td>\n",
       "    </tr>\n",
       "  </tbody>\n",
       "</table>\n",
       "</div>"
      ],
      "text/plain": [
       "   time   eto11       sig11    eto12      sig12      sig_eq\n",
       "0     0  0.0000    0.000000  0.00000   0.000000    0.000000\n",
       "1     1  0.0008   57.225600  0.00016   8.803938   59.222439\n",
       "2     2  0.0016  114.451189  0.00032  17.607875  118.444866\n",
       "3     3  0.0024  171.664635  0.00048  26.409590  177.654570\n",
       "4     4  0.0032  227.603339  0.00064  34.978385  235.528644"
      ]
     },
     "execution_count": 8,
     "metadata": {},
     "output_type": "execute_result"
    }
   ],
   "source": [
    "bi5.columns=['time','eto11','sig11','eto12','sig12','sig_eq']\n",
    "bi5.head()"
   ]
  },
  {
   "cell_type": "code",
   "execution_count": 9,
   "metadata": {},
   "outputs": [
    {
     "data": {
      "text/html": [
       "<div>\n",
       "<style scoped>\n",
       "    .dataframe tbody tr th:only-of-type {\n",
       "        vertical-align: middle;\n",
       "    }\n",
       "\n",
       "    .dataframe tbody tr th {\n",
       "        vertical-align: top;\n",
       "    }\n",
       "\n",
       "    .dataframe thead th {\n",
       "        text-align: right;\n",
       "    }\n",
       "</style>\n",
       "<table border=\"1\" class=\"dataframe\">\n",
       "  <thead>\n",
       "    <tr style=\"text-align: right;\">\n",
       "      <th></th>\n",
       "      <th>time</th>\n",
       "      <th>eto11</th>\n",
       "      <th>sig11</th>\n",
       "      <th>eto12</th>\n",
       "      <th>sig12</th>\n",
       "      <th>sig_eq</th>\n",
       "    </tr>\n",
       "  </thead>\n",
       "  <tbody>\n",
       "    <tr>\n",
       "      <th>0</th>\n",
       "      <td>0</td>\n",
       "      <td>0.000000</td>\n",
       "      <td>0.000000</td>\n",
       "      <td>0.000000</td>\n",
       "      <td>0.000000</td>\n",
       "      <td>0.000000</td>\n",
       "    </tr>\n",
       "    <tr>\n",
       "      <th>1</th>\n",
       "      <td>1</td>\n",
       "      <td>0.000635</td>\n",
       "      <td>45.417149</td>\n",
       "      <td>0.000635</td>\n",
       "      <td>34.936270</td>\n",
       "      <td>75.659410</td>\n",
       "    </tr>\n",
       "    <tr>\n",
       "      <th>2</th>\n",
       "      <td>2</td>\n",
       "      <td>0.001270</td>\n",
       "      <td>90.833530</td>\n",
       "      <td>0.001270</td>\n",
       "      <td>69.871755</td>\n",
       "      <td>151.317272</td>\n",
       "    </tr>\n",
       "    <tr>\n",
       "      <th>3</th>\n",
       "      <td>3</td>\n",
       "      <td>0.001905</td>\n",
       "      <td>135.678221</td>\n",
       "      <td>0.001905</td>\n",
       "      <td>104.226316</td>\n",
       "      <td>225.827267</td>\n",
       "    </tr>\n",
       "    <tr>\n",
       "      <th>4</th>\n",
       "      <td>4</td>\n",
       "      <td>0.002540</td>\n",
       "      <td>166.555367</td>\n",
       "      <td>0.002540</td>\n",
       "      <td>124.864967</td>\n",
       "      <td>272.973388</td>\n",
       "    </tr>\n",
       "  </tbody>\n",
       "</table>\n",
       "</div>"
      ],
      "text/plain": [
       "   time     eto11       sig11     eto12       sig12      sig_eq\n",
       "0     0  0.000000    0.000000  0.000000    0.000000    0.000000\n",
       "1     1  0.000635   45.417149  0.000635   34.936270   75.659410\n",
       "2     2  0.001270   90.833530  0.001270   69.871755  151.317272\n",
       "3     3  0.001905  135.678221  0.001905  104.226316  225.827267\n",
       "4     4  0.002540  166.555367  0.002540  124.864967  272.973388"
      ]
     },
     "execution_count": 9,
     "metadata": {},
     "output_type": "execute_result"
    }
   ],
   "source": [
    "bi6.columns=['time','eto11','sig11','eto12','sig12','sig_eq']\n",
    "bi6.head()"
   ]
  },
  {
   "cell_type": "code",
   "execution_count": 10,
   "metadata": {},
   "outputs": [
    {
     "data": {
      "text/html": [
       "<div>\n",
       "<style scoped>\n",
       "    .dataframe tbody tr th:only-of-type {\n",
       "        vertical-align: middle;\n",
       "    }\n",
       "\n",
       "    .dataframe tbody tr th {\n",
       "        vertical-align: top;\n",
       "    }\n",
       "\n",
       "    .dataframe thead th {\n",
       "        text-align: right;\n",
       "    }\n",
       "</style>\n",
       "<table border=\"1\" class=\"dataframe\">\n",
       "  <thead>\n",
       "    <tr style=\"text-align: right;\">\n",
       "      <th></th>\n",
       "      <th>time</th>\n",
       "      <th>eto11</th>\n",
       "      <th>sig11</th>\n",
       "      <th>eto12</th>\n",
       "      <th>sig12</th>\n",
       "      <th>sig_eq</th>\n",
       "    </tr>\n",
       "  </thead>\n",
       "  <tbody>\n",
       "    <tr>\n",
       "      <th>0</th>\n",
       "      <td>0</td>\n",
       "      <td>0.000000</td>\n",
       "      <td>0.000000</td>\n",
       "      <td>0.000000</td>\n",
       "      <td>0.000000</td>\n",
       "      <td>0.000000</td>\n",
       "    </tr>\n",
       "    <tr>\n",
       "      <th>1</th>\n",
       "      <td>1</td>\n",
       "      <td>0.000476</td>\n",
       "      <td>34.062856</td>\n",
       "      <td>0.001111</td>\n",
       "      <td>61.138459</td>\n",
       "      <td>111.238534</td>\n",
       "    </tr>\n",
       "    <tr>\n",
       "      <th>2</th>\n",
       "      <td>2</td>\n",
       "      <td>0.000952</td>\n",
       "      <td>67.938732</td>\n",
       "      <td>0.002222</td>\n",
       "      <td>121.847097</td>\n",
       "      <td>221.711111</td>\n",
       "    </tr>\n",
       "    <tr>\n",
       "      <th>3</th>\n",
       "      <td>3</td>\n",
       "      <td>0.001429</td>\n",
       "      <td>89.401409</td>\n",
       "      <td>0.003333</td>\n",
       "      <td>155.672207</td>\n",
       "      <td>284.067104</td>\n",
       "    </tr>\n",
       "    <tr>\n",
       "      <th>4</th>\n",
       "      <td>4</td>\n",
       "      <td>0.001905</td>\n",
       "      <td>98.247133</td>\n",
       "      <td>0.004444</td>\n",
       "      <td>167.110087</td>\n",
       "      <td>305.662956</td>\n",
       "    </tr>\n",
       "  </tbody>\n",
       "</table>\n",
       "</div>"
      ],
      "text/plain": [
       "   time     eto11      sig11     eto12       sig12      sig_eq\n",
       "0     0  0.000000   0.000000  0.000000    0.000000    0.000000\n",
       "1     1  0.000476  34.062856  0.001111   61.138459  111.238534\n",
       "2     2  0.000952  67.938732  0.002222  121.847097  221.711111\n",
       "3     3  0.001429  89.401409  0.003333  155.672207  284.067104\n",
       "4     4  0.001905  98.247133  0.004444  167.110087  305.662956"
      ]
     },
     "execution_count": 10,
     "metadata": {},
     "output_type": "execute_result"
    }
   ],
   "source": [
    "bi7.columns=['time','eto11','sig11','eto12','sig12','sig_eq']\n",
    "bi7.head()"
   ]
  },
  {
   "cell_type": "code",
   "execution_count": 11,
   "metadata": {},
   "outputs": [
    {
     "data": {
      "text/html": [
       "<div>\n",
       "<style scoped>\n",
       "    .dataframe tbody tr th:only-of-type {\n",
       "        vertical-align: middle;\n",
       "    }\n",
       "\n",
       "    .dataframe tbody tr th {\n",
       "        vertical-align: top;\n",
       "    }\n",
       "\n",
       "    .dataframe thead th {\n",
       "        text-align: right;\n",
       "    }\n",
       "</style>\n",
       "<table border=\"1\" class=\"dataframe\">\n",
       "  <thead>\n",
       "    <tr style=\"text-align: right;\">\n",
       "      <th></th>\n",
       "      <th>time</th>\n",
       "      <th>eto11</th>\n",
       "      <th>sig11</th>\n",
       "      <th>eto12</th>\n",
       "      <th>sig12</th>\n",
       "      <th>sig_eq</th>\n",
       "    </tr>\n",
       "  </thead>\n",
       "  <tbody>\n",
       "    <tr>\n",
       "      <th>0</th>\n",
       "      <td>0</td>\n",
       "      <td>0.000000</td>\n",
       "      <td>0.000000</td>\n",
       "      <td>0.000000</td>\n",
       "      <td>0.000000</td>\n",
       "      <td>0.000000</td>\n",
       "    </tr>\n",
       "    <tr>\n",
       "      <th>1</th>\n",
       "      <td>1</td>\n",
       "      <td>0.000317</td>\n",
       "      <td>22.708424</td>\n",
       "      <td>0.001587</td>\n",
       "      <td>87.339908</td>\n",
       "      <td>152.972059</td>\n",
       "    </tr>\n",
       "    <tr>\n",
       "      <th>2</th>\n",
       "      <td>2</td>\n",
       "      <td>0.000635</td>\n",
       "      <td>42.078514</td>\n",
       "      <td>0.003175</td>\n",
       "      <td>159.191953</td>\n",
       "      <td>278.920840</td>\n",
       "    </tr>\n",
       "    <tr>\n",
       "      <th>3</th>\n",
       "      <td>3</td>\n",
       "      <td>0.000952</td>\n",
       "      <td>48.389419</td>\n",
       "      <td>0.004762</td>\n",
       "      <td>178.500741</td>\n",
       "      <td>312.936222</td>\n",
       "    </tr>\n",
       "    <tr>\n",
       "      <th>4</th>\n",
       "      <td>4</td>\n",
       "      <td>0.001270</td>\n",
       "      <td>52.021538</td>\n",
       "      <td>0.006349</td>\n",
       "      <td>189.031434</td>\n",
       "      <td>331.519064</td>\n",
       "    </tr>\n",
       "  </tbody>\n",
       "</table>\n",
       "</div>"
      ],
      "text/plain": [
       "   time     eto11      sig11     eto12       sig12      sig_eq\n",
       "0     0  0.000000   0.000000  0.000000    0.000000    0.000000\n",
       "1     1  0.000317  22.708424  0.001587   87.339908  152.972059\n",
       "2     2  0.000635  42.078514  0.003175  159.191953  278.920840\n",
       "3     3  0.000952  48.389419  0.004762  178.500741  312.936222\n",
       "4     4  0.001270  52.021538  0.006349  189.031434  331.519064"
      ]
     },
     "execution_count": 11,
     "metadata": {},
     "output_type": "execute_result"
    }
   ],
   "source": [
    "bi8.columns=['time','eto11','sig11','eto12','sig12','sig_eq']\n",
    "bi8.head()"
   ]
  },
  {
   "cell_type": "code",
   "execution_count": 12,
   "metadata": {},
   "outputs": [
    {
     "data": {
      "text/html": [
       "<div>\n",
       "<style scoped>\n",
       "    .dataframe tbody tr th:only-of-type {\n",
       "        vertical-align: middle;\n",
       "    }\n",
       "\n",
       "    .dataframe tbody tr th {\n",
       "        vertical-align: top;\n",
       "    }\n",
       "\n",
       "    .dataframe thead th {\n",
       "        text-align: right;\n",
       "    }\n",
       "</style>\n",
       "<table border=\"1\" class=\"dataframe\">\n",
       "  <thead>\n",
       "    <tr style=\"text-align: right;\">\n",
       "      <th></th>\n",
       "      <th>time</th>\n",
       "      <th>eto11</th>\n",
       "      <th>sig11</th>\n",
       "      <th>eto12</th>\n",
       "      <th>sig12</th>\n",
       "      <th>sig_eq</th>\n",
       "    </tr>\n",
       "  </thead>\n",
       "  <tbody>\n",
       "    <tr>\n",
       "      <th>0</th>\n",
       "      <td>0</td>\n",
       "      <td>0.000000</td>\n",
       "      <td>0.000000</td>\n",
       "      <td>0.000000</td>\n",
       "      <td>0.000000</td>\n",
       "      <td>0.000000</td>\n",
       "    </tr>\n",
       "    <tr>\n",
       "      <th>1</th>\n",
       "      <td>1</td>\n",
       "      <td>0.000714</td>\n",
       "      <td>51.094298</td>\n",
       "      <td>0.000476</td>\n",
       "      <td>26.202206</td>\n",
       "      <td>68.339550</td>\n",
       "    </tr>\n",
       "    <tr>\n",
       "      <th>2</th>\n",
       "      <td>2</td>\n",
       "      <td>0.001429</td>\n",
       "      <td>102.188436</td>\n",
       "      <td>0.000952</td>\n",
       "      <td>52.404300</td>\n",
       "      <td>136.678852</td>\n",
       "    </tr>\n",
       "    <tr>\n",
       "      <th>3</th>\n",
       "      <td>3</td>\n",
       "      <td>0.002143</td>\n",
       "      <td>153.156378</td>\n",
       "      <td>0.001429</td>\n",
       "      <td>78.518510</td>\n",
       "      <td>204.822717</td>\n",
       "    </tr>\n",
       "    <tr>\n",
       "      <th>4</th>\n",
       "      <td>4</td>\n",
       "      <td>0.002857</td>\n",
       "      <td>196.728750</td>\n",
       "      <td>0.001905</td>\n",
       "      <td>99.581524</td>\n",
       "      <td>261.632644</td>\n",
       "    </tr>\n",
       "  </tbody>\n",
       "</table>\n",
       "</div>"
      ],
      "text/plain": [
       "   time     eto11       sig11     eto12      sig12      sig_eq\n",
       "0     0  0.000000    0.000000  0.000000   0.000000    0.000000\n",
       "1     1  0.000714   51.094298  0.000476  26.202206   68.339550\n",
       "2     2  0.001429  102.188436  0.000952  52.404300  136.678852\n",
       "3     3  0.002143  153.156378  0.001429  78.518510  204.822717\n",
       "4     4  0.002857  196.728750  0.001905  99.581524  261.632644"
      ]
     },
     "execution_count": 12,
     "metadata": {},
     "output_type": "execute_result"
    }
   ],
   "source": [
    "bi9.columns=['time','eto11','sig11','eto12','sig12','sig_eq']\n",
    "bi9.head()"
   ]
  },
  {
   "cell_type": "code",
   "execution_count": 13,
   "metadata": {},
   "outputs": [
    {
     "data": {
      "text/html": [
       "<div>\n",
       "<style scoped>\n",
       "    .dataframe tbody tr th:only-of-type {\n",
       "        vertical-align: middle;\n",
       "    }\n",
       "\n",
       "    .dataframe tbody tr th {\n",
       "        vertical-align: top;\n",
       "    }\n",
       "\n",
       "    .dataframe thead th {\n",
       "        text-align: right;\n",
       "    }\n",
       "</style>\n",
       "<table border=\"1\" class=\"dataframe\">\n",
       "  <thead>\n",
       "    <tr style=\"text-align: right;\">\n",
       "      <th></th>\n",
       "      <th>time</th>\n",
       "      <th>eto11</th>\n",
       "      <th>sig11</th>\n",
       "      <th>eto12</th>\n",
       "      <th>sig12</th>\n",
       "      <th>sig_eq</th>\n",
       "    </tr>\n",
       "  </thead>\n",
       "  <tbody>\n",
       "    <tr>\n",
       "      <th>0</th>\n",
       "      <td>0</td>\n",
       "      <td>0.000000</td>\n",
       "      <td>0.000000</td>\n",
       "      <td>0.000000</td>\n",
       "      <td>0.000000</td>\n",
       "      <td>0.000000</td>\n",
       "    </tr>\n",
       "    <tr>\n",
       "      <th>1</th>\n",
       "      <td>1</td>\n",
       "      <td>0.000794</td>\n",
       "      <td>56.771433</td>\n",
       "      <td>0.000317</td>\n",
       "      <td>17.468133</td>\n",
       "      <td>64.330418</td>\n",
       "    </tr>\n",
       "    <tr>\n",
       "      <th>2</th>\n",
       "      <td>2</td>\n",
       "      <td>0.001587</td>\n",
       "      <td>113.542812</td>\n",
       "      <td>0.000635</td>\n",
       "      <td>34.936245</td>\n",
       "      <td>128.660770</td>\n",
       "    </tr>\n",
       "    <tr>\n",
       "      <th>3</th>\n",
       "      <td>3</td>\n",
       "      <td>0.002381</td>\n",
       "      <td>170.269162</td>\n",
       "      <td>0.000952</td>\n",
       "      <td>52.385645</td>\n",
       "      <td>192.936143</td>\n",
       "    </tr>\n",
       "    <tr>\n",
       "      <th>4</th>\n",
       "      <td>4</td>\n",
       "      <td>0.003175</td>\n",
       "      <td>223.126185</td>\n",
       "      <td>0.001270</td>\n",
       "      <td>68.250757</td>\n",
       "      <td>252.507014</td>\n",
       "    </tr>\n",
       "  </tbody>\n",
       "</table>\n",
       "</div>"
      ],
      "text/plain": [
       "   time     eto11       sig11     eto12      sig12      sig_eq\n",
       "0     0  0.000000    0.000000  0.000000   0.000000    0.000000\n",
       "1     1  0.000794   56.771433  0.000317  17.468133   64.330418\n",
       "2     2  0.001587  113.542812  0.000635  34.936245  128.660770\n",
       "3     3  0.002381  170.269162  0.000952  52.385645  192.936143\n",
       "4     4  0.003175  223.126185  0.001270  68.250757  252.507014"
      ]
     },
     "execution_count": 13,
     "metadata": {},
     "output_type": "execute_result"
    }
   ],
   "source": [
    "bi10.columns=['time','eto11','sig11','eto12','sig12','sig_eq']\n",
    "bi10.head()"
   ]
  },
  {
   "cell_type": "code",
   "execution_count": 14,
   "metadata": {},
   "outputs": [
    {
     "data": {
      "text/html": [
       "<div>\n",
       "<style scoped>\n",
       "    .dataframe tbody tr th:only-of-type {\n",
       "        vertical-align: middle;\n",
       "    }\n",
       "\n",
       "    .dataframe tbody tr th {\n",
       "        vertical-align: top;\n",
       "    }\n",
       "\n",
       "    .dataframe thead th {\n",
       "        text-align: right;\n",
       "    }\n",
       "</style>\n",
       "<table border=\"1\" class=\"dataframe\">\n",
       "  <thead>\n",
       "    <tr style=\"text-align: right;\">\n",
       "      <th></th>\n",
       "      <th>time</th>\n",
       "      <th>eto11</th>\n",
       "      <th>sig11</th>\n",
       "      <th>eto12</th>\n",
       "      <th>sig12</th>\n",
       "      <th>sig_eq</th>\n",
       "    </tr>\n",
       "  </thead>\n",
       "  <tbody>\n",
       "    <tr>\n",
       "      <th>0</th>\n",
       "      <td>0</td>\n",
       "      <td>0.000000</td>\n",
       "      <td>0.000000</td>\n",
       "      <td>0.000000</td>\n",
       "      <td>0.000000</td>\n",
       "      <td>0.000000</td>\n",
       "    </tr>\n",
       "    <tr>\n",
       "      <th>1</th>\n",
       "      <td>1</td>\n",
       "      <td>0.000556</td>\n",
       "      <td>39.740000</td>\n",
       "      <td>0.000794</td>\n",
       "      <td>43.670329</td>\n",
       "      <td>85.443318</td>\n",
       "    </tr>\n",
       "    <tr>\n",
       "      <th>2</th>\n",
       "      <td>2</td>\n",
       "      <td>0.001111</td>\n",
       "      <td>79.475402</td>\n",
       "      <td>0.001587</td>\n",
       "      <td>87.334091</td>\n",
       "      <td>170.874427</td>\n",
       "    </tr>\n",
       "    <tr>\n",
       "      <th>3</th>\n",
       "      <td>3</td>\n",
       "      <td>0.001667</td>\n",
       "      <td>116.769952</td>\n",
       "      <td>0.002381</td>\n",
       "      <td>127.552673</td>\n",
       "      <td>249.888525</td>\n",
       "    </tr>\n",
       "    <tr>\n",
       "      <th>4</th>\n",
       "      <td>4</td>\n",
       "      <td>0.002222</td>\n",
       "      <td>135.942301</td>\n",
       "      <td>0.003175</td>\n",
       "      <td>143.685943</td>\n",
       "      <td>283.579372</td>\n",
       "    </tr>\n",
       "  </tbody>\n",
       "</table>\n",
       "</div>"
      ],
      "text/plain": [
       "   time     eto11       sig11     eto12       sig12      sig_eq\n",
       "0     0  0.000000    0.000000  0.000000    0.000000    0.000000\n",
       "1     1  0.000556   39.740000  0.000794   43.670329   85.443318\n",
       "2     2  0.001111   79.475402  0.001587   87.334091  170.874427\n",
       "3     3  0.001667  116.769952  0.002381  127.552673  249.888525\n",
       "4     4  0.002222  135.942301  0.003175  143.685943  283.579372"
      ]
     },
     "execution_count": 14,
     "metadata": {},
     "output_type": "execute_result"
    }
   ],
   "source": [
    "bi11.columns=['time','eto11','sig11','eto12','sig12','sig_eq']\n",
    "bi11.head()"
   ]
  },
  {
   "cell_type": "code",
   "execution_count": 15,
   "metadata": {},
   "outputs": [
    {
     "data": {
      "text/html": [
       "<div>\n",
       "<style scoped>\n",
       "    .dataframe tbody tr th:only-of-type {\n",
       "        vertical-align: middle;\n",
       "    }\n",
       "\n",
       "    .dataframe tbody tr th {\n",
       "        vertical-align: top;\n",
       "    }\n",
       "\n",
       "    .dataframe thead th {\n",
       "        text-align: right;\n",
       "    }\n",
       "</style>\n",
       "<table border=\"1\" class=\"dataframe\">\n",
       "  <thead>\n",
       "    <tr style=\"text-align: right;\">\n",
       "      <th></th>\n",
       "      <th>time</th>\n",
       "      <th>eto11</th>\n",
       "      <th>sig11</th>\n",
       "      <th>eto12</th>\n",
       "      <th>sig12</th>\n",
       "      <th>sig_eq</th>\n",
       "    </tr>\n",
       "  </thead>\n",
       "  <tbody>\n",
       "    <tr>\n",
       "      <th>0</th>\n",
       "      <td>0</td>\n",
       "      <td>0.000000</td>\n",
       "      <td>0.000000</td>\n",
       "      <td>0.000000</td>\n",
       "      <td>0.000000</td>\n",
       "      <td>0.000000</td>\n",
       "    </tr>\n",
       "    <tr>\n",
       "      <th>1</th>\n",
       "      <td>1</td>\n",
       "      <td>0.000397</td>\n",
       "      <td>28.385715</td>\n",
       "      <td>0.000952</td>\n",
       "      <td>52.404396</td>\n",
       "      <td>95.102108</td>\n",
       "    </tr>\n",
       "    <tr>\n",
       "      <th>2</th>\n",
       "      <td>2</td>\n",
       "      <td>0.000794</td>\n",
       "      <td>56.754185</td>\n",
       "      <td>0.001905</td>\n",
       "      <td>104.767932</td>\n",
       "      <td>190.131524</td>\n",
       "    </tr>\n",
       "    <tr>\n",
       "      <th>3</th>\n",
       "      <td>3</td>\n",
       "      <td>0.001190</td>\n",
       "      <td>80.481790</td>\n",
       "      <td>0.002857</td>\n",
       "      <td>146.434483</td>\n",
       "      <td>266.094893</td>\n",
       "    </tr>\n",
       "    <tr>\n",
       "      <th>4</th>\n",
       "      <td>4</td>\n",
       "      <td>0.001587</td>\n",
       "      <td>90.697435</td>\n",
       "      <td>0.003810</td>\n",
       "      <td>160.393193</td>\n",
       "      <td>292.239549</td>\n",
       "    </tr>\n",
       "  </tbody>\n",
       "</table>\n",
       "</div>"
      ],
      "text/plain": [
       "   time     eto11      sig11     eto12       sig12      sig_eq\n",
       "0     0  0.000000   0.000000  0.000000    0.000000    0.000000\n",
       "1     1  0.000397  28.385715  0.000952   52.404396   95.102108\n",
       "2     2  0.000794  56.754185  0.001905  104.767932  190.131524\n",
       "3     3  0.001190  80.481790  0.002857  146.434483  266.094893\n",
       "4     4  0.001587  90.697435  0.003810  160.393193  292.239549"
      ]
     },
     "execution_count": 15,
     "metadata": {},
     "output_type": "execute_result"
    }
   ],
   "source": [
    "bi12.columns=['time','eto11','sig11','eto12','sig12','sig_eq']\n",
    "bi12.head()"
   ]
  },
  {
   "cell_type": "code",
   "execution_count": 16,
   "metadata": {},
   "outputs": [
    {
     "data": {
      "text/html": [
       "<div>\n",
       "<style scoped>\n",
       "    .dataframe tbody tr th:only-of-type {\n",
       "        vertical-align: middle;\n",
       "    }\n",
       "\n",
       "    .dataframe tbody tr th {\n",
       "        vertical-align: top;\n",
       "    }\n",
       "\n",
       "    .dataframe thead th {\n",
       "        text-align: right;\n",
       "    }\n",
       "</style>\n",
       "<table border=\"1\" class=\"dataframe\">\n",
       "  <thead>\n",
       "    <tr style=\"text-align: right;\">\n",
       "      <th></th>\n",
       "      <th>time</th>\n",
       "      <th>eto11</th>\n",
       "      <th>sig11</th>\n",
       "      <th>eto12</th>\n",
       "      <th>sig12</th>\n",
       "      <th>sig_eq</th>\n",
       "    </tr>\n",
       "  </thead>\n",
       "  <tbody>\n",
       "    <tr>\n",
       "      <th>0</th>\n",
       "      <td>0</td>\n",
       "      <td>0.00000</td>\n",
       "      <td>0.000000</td>\n",
       "      <td>0.0</td>\n",
       "      <td>0.0</td>\n",
       "      <td>0.000000</td>\n",
       "    </tr>\n",
       "    <tr>\n",
       "      <th>1</th>\n",
       "      <td>1</td>\n",
       "      <td>0.00064</td>\n",
       "      <td>45.780481</td>\n",
       "      <td>0.0</td>\n",
       "      <td>0.0</td>\n",
       "      <td>45.780481</td>\n",
       "    </tr>\n",
       "    <tr>\n",
       "      <th>2</th>\n",
       "      <td>2</td>\n",
       "      <td>0.00128</td>\n",
       "      <td>91.560964</td>\n",
       "      <td>0.0</td>\n",
       "      <td>0.0</td>\n",
       "      <td>91.560964</td>\n",
       "    </tr>\n",
       "    <tr>\n",
       "      <th>3</th>\n",
       "      <td>3</td>\n",
       "      <td>0.00192</td>\n",
       "      <td>137.341220</td>\n",
       "      <td>0.0</td>\n",
       "      <td>0.0</td>\n",
       "      <td>137.341220</td>\n",
       "    </tr>\n",
       "    <tr>\n",
       "      <th>4</th>\n",
       "      <td>4</td>\n",
       "      <td>0.00256</td>\n",
       "      <td>183.093343</td>\n",
       "      <td>0.0</td>\n",
       "      <td>0.0</td>\n",
       "      <td>183.093343</td>\n",
       "    </tr>\n",
       "  </tbody>\n",
       "</table>\n",
       "</div>"
      ],
      "text/plain": [
       "   time    eto11       sig11  eto12  sig12      sig_eq\n",
       "0     0  0.00000    0.000000    0.0    0.0    0.000000\n",
       "1     1  0.00064   45.780481    0.0    0.0   45.780481\n",
       "2     2  0.00128   91.560964    0.0    0.0   91.560964\n",
       "3     3  0.00192  137.341220    0.0    0.0  137.341220\n",
       "4     4  0.00256  183.093343    0.0    0.0  183.093343"
      ]
     },
     "execution_count": 16,
     "metadata": {},
     "output_type": "execute_result"
    }
   ],
   "source": [
    "bi13.columns=['time','eto11','sig11','eto12','sig12','sig_eq']\n",
    "bi13.head()"
   ]
  },
  {
   "cell_type": "code",
   "execution_count": 17,
   "metadata": {},
   "outputs": [
    {
     "data": {
      "text/html": [
       "<div>\n",
       "<style scoped>\n",
       "    .dataframe tbody tr th:only-of-type {\n",
       "        vertical-align: middle;\n",
       "    }\n",
       "\n",
       "    .dataframe tbody tr th {\n",
       "        vertical-align: top;\n",
       "    }\n",
       "\n",
       "    .dataframe thead th {\n",
       "        text-align: right;\n",
       "    }\n",
       "</style>\n",
       "<table border=\"1\" class=\"dataframe\">\n",
       "  <thead>\n",
       "    <tr style=\"text-align: right;\">\n",
       "      <th></th>\n",
       "      <th>time</th>\n",
       "      <th>eto11</th>\n",
       "      <th>sig11</th>\n",
       "      <th>eto12</th>\n",
       "      <th>sig12</th>\n",
       "      <th>sig_eq</th>\n",
       "    </tr>\n",
       "  </thead>\n",
       "  <tbody>\n",
       "    <tr>\n",
       "      <th>0</th>\n",
       "      <td>0</td>\n",
       "      <td>0.00000</td>\n",
       "      <td>0.00000</td>\n",
       "      <td>0.0</td>\n",
       "      <td>0.0</td>\n",
       "      <td>0.00000</td>\n",
       "    </tr>\n",
       "    <tr>\n",
       "      <th>1</th>\n",
       "      <td>1</td>\n",
       "      <td>0.00032</td>\n",
       "      <td>22.89024</td>\n",
       "      <td>0.0</td>\n",
       "      <td>0.0</td>\n",
       "      <td>22.89024</td>\n",
       "    </tr>\n",
       "    <tr>\n",
       "      <th>2</th>\n",
       "      <td>2</td>\n",
       "      <td>0.00064</td>\n",
       "      <td>45.78048</td>\n",
       "      <td>0.0</td>\n",
       "      <td>0.0</td>\n",
       "      <td>45.78048</td>\n",
       "    </tr>\n",
       "    <tr>\n",
       "      <th>3</th>\n",
       "      <td>3</td>\n",
       "      <td>0.00096</td>\n",
       "      <td>68.67072</td>\n",
       "      <td>0.0</td>\n",
       "      <td>0.0</td>\n",
       "      <td>68.67072</td>\n",
       "    </tr>\n",
       "    <tr>\n",
       "      <th>4</th>\n",
       "      <td>4</td>\n",
       "      <td>0.00128</td>\n",
       "      <td>91.56096</td>\n",
       "      <td>0.0</td>\n",
       "      <td>0.0</td>\n",
       "      <td>91.56096</td>\n",
       "    </tr>\n",
       "  </tbody>\n",
       "</table>\n",
       "</div>"
      ],
      "text/plain": [
       "   time    eto11     sig11  eto12  sig12    sig_eq\n",
       "0     0  0.00000   0.00000    0.0    0.0   0.00000\n",
       "1     1  0.00032  22.89024    0.0    0.0  22.89024\n",
       "2     2  0.00064  45.78048    0.0    0.0  45.78048\n",
       "3     3  0.00096  68.67072    0.0    0.0  68.67072\n",
       "4     4  0.00128  91.56096    0.0    0.0  91.56096"
      ]
     },
     "execution_count": 17,
     "metadata": {},
     "output_type": "execute_result"
    }
   ],
   "source": [
    "bi14.columns=['time','eto11','sig11','eto12','sig12','sig_eq']\n",
    "bi14.head()"
   ]
  },
  {
   "cell_type": "code",
   "execution_count": 18,
   "metadata": {},
   "outputs": [
    {
     "data": {
      "text/html": [
       "<div>\n",
       "<style scoped>\n",
       "    .dataframe tbody tr th:only-of-type {\n",
       "        vertical-align: middle;\n",
       "    }\n",
       "\n",
       "    .dataframe tbody tr th {\n",
       "        vertical-align: top;\n",
       "    }\n",
       "\n",
       "    .dataframe thead th {\n",
       "        text-align: right;\n",
       "    }\n",
       "</style>\n",
       "<table border=\"1\" class=\"dataframe\">\n",
       "  <thead>\n",
       "    <tr style=\"text-align: right;\">\n",
       "      <th></th>\n",
       "      <th>time</th>\n",
       "      <th>eto11</th>\n",
       "      <th>sig11</th>\n",
       "      <th>eto12</th>\n",
       "      <th>sig12</th>\n",
       "      <th>sig_eq</th>\n",
       "    </tr>\n",
       "  </thead>\n",
       "  <tbody>\n",
       "    <tr>\n",
       "      <th>0</th>\n",
       "      <td>0</td>\n",
       "      <td>0.00000</td>\n",
       "      <td>0.000000</td>\n",
       "      <td>0.0</td>\n",
       "      <td>0.0</td>\n",
       "      <td>0.000000</td>\n",
       "    </tr>\n",
       "    <tr>\n",
       "      <th>1</th>\n",
       "      <td>1</td>\n",
       "      <td>0.00048</td>\n",
       "      <td>34.335360</td>\n",
       "      <td>0.0</td>\n",
       "      <td>0.0</td>\n",
       "      <td>34.335360</td>\n",
       "    </tr>\n",
       "    <tr>\n",
       "      <th>2</th>\n",
       "      <td>2</td>\n",
       "      <td>0.00096</td>\n",
       "      <td>68.670720</td>\n",
       "      <td>0.0</td>\n",
       "      <td>0.0</td>\n",
       "      <td>68.670720</td>\n",
       "    </tr>\n",
       "    <tr>\n",
       "      <th>3</th>\n",
       "      <td>3</td>\n",
       "      <td>0.00144</td>\n",
       "      <td>103.006079</td>\n",
       "      <td>0.0</td>\n",
       "      <td>0.0</td>\n",
       "      <td>103.006079</td>\n",
       "    </tr>\n",
       "    <tr>\n",
       "      <th>4</th>\n",
       "      <td>4</td>\n",
       "      <td>0.00192</td>\n",
       "      <td>137.341142</td>\n",
       "      <td>0.0</td>\n",
       "      <td>0.0</td>\n",
       "      <td>137.341142</td>\n",
       "    </tr>\n",
       "  </tbody>\n",
       "</table>\n",
       "</div>"
      ],
      "text/plain": [
       "   time    eto11       sig11  eto12  sig12      sig_eq\n",
       "0     0  0.00000    0.000000    0.0    0.0    0.000000\n",
       "1     1  0.00048   34.335360    0.0    0.0   34.335360\n",
       "2     2  0.00096   68.670720    0.0    0.0   68.670720\n",
       "3     3  0.00144  103.006079    0.0    0.0  103.006079\n",
       "4     4  0.00192  137.341142    0.0    0.0  137.341142"
      ]
     },
     "execution_count": 18,
     "metadata": {},
     "output_type": "execute_result"
    }
   ],
   "source": [
    "bi15.columns=['time','eto11','sig11','eto12','sig12','sig_eq']\n",
    "bi15.head()"
   ]
  },
  {
   "cell_type": "code",
   "execution_count": 19,
   "metadata": {},
   "outputs": [
    {
     "data": {
      "text/html": [
       "<div>\n",
       "<style scoped>\n",
       "    .dataframe tbody tr th:only-of-type {\n",
       "        vertical-align: middle;\n",
       "    }\n",
       "\n",
       "    .dataframe tbody tr th {\n",
       "        vertical-align: top;\n",
       "    }\n",
       "\n",
       "    .dataframe thead th {\n",
       "        text-align: right;\n",
       "    }\n",
       "</style>\n",
       "<table border=\"1\" class=\"dataframe\">\n",
       "  <thead>\n",
       "    <tr style=\"text-align: right;\">\n",
       "      <th></th>\n",
       "      <th>time</th>\n",
       "      <th>eto11</th>\n",
       "      <th>sig11</th>\n",
       "      <th>eto12</th>\n",
       "      <th>sig12</th>\n",
       "      <th>sig_eq</th>\n",
       "    </tr>\n",
       "  </thead>\n",
       "  <tbody>\n",
       "    <tr>\n",
       "      <th>0</th>\n",
       "      <td>0</td>\n",
       "      <td>0.00000</td>\n",
       "      <td>0.000000</td>\n",
       "      <td>0.0</td>\n",
       "      <td>0.0</td>\n",
       "      <td>0.000000</td>\n",
       "    </tr>\n",
       "    <tr>\n",
       "      <th>1</th>\n",
       "      <td>1</td>\n",
       "      <td>0.00072</td>\n",
       "      <td>51.503044</td>\n",
       "      <td>0.0</td>\n",
       "      <td>0.0</td>\n",
       "      <td>51.503044</td>\n",
       "    </tr>\n",
       "    <tr>\n",
       "      <th>2</th>\n",
       "      <td>2</td>\n",
       "      <td>0.00144</td>\n",
       "      <td>103.006107</td>\n",
       "      <td>0.0</td>\n",
       "      <td>0.0</td>\n",
       "      <td>103.006107</td>\n",
       "    </tr>\n",
       "    <tr>\n",
       "      <th>3</th>\n",
       "      <td>3</td>\n",
       "      <td>0.00216</td>\n",
       "      <td>154.507658</td>\n",
       "      <td>0.0</td>\n",
       "      <td>0.0</td>\n",
       "      <td>154.507658</td>\n",
       "    </tr>\n",
       "    <tr>\n",
       "      <th>4</th>\n",
       "      <td>4</td>\n",
       "      <td>0.00288</td>\n",
       "      <td>205.835691</td>\n",
       "      <td>0.0</td>\n",
       "      <td>0.0</td>\n",
       "      <td>205.835691</td>\n",
       "    </tr>\n",
       "  </tbody>\n",
       "</table>\n",
       "</div>"
      ],
      "text/plain": [
       "   time    eto11       sig11  eto12  sig12      sig_eq\n",
       "0     0  0.00000    0.000000    0.0    0.0    0.000000\n",
       "1     1  0.00072   51.503044    0.0    0.0   51.503044\n",
       "2     2  0.00144  103.006107    0.0    0.0  103.006107\n",
       "3     3  0.00216  154.507658    0.0    0.0  154.507658\n",
       "4     4  0.00288  205.835691    0.0    0.0  205.835691"
      ]
     },
     "execution_count": 19,
     "metadata": {},
     "output_type": "execute_result"
    }
   ],
   "source": [
    "bi16.columns=['time','eto11','sig11','eto12','sig12','sig_eq']\n",
    "bi16.head()"
   ]
  },
  {
   "cell_type": "code",
   "execution_count": 20,
   "metadata": {},
   "outputs": [
    {
     "data": {
      "text/html": [
       "<div>\n",
       "<style scoped>\n",
       "    .dataframe tbody tr th:only-of-type {\n",
       "        vertical-align: middle;\n",
       "    }\n",
       "\n",
       "    .dataframe tbody tr th {\n",
       "        vertical-align: top;\n",
       "    }\n",
       "\n",
       "    .dataframe thead th {\n",
       "        text-align: right;\n",
       "    }\n",
       "</style>\n",
       "<table border=\"1\" class=\"dataframe\">\n",
       "  <thead>\n",
       "    <tr style=\"text-align: right;\">\n",
       "      <th></th>\n",
       "      <th>time</th>\n",
       "      <th>eto11</th>\n",
       "      <th>sig11</th>\n",
       "      <th>eto12</th>\n",
       "      <th>sig12</th>\n",
       "      <th>sig_eq</th>\n",
       "    </tr>\n",
       "  </thead>\n",
       "  <tbody>\n",
       "    <tr>\n",
       "      <th>0</th>\n",
       "      <td>0</td>\n",
       "      <td>0.0000</td>\n",
       "      <td>0.000000</td>\n",
       "      <td>0.0</td>\n",
       "      <td>0.0</td>\n",
       "      <td>0.000000</td>\n",
       "    </tr>\n",
       "    <tr>\n",
       "      <th>1</th>\n",
       "      <td>1</td>\n",
       "      <td>0.0008</td>\n",
       "      <td>57.225600</td>\n",
       "      <td>0.0</td>\n",
       "      <td>0.0</td>\n",
       "      <td>57.225600</td>\n",
       "    </tr>\n",
       "    <tr>\n",
       "      <th>2</th>\n",
       "      <td>2</td>\n",
       "      <td>0.0016</td>\n",
       "      <td>114.451193</td>\n",
       "      <td>0.0</td>\n",
       "      <td>0.0</td>\n",
       "      <td>114.451193</td>\n",
       "    </tr>\n",
       "    <tr>\n",
       "      <th>3</th>\n",
       "      <td>3</td>\n",
       "      <td>0.0024</td>\n",
       "      <td>171.668991</td>\n",
       "      <td>0.0</td>\n",
       "      <td>0.0</td>\n",
       "      <td>171.668991</td>\n",
       "    </tr>\n",
       "    <tr>\n",
       "      <th>4</th>\n",
       "      <td>4</td>\n",
       "      <td>0.0032</td>\n",
       "      <td>228.040837</td>\n",
       "      <td>0.0</td>\n",
       "      <td>0.0</td>\n",
       "      <td>228.040837</td>\n",
       "    </tr>\n",
       "  </tbody>\n",
       "</table>\n",
       "</div>"
      ],
      "text/plain": [
       "   time   eto11       sig11  eto12  sig12      sig_eq\n",
       "0     0  0.0000    0.000000    0.0    0.0    0.000000\n",
       "1     1  0.0008   57.225600    0.0    0.0   57.225600\n",
       "2     2  0.0016  114.451193    0.0    0.0  114.451193\n",
       "3     3  0.0024  171.668991    0.0    0.0  171.668991\n",
       "4     4  0.0032  228.040837    0.0    0.0  228.040837"
      ]
     },
     "execution_count": 20,
     "metadata": {},
     "output_type": "execute_result"
    }
   ],
   "source": [
    "bi17.columns=['time','eto11','sig11','eto12','sig12','sig_eq']\n",
    "bi17.head()"
   ]
  },
  {
   "cell_type": "code",
   "execution_count": 21,
   "metadata": {},
   "outputs": [
    {
     "data": {
      "text/html": [
       "<div>\n",
       "<style scoped>\n",
       "    .dataframe tbody tr th:only-of-type {\n",
       "        vertical-align: middle;\n",
       "    }\n",
       "\n",
       "    .dataframe tbody tr th {\n",
       "        vertical-align: top;\n",
       "    }\n",
       "\n",
       "    .dataframe thead th {\n",
       "        text-align: right;\n",
       "    }\n",
       "</style>\n",
       "<table border=\"1\" class=\"dataframe\">\n",
       "  <thead>\n",
       "    <tr style=\"text-align: right;\">\n",
       "      <th></th>\n",
       "      <th>time</th>\n",
       "      <th>eto11</th>\n",
       "      <th>sig11</th>\n",
       "      <th>eto12</th>\n",
       "      <th>sig12</th>\n",
       "      <th>sig_eq</th>\n",
       "    </tr>\n",
       "  </thead>\n",
       "  <tbody>\n",
       "    <tr>\n",
       "      <th>0</th>\n",
       "      <td>0</td>\n",
       "      <td>0.00000</td>\n",
       "      <td>0.000000</td>\n",
       "      <td>0.0</td>\n",
       "      <td>0.0</td>\n",
       "      <td>0.000000</td>\n",
       "    </tr>\n",
       "    <tr>\n",
       "      <th>1</th>\n",
       "      <td>1</td>\n",
       "      <td>0.00056</td>\n",
       "      <td>40.057920</td>\n",
       "      <td>0.0</td>\n",
       "      <td>0.0</td>\n",
       "      <td>40.057920</td>\n",
       "    </tr>\n",
       "    <tr>\n",
       "      <th>2</th>\n",
       "      <td>2</td>\n",
       "      <td>0.00112</td>\n",
       "      <td>80.115840</td>\n",
       "      <td>0.0</td>\n",
       "      <td>0.0</td>\n",
       "      <td>80.115840</td>\n",
       "    </tr>\n",
       "    <tr>\n",
       "      <th>3</th>\n",
       "      <td>3</td>\n",
       "      <td>0.00168</td>\n",
       "      <td>120.173736</td>\n",
       "      <td>0.0</td>\n",
       "      <td>0.0</td>\n",
       "      <td>120.173736</td>\n",
       "    </tr>\n",
       "    <tr>\n",
       "      <th>4</th>\n",
       "      <td>4</td>\n",
       "      <td>0.00224</td>\n",
       "      <td>160.228171</td>\n",
       "      <td>0.0</td>\n",
       "      <td>0.0</td>\n",
       "      <td>160.228171</td>\n",
       "    </tr>\n",
       "  </tbody>\n",
       "</table>\n",
       "</div>"
      ],
      "text/plain": [
       "   time    eto11       sig11  eto12  sig12      sig_eq\n",
       "0     0  0.00000    0.000000    0.0    0.0    0.000000\n",
       "1     1  0.00056   40.057920    0.0    0.0   40.057920\n",
       "2     2  0.00112   80.115840    0.0    0.0   80.115840\n",
       "3     3  0.00168  120.173736    0.0    0.0  120.173736\n",
       "4     4  0.00224  160.228171    0.0    0.0  160.228171"
      ]
     },
     "execution_count": 21,
     "metadata": {},
     "output_type": "execute_result"
    }
   ],
   "source": [
    "bi18.columns=['time','eto11','sig11','eto12','sig12','sig_eq']\n",
    "bi18.head()"
   ]
  },
  {
   "cell_type": "code",
   "execution_count": 22,
   "metadata": {},
   "outputs": [
    {
     "data": {
      "text/html": [
       "<div>\n",
       "<style scoped>\n",
       "    .dataframe tbody tr th:only-of-type {\n",
       "        vertical-align: middle;\n",
       "    }\n",
       "\n",
       "    .dataframe tbody tr th {\n",
       "        vertical-align: top;\n",
       "    }\n",
       "\n",
       "    .dataframe thead th {\n",
       "        text-align: right;\n",
       "    }\n",
       "</style>\n",
       "<table border=\"1\" class=\"dataframe\">\n",
       "  <thead>\n",
       "    <tr style=\"text-align: right;\">\n",
       "      <th></th>\n",
       "      <th>time</th>\n",
       "      <th>eto11</th>\n",
       "      <th>sig11</th>\n",
       "      <th>eto12</th>\n",
       "      <th>sig12</th>\n",
       "      <th>sig_eq</th>\n",
       "    </tr>\n",
       "  </thead>\n",
       "  <tbody>\n",
       "    <tr>\n",
       "      <th>0</th>\n",
       "      <td>0</td>\n",
       "      <td>0.00000</td>\n",
       "      <td>0.000000</td>\n",
       "      <td>0.0</td>\n",
       "      <td>0.0</td>\n",
       "      <td>0.000000</td>\n",
       "    </tr>\n",
       "    <tr>\n",
       "      <th>1</th>\n",
       "      <td>1</td>\n",
       "      <td>0.00072</td>\n",
       "      <td>51.503044</td>\n",
       "      <td>0.0</td>\n",
       "      <td>0.0</td>\n",
       "      <td>51.503044</td>\n",
       "    </tr>\n",
       "    <tr>\n",
       "      <th>2</th>\n",
       "      <td>2</td>\n",
       "      <td>0.00144</td>\n",
       "      <td>103.006107</td>\n",
       "      <td>0.0</td>\n",
       "      <td>0.0</td>\n",
       "      <td>103.006107</td>\n",
       "    </tr>\n",
       "    <tr>\n",
       "      <th>3</th>\n",
       "      <td>3</td>\n",
       "      <td>0.00216</td>\n",
       "      <td>154.507658</td>\n",
       "      <td>0.0</td>\n",
       "      <td>0.0</td>\n",
       "      <td>154.507658</td>\n",
       "    </tr>\n",
       "    <tr>\n",
       "      <th>4</th>\n",
       "      <td>4</td>\n",
       "      <td>0.00288</td>\n",
       "      <td>205.835691</td>\n",
       "      <td>0.0</td>\n",
       "      <td>0.0</td>\n",
       "      <td>205.835691</td>\n",
       "    </tr>\n",
       "  </tbody>\n",
       "</table>\n",
       "</div>"
      ],
      "text/plain": [
       "   time    eto11       sig11  eto12  sig12      sig_eq\n",
       "0     0  0.00000    0.000000    0.0    0.0    0.000000\n",
       "1     1  0.00072   51.503044    0.0    0.0   51.503044\n",
       "2     2  0.00144  103.006107    0.0    0.0  103.006107\n",
       "3     3  0.00216  154.507658    0.0    0.0  154.507658\n",
       "4     4  0.00288  205.835691    0.0    0.0  205.835691"
      ]
     },
     "execution_count": 22,
     "metadata": {},
     "output_type": "execute_result"
    }
   ],
   "source": [
    "bi19.columns=['time','eto11','sig11','eto12','sig12','sig_eq']\n",
    "bi16.head()"
   ]
  },
  {
   "cell_type": "code",
   "execution_count": 23,
   "metadata": {},
   "outputs": [
    {
     "name": "stdout",
     "output_type": "stream",
     "text": [
      "15104 15077 13210 14834 14652 17543 4107 3388 11733 12701 7992 6160 18711 7022 10850 13825 11906 15329 16610\n"
     ]
    }
   ],
   "source": [
    "print(len(bi1),len(bi2),len(bi3),len(bi4),len(bi5),len(bi6),len(bi7),len(bi8),len(bi9),len(bi10),len(bi11),len(bi12),len(bi13),len(bi14),len(bi15),len(bi16),len(bi17),len(bi18),len(bi19))"
   ]
  },
  {
   "cell_type": "code",
   "execution_count": 24,
   "metadata": {},
   "outputs": [
    {
     "data": {
      "text/plain": [
       "<matplotlib.axes._subplots.AxesSubplot at 0x7fc38bbd7790>"
      ]
     },
     "execution_count": 24,
     "metadata": {},
     "output_type": "execute_result"
    },
    {
     "data": {
      "image/png": "[encoded data removed]",
      "text/plain": [
       "<Figure size 1152x432 with 1 Axes>"
      ]
     },
     "metadata": {
      "needs_background": "light"
     },
     "output_type": "display_data"
    }
   ],
   "source": [
    "f,ax=plt.subplots(figsize=(16,6))\n",
    "bi3[['sig_eq']].plot(ax=ax,grid=True)"
   ]
  },
  {
   "cell_type": "code",
   "execution_count": 25,
   "metadata": {},
   "outputs": [],
   "source": [
    " def series_to_supervised(data, n_in=1, n_out=1, dropnan=True):\n",
    "\n",
    "\tn_vars = 1 if type(data) is list else data.shape[1]\n",
    "\tdf = pd.DataFrame(data)\n",
    "\tcols, names = list(), list()\n",
    "\t# input sequence (t-n, ... t-1)\n",
    "\tfor i in range(n_in, 0, -1):\n",
    "\t\tcols.append(df.shift(i))\n",
    "\t\tnames += [('var%d(t-%d)' % (j+1, i)) for j in range(n_vars)]\n",
    "\t# forecast sequence (t, t+1, ... t+n)\n",
    "\tfor i in range(0, n_out):\n",
    "\t\tcols.append(df.shift(-i))\n",
    "\t\tif i == 0:\n",
    "\t\t\tnames += [('var%d(t)' % (j+1)) for j in range(n_vars)]\n",
    "\t\telse:\n",
    "\t\t\tnames += [('var%d(t+%d)' % (j+1, i)) for j in range(n_vars)]\n",
    "\t# put it all together\n",
    "\tagg = pd.concat(cols, axis=1)\n",
    "\tagg.columns = names\n",
    "\t# drop rows with NaN valuestype(new_uni4.iloc[1,2])\n",
    "\tif dropnan:\n",
    "\t\tagg.dropna(inplace=True)\n",
    "\treturn agg\n"
   ]
  },
  {
   "cell_type": "code",
   "execution_count": 26,
   "metadata": {},
   "outputs": [],
   "source": [
    "data=pd.concat([bi1,bi2,bi3,bi4,bi5,bi6,bi7,bi8,bi9,bi10,bi11,bi12,bi13,bi14,bi15,bi16,bi17,bi18,bi19])"
   ]
  },
  {
   "cell_type": "code",
   "execution_count": 27,
   "metadata": {},
   "outputs": [
    {
     "data": {
      "text/html": [
       "<div>\n",
       "<style scoped>\n",
       "    .dataframe tbody tr th:only-of-type {\n",
       "        vertical-align: middle;\n",
       "    }\n",
       "\n",
       "    .dataframe tbody tr th {\n",
       "        vertical-align: top;\n",
       "    }\n",
       "\n",
       "    .dataframe thead th {\n",
       "        text-align: right;\n",
       "    }\n",
       "</style>\n",
       "<table border=\"1\" class=\"dataframe\">\n",
       "  <thead>\n",
       "    <tr style=\"text-align: right;\">\n",
       "      <th></th>\n",
       "      <th>time</th>\n",
       "      <th>eto11</th>\n",
       "      <th>sig11</th>\n",
       "      <th>eto12</th>\n",
       "      <th>sig12</th>\n",
       "      <th>sig_eq</th>\n",
       "    </tr>\n",
       "  </thead>\n",
       "  <tbody>\n",
       "    <tr>\n",
       "      <th>0</th>\n",
       "      <td>0</td>\n",
       "      <td>0.00000</td>\n",
       "      <td>0.000000</td>\n",
       "      <td>0.00000</td>\n",
       "      <td>0.000000</td>\n",
       "      <td>0.000000</td>\n",
       "    </tr>\n",
       "    <tr>\n",
       "      <th>1</th>\n",
       "      <td>1</td>\n",
       "      <td>0.00064</td>\n",
       "      <td>45.780480</td>\n",
       "      <td>0.00032</td>\n",
       "      <td>17.607877</td>\n",
       "      <td>55.008766</td>\n",
       "    </tr>\n",
       "    <tr>\n",
       "      <th>2</th>\n",
       "      <td>2</td>\n",
       "      <td>0.00128</td>\n",
       "      <td>91.560957</td>\n",
       "      <td>0.00064</td>\n",
       "      <td>35.215752</td>\n",
       "      <td>110.017527</td>\n",
       "    </tr>\n",
       "    <tr>\n",
       "      <th>3</th>\n",
       "      <td>3</td>\n",
       "      <td>0.00192</td>\n",
       "      <td>137.337337</td>\n",
       "      <td>0.00096</td>\n",
       "      <td>52.821467</td>\n",
       "      <td>165.020806</td>\n",
       "    </tr>\n",
       "    <tr>\n",
       "      <th>4</th>\n",
       "      <td>4</td>\n",
       "      <td>0.00256</td>\n",
       "      <td>182.661448</td>\n",
       "      <td>0.00128</td>\n",
       "      <td>70.189930</td>\n",
       "      <td>219.419879</td>\n",
       "    </tr>\n",
       "  </tbody>\n",
       "</table>\n",
       "</div>"
      ],
      "text/plain": [
       "   time    eto11       sig11    eto12      sig12      sig_eq\n",
       "0     0  0.00000    0.000000  0.00000   0.000000    0.000000\n",
       "1     1  0.00064   45.780480  0.00032  17.607877   55.008766\n",
       "2     2  0.00128   91.560957  0.00064  35.215752  110.017527\n",
       "3     3  0.00192  137.337337  0.00096  52.821467  165.020806\n",
       "4     4  0.00256  182.661448  0.00128  70.189930  219.419879"
      ]
     },
     "execution_count": 27,
     "metadata": {},
     "output_type": "execute_result"
    }
   ],
   "source": [
    "data.head()"
   ]
  },
  {
   "cell_type": "code",
   "execution_count": 28,
   "metadata": {},
   "outputs": [
    {
     "data": {
      "text/html": [
       "<div>\n",
       "<style scoped>\n",
       "    .dataframe tbody tr th:only-of-type {\n",
       "        vertical-align: middle;\n",
       "    }\n",
       "\n",
       "    .dataframe tbody tr th {\n",
       "        vertical-align: top;\n",
       "    }\n",
       "\n",
       "    .dataframe thead th {\n",
       "        text-align: right;\n",
       "    }\n",
       "</style>\n",
       "<table border=\"1\" class=\"dataframe\">\n",
       "  <thead>\n",
       "    <tr style=\"text-align: right;\">\n",
       "      <th></th>\n",
       "      <th>eto11</th>\n",
       "      <th>eto12</th>\n",
       "      <th>sig_eq</th>\n",
       "    </tr>\n",
       "  </thead>\n",
       "  <tbody>\n",
       "    <tr>\n",
       "      <th>0</th>\n",
       "      <td>0.00000</td>\n",
       "      <td>0.00000</td>\n",
       "      <td>0.000000</td>\n",
       "    </tr>\n",
       "    <tr>\n",
       "      <th>1</th>\n",
       "      <td>0.00064</td>\n",
       "      <td>0.00032</td>\n",
       "      <td>55.008766</td>\n",
       "    </tr>\n",
       "    <tr>\n",
       "      <th>2</th>\n",
       "      <td>0.00128</td>\n",
       "      <td>0.00064</td>\n",
       "      <td>110.017527</td>\n",
       "    </tr>\n",
       "    <tr>\n",
       "      <th>3</th>\n",
       "      <td>0.00192</td>\n",
       "      <td>0.00096</td>\n",
       "      <td>165.020806</td>\n",
       "    </tr>\n",
       "    <tr>\n",
       "      <th>4</th>\n",
       "      <td>0.00256</td>\n",
       "      <td>0.00128</td>\n",
       "      <td>219.419879</td>\n",
       "    </tr>\n",
       "  </tbody>\n",
       "</table>\n",
       "</div>"
      ],
      "text/plain": [
       "     eto11    eto12      sig_eq\n",
       "0  0.00000  0.00000    0.000000\n",
       "1  0.00064  0.00032   55.008766\n",
       "2  0.00128  0.00064  110.017527\n",
       "3  0.00192  0.00096  165.020806\n",
       "4  0.00256  0.00128  219.419879"
      ]
     },
     "execution_count": 28,
     "metadata": {},
     "output_type": "execute_result"
    }
   ],
   "source": [
    "n_data=pd.DataFrame(columns=['eto11','eto12','sig_eq'])\n",
    "n_data['eto11']=data.iloc[:,1]\n",
    "n_data['eto12']=data.iloc[:,3]\n",
    "n_data['sig_eq']=data.iloc[:,5]\n",
    "\n",
    "n_data.head()"
   ]
  },
  {
   "cell_type": "code",
   "execution_count": 29,
   "metadata": {},
   "outputs": [
    {
     "data": {
      "text/html": [
       "<div>\n",
       "<style scoped>\n",
       "    .dataframe tbody tr th:only-of-type {\n",
       "        vertical-align: middle;\n",
       "    }\n",
       "\n",
       "    .dataframe tbody tr th {\n",
       "        vertical-align: top;\n",
       "    }\n",
       "\n",
       "    .dataframe thead th {\n",
       "        text-align: right;\n",
       "    }\n",
       "</style>\n",
       "<table border=\"1\" class=\"dataframe\">\n",
       "  <thead>\n",
       "    <tr style=\"text-align: right;\">\n",
       "      <th></th>\n",
       "      <th>time (sec)</th>\n",
       "      <th>eto11</th>\n",
       "      <th>sig11</th>\n",
       "      <th>eto12</th>\n",
       "      <th>sig12</th>\n",
       "      <th>sig_equ</th>\n",
       "    </tr>\n",
       "  </thead>\n",
       "  <tbody>\n",
       "    <tr>\n",
       "      <th>0</th>\n",
       "      <td>0.0</td>\n",
       "      <td>0.000000</td>\n",
       "      <td>0.000000</td>\n",
       "      <td>0.000000</td>\n",
       "      <td>0.000000</td>\n",
       "      <td>0.000000</td>\n",
       "    </tr>\n",
       "    <tr>\n",
       "      <th>1</th>\n",
       "      <td>0.2</td>\n",
       "      <td>0.000078</td>\n",
       "      <td>5.092727</td>\n",
       "      <td>0.001710</td>\n",
       "      <td>90.865593</td>\n",
       "      <td>157.466200</td>\n",
       "    </tr>\n",
       "    <tr>\n",
       "      <th>2</th>\n",
       "      <td>0.4</td>\n",
       "      <td>0.000195</td>\n",
       "      <td>12.643000</td>\n",
       "      <td>0.002364</td>\n",
       "      <td>124.682816</td>\n",
       "      <td>216.326742</td>\n",
       "    </tr>\n",
       "    <tr>\n",
       "      <th>3</th>\n",
       "      <td>0.6</td>\n",
       "      <td>0.000279</td>\n",
       "      <td>21.778660</td>\n",
       "      <td>0.003001</td>\n",
       "      <td>152.421364</td>\n",
       "      <td>264.898333</td>\n",
       "    </tr>\n",
       "    <tr>\n",
       "      <th>4</th>\n",
       "      <td>0.8</td>\n",
       "      <td>0.000501</td>\n",
       "      <td>31.490356</td>\n",
       "      <td>0.003698</td>\n",
       "      <td>164.774511</td>\n",
       "      <td>287.129868</td>\n",
       "    </tr>\n",
       "  </tbody>\n",
       "</table>\n",
       "</div>"
      ],
      "text/plain": [
       "   time (sec)     eto11      sig11     eto12       sig12     sig_equ\n",
       "0         0.0  0.000000   0.000000  0.000000    0.000000    0.000000\n",
       "1         0.2  0.000078   5.092727  0.001710   90.865593  157.466200\n",
       "2         0.4  0.000195  12.643000  0.002364  124.682816  216.326742\n",
       "3         0.6  0.000279  21.778660  0.003001  152.421364  264.898333\n",
       "4         0.8  0.000501  31.490356  0.003698  164.774511  287.129868"
      ]
     },
     "execution_count": 29,
     "metadata": {},
     "output_type": "execute_result"
    }
   ],
   "source": [
    "r1=pd.read_excel('real1.xlsx')\n",
    "r2=pd.read_excel('real2.xlsx')\n",
    "r3=pd.read_excel('real3.xlsx')\n",
    "r1=r1.iloc[:,:5]\n",
    "r2=r2.iloc[:,:5]\n",
    "r3=r3.iloc[:,:5]\n",
    "r1['sig_equ']=np.sqrt((r1['sig11']**2)+(3*(r1['sig12']**2)))\n",
    "r2['sig_equ']=np.sqrt((r2['sig11']**2)+(3*(r2['sig12']**2)))\n",
    "r3['sig_equ']=np.sqrt((r3['sig11']**2)+(3*(r3['sig12']**2)))\n",
    "\n",
    "r3.head()"
   ]
  },
  {
   "cell_type": "code",
   "execution_count": 30,
   "metadata": {},
   "outputs": [
    {
     "data": {
      "text/html": [
       "<div>\n",
       "<style scoped>\n",
       "    .dataframe tbody tr th:only-of-type {\n",
       "        vertical-align: middle;\n",
       "    }\n",
       "\n",
       "    .dataframe tbody tr th {\n",
       "        vertical-align: top;\n",
       "    }\n",
       "\n",
       "    .dataframe thead th {\n",
       "        text-align: right;\n",
       "    }\n",
       "</style>\n",
       "<table border=\"1\" class=\"dataframe\">\n",
       "  <thead>\n",
       "    <tr style=\"text-align: right;\">\n",
       "      <th></th>\n",
       "      <th>eto11</th>\n",
       "      <th>eto12</th>\n",
       "      <th>sig_eq</th>\n",
       "    </tr>\n",
       "  </thead>\n",
       "  <tbody>\n",
       "    <tr>\n",
       "      <th>0</th>\n",
       "      <td>5.859140e-06</td>\n",
       "      <td>7.790050e-06</td>\n",
       "      <td>1.518116</td>\n",
       "    </tr>\n",
       "    <tr>\n",
       "      <th>1</th>\n",
       "      <td>3.099440e-07</td>\n",
       "      <td>-4.839720e-06</td>\n",
       "      <td>1.562704</td>\n",
       "    </tr>\n",
       "    <tr>\n",
       "      <th>2</th>\n",
       "      <td>-1.707080e-05</td>\n",
       "      <td>2.154630e-06</td>\n",
       "      <td>1.256527</td>\n",
       "    </tr>\n",
       "    <tr>\n",
       "      <th>3</th>\n",
       "      <td>6.085630e-06</td>\n",
       "      <td>-3.114230e-07</td>\n",
       "      <td>1.346755</td>\n",
       "    </tr>\n",
       "    <tr>\n",
       "      <th>4</th>\n",
       "      <td>1.571770e-05</td>\n",
       "      <td>-6.004950e-06</td>\n",
       "      <td>1.270272</td>\n",
       "    </tr>\n",
       "  </tbody>\n",
       "</table>\n",
       "</div>"
      ],
      "text/plain": [
       "          eto11         eto12    sig_eq\n",
       "0  5.859140e-06  7.790050e-06  1.518116\n",
       "1  3.099440e-07 -4.839720e-06  1.562704\n",
       "2 -1.707080e-05  2.154630e-06  1.256527\n",
       "3  6.085630e-06 -3.114230e-07  1.346755\n",
       "4  1.571770e-05 -6.004950e-06  1.270272"
      ]
     },
     "execution_count": 30,
     "metadata": {},
     "output_type": "execute_result"
    }
   ],
   "source": [
    "r1.columns=['time','eto11','sig11','eto12','sig12','sig_eq']\n",
    "r2.columns=['time','eto11','sig11','eto12','sig12','sig_eq']\n",
    "r3.columns=['time','eto11','sig11','eto12','sig12','sig_eq']\n",
    "re=pd.concat([r1,r2,r3])\n",
    "\n",
    "real=pd.DataFrame(columns=['eto11','eto12','sig_eq'])\n",
    "real['eto11']=re.iloc[:,1]\n",
    "real['eto12']=re.iloc[:,3]\n",
    "real['sig_eq']=re.iloc[:,5]\n",
    "real.head()"
   ]
  },
  {
   "cell_type": "code",
   "execution_count": 31,
   "metadata": {},
   "outputs": [
    {
     "data": {
      "text/plain": [
       "99705"
      ]
     },
     "execution_count": 31,
     "metadata": {},
     "output_type": "execute_result"
    }
   ],
   "source": [
    "len(real)"
   ]
  },
  {
   "cell_type": "code",
   "execution_count": 32,
   "metadata": {},
   "outputs": [
    {
     "data": {
      "text/html": [
       "<div>\n",
       "<style scoped>\n",
       "    .dataframe tbody tr th:only-of-type {\n",
       "        vertical-align: middle;\n",
       "    }\n",
       "\n",
       "    .dataframe tbody tr th {\n",
       "        vertical-align: top;\n",
       "    }\n",
       "\n",
       "    .dataframe thead th {\n",
       "        text-align: right;\n",
       "    }\n",
       "</style>\n",
       "<table border=\"1\" class=\"dataframe\">\n",
       "  <thead>\n",
       "    <tr style=\"text-align: right;\">\n",
       "      <th></th>\n",
       "      <th>var1(t-1)</th>\n",
       "      <th>var2(t-1)</th>\n",
       "      <th>var3(t-1)</th>\n",
       "      <th>var1(t)</th>\n",
       "      <th>var2(t)</th>\n",
       "      <th>var3(t)</th>\n",
       "    </tr>\n",
       "  </thead>\n",
       "  <tbody>\n",
       "    <tr>\n",
       "      <th>1</th>\n",
       "      <td>0.00000</td>\n",
       "      <td>0.00000</td>\n",
       "      <td>0.000000</td>\n",
       "      <td>0.00064</td>\n",
       "      <td>0.00032</td>\n",
       "      <td>55.008766</td>\n",
       "    </tr>\n",
       "    <tr>\n",
       "      <th>2</th>\n",
       "      <td>0.00064</td>\n",
       "      <td>0.00032</td>\n",
       "      <td>55.008766</td>\n",
       "      <td>0.00128</td>\n",
       "      <td>0.00064</td>\n",
       "      <td>110.017527</td>\n",
       "    </tr>\n",
       "    <tr>\n",
       "      <th>3</th>\n",
       "      <td>0.00128</td>\n",
       "      <td>0.00064</td>\n",
       "      <td>110.017527</td>\n",
       "      <td>0.00192</td>\n",
       "      <td>0.00096</td>\n",
       "      <td>165.020806</td>\n",
       "    </tr>\n",
       "    <tr>\n",
       "      <th>4</th>\n",
       "      <td>0.00192</td>\n",
       "      <td>0.00096</td>\n",
       "      <td>165.020806</td>\n",
       "      <td>0.00256</td>\n",
       "      <td>0.00128</td>\n",
       "      <td>219.419879</td>\n",
       "    </tr>\n",
       "    <tr>\n",
       "      <th>5</th>\n",
       "      <td>0.00256</td>\n",
       "      <td>0.00128</td>\n",
       "      <td>219.419879</td>\n",
       "      <td>0.00320</td>\n",
       "      <td>0.00160</td>\n",
       "      <td>262.274844</td>\n",
       "    </tr>\n",
       "  </tbody>\n",
       "</table>\n",
       "</div>"
      ],
      "text/plain": [
       "   var1(t-1)  var2(t-1)   var3(t-1)  var1(t)  var2(t)     var3(t)\n",
       "1    0.00000    0.00000    0.000000  0.00064  0.00032   55.008766\n",
       "2    0.00064    0.00032   55.008766  0.00128  0.00064  110.017527\n",
       "3    0.00128    0.00064  110.017527  0.00192  0.00096  165.020806\n",
       "4    0.00192    0.00096  165.020806  0.00256  0.00128  219.419879\n",
       "5    0.00256    0.00128  219.419879  0.00320  0.00160  262.274844"
      ]
     },
     "execution_count": 32,
     "metadata": {},
     "output_type": "execute_result"
    }
   ],
   "source": [
    "data = series_to_supervised(n_data.values, 1, 1)\n",
    "data.head()"
   ]
  },
  {
   "cell_type": "code",
   "execution_count": 33,
   "metadata": {},
   "outputs": [
    {
     "data": {
      "text/html": [
       "<div>\n",
       "<style scoped>\n",
       "    .dataframe tbody tr th:only-of-type {\n",
       "        vertical-align: middle;\n",
       "    }\n",
       "\n",
       "    .dataframe tbody tr th {\n",
       "        vertical-align: top;\n",
       "    }\n",
       "\n",
       "    .dataframe thead th {\n",
       "        text-align: right;\n",
       "    }\n",
       "</style>\n",
       "<table border=\"1\" class=\"dataframe\">\n",
       "  <thead>\n",
       "    <tr style=\"text-align: right;\">\n",
       "      <th></th>\n",
       "      <th>eto11(t-1)</th>\n",
       "      <th>sig11(t-1)</th>\n",
       "      <th>siq_eq(t-1)</th>\n",
       "      <th>eto11(t)</th>\n",
       "      <th>sig11(t)</th>\n",
       "      <th>siq_eq(t)</th>\n",
       "    </tr>\n",
       "  </thead>\n",
       "  <tbody>\n",
       "    <tr>\n",
       "      <th>1</th>\n",
       "      <td>0.00000</td>\n",
       "      <td>0.00000</td>\n",
       "      <td>0.000000</td>\n",
       "      <td>0.00064</td>\n",
       "      <td>0.00032</td>\n",
       "      <td>55.008766</td>\n",
       "    </tr>\n",
       "    <tr>\n",
       "      <th>2</th>\n",
       "      <td>0.00064</td>\n",
       "      <td>0.00032</td>\n",
       "      <td>55.008766</td>\n",
       "      <td>0.00128</td>\n",
       "      <td>0.00064</td>\n",
       "      <td>110.017527</td>\n",
       "    </tr>\n",
       "    <tr>\n",
       "      <th>3</th>\n",
       "      <td>0.00128</td>\n",
       "      <td>0.00064</td>\n",
       "      <td>110.017527</td>\n",
       "      <td>0.00192</td>\n",
       "      <td>0.00096</td>\n",
       "      <td>165.020806</td>\n",
       "    </tr>\n",
       "    <tr>\n",
       "      <th>4</th>\n",
       "      <td>0.00192</td>\n",
       "      <td>0.00096</td>\n",
       "      <td>165.020806</td>\n",
       "      <td>0.00256</td>\n",
       "      <td>0.00128</td>\n",
       "      <td>219.419879</td>\n",
       "    </tr>\n",
       "    <tr>\n",
       "      <th>5</th>\n",
       "      <td>0.00256</td>\n",
       "      <td>0.00128</td>\n",
       "      <td>219.419879</td>\n",
       "      <td>0.00320</td>\n",
       "      <td>0.00160</td>\n",
       "      <td>262.274844</td>\n",
       "    </tr>\n",
       "  </tbody>\n",
       "</table>\n",
       "</div>"
      ],
      "text/plain": [
       "   eto11(t-1)  sig11(t-1)  siq_eq(t-1)  eto11(t)  sig11(t)   siq_eq(t)\n",
       "1     0.00000     0.00000     0.000000   0.00064   0.00032   55.008766\n",
       "2     0.00064     0.00032    55.008766   0.00128   0.00064  110.017527\n",
       "3     0.00128     0.00064   110.017527   0.00192   0.00096  165.020806\n",
       "4     0.00192     0.00096   165.020806   0.00256   0.00128  219.419879\n",
       "5     0.00256     0.00128   219.419879   0.00320   0.00160  262.274844"
      ]
     },
     "execution_count": 33,
     "metadata": {},
     "output_type": "execute_result"
    }
   ],
   "source": [
    "data.columns=['eto11(t-1)','sig11(t-1)','siq_eq(t-1)','eto11(t)','sig11(t)','siq_eq(t)']\n",
    "data.head()\n"
   ]
  },
  {
   "cell_type": "code",
   "execution_count": null,
   "metadata": {},
   "outputs": [],
   "source": []
  },
  {
   "cell_type": "code",
   "execution_count": 34,
   "metadata": {},
   "outputs": [
    {
     "name": "stdout",
     "output_type": "stream",
     "text": [
      "(207677, 3) (207677, 1) (23076, 3) (23076, 1)\n"
     ]
    }
   ],
   "source": [
    "n_mins=3\n",
    "n_features=1\n",
    "values = data.values\n",
    "n_train_mins=int(len(data)*0.9)\n",
    "train = values[:n_train_mins, :]\n",
    "test = values[n_train_mins:, :]\n",
    "n_obs = n_mins * n_features\n",
    "train_X, train_y = train[:, :n_obs], train[:, -1]\n",
    "test_X,  test_y =test[:, :n_obs], test[:,-1]\n",
    "train_y=train_y.reshape(-1,1)\n",
    "test_y =test_y.reshape(-1,1)\n",
    "print(train_X.shape, train_y.shape, test_X.shape, test_y.shape)\n"
   ]
  },
  {
   "cell_type": "code",
   "execution_count": 35,
   "metadata": {},
   "outputs": [],
   "source": [
    "(x_train, y_train), (x_test, y_test) = (train_X,train_y) ,(test_X,test_y)\n",
    "classes = 1\n",
    "batch_size = 64\n",
    "\n",
    "population = 20\n",
    "generations = 1\n",
    "threshold = 100\n",
    "y_prediction=[]\n"
   ]
  },
  {
   "cell_type": "code",
   "execution_count": 36,
   "metadata": {},
   "outputs": [],
   "source": [
    "def serve_model(epochs, units1, act1, units2, act2, classes, act3, loss, opt, xtrain, ytrain, summary=False):\n",
    "    model = Sequential()\n",
    "    model.add(Dense(units1, input_shape=(3,)))\n",
    "    model.add(Activation(act1))\n",
    "    model.add(Dense(units2))\n",
    "    model.add(Activation(act2))\n",
    "    model.add(Dense(classes))\n",
    "    model.add(Activation(act3))\n",
    "    model.compile(loss=loss, optimizer=opt)\n",
    "    if summary:\n",
    "        model.summary()\n",
    "\n",
    "    model.fit(xtrain, ytrain, batch_size=batch_size, epochs=epochs, verbose=0)\n",
    "\n",
    "    return model"
   ]
  },
  {
   "cell_type": "code",
   "execution_count": 37,
   "metadata": {},
   "outputs": [],
   "source": [
    "class Network():\n",
    "    def __init__(self):\n",
    "        self._epochs = np.random.randint(1, 20)\n",
    "\n",
    "        self._units1 = np.random.randint(1, 500)\n",
    "        self._units2 = np.random.randint(1, 500)\n",
    "\n",
    "        self._act1 = random.choice(['sigmoid', 'relu', 'softmax', 'tanh', 'elu', 'selu', 'linear'])\n",
    "        self._act2 = random.choice(['sigmoid', 'relu', 'softmax', 'tanh', 'elu', 'selu', 'linear'])\n",
    "        self._act3 = 'relu'\n",
    "\n",
    "        self._loss = random.choice([\n",
    "            'mean_squared_error',\n",
    "            'mean_absolute_error',\n",
    "        ])\n",
    "        self._opt = random.choice(['sgd', 'rmsprop', 'adagrad', 'adadelta', 'adam', 'adamax', 'nadam'])\n",
    "\n",
    "        self.rmse = 5000\n",
    "\n",
    "    def init_hyperparams(self):\n",
    "        hyperparams = {\n",
    "            'epochs': self._epochs,\n",
    "            'units1': self._units1,\n",
    "            'act1': self._act1,\n",
    "            'units2': self._units2,\n",
    "            'act2': self._act2,\n",
    "            'act3': self._act3,\n",
    "            'loss': self._loss,\n",
    "            'optimizer': self._opt\n",
    "        }\n",
    "        return hyperparams"
   ]
  },
  {
   "cell_type": "code",
   "execution_count": 38,
   "metadata": {},
   "outputs": [],
   "source": [
    "def init_networks(population):\n",
    "    return [Network() for _ in range(population)]\n",
    "\n",
    "def fitness(networks):\n",
    "    for network in networks:\n",
    "        hyperparams = network.init_hyperparams()\n",
    "        epochs = hyperparams['epochs']\n",
    "        units1 = hyperparams['units1']\n",
    "        act1 = hyperparams['act1']\n",
    "        units2 = hyperparams['units2']\n",
    "        act2 = hyperparams['act2']\n",
    "        act3 = hyperparams['act3']\n",
    "        loss = hyperparams['loss']\n",
    "        opt = hyperparams['optimizer']\n",
    "\n",
    "       # try:\n",
    "        model = serve_model(epochs, units1, act1, units2, act2, classes, act3, loss, opt, x_train, y_train)\n",
    "        y_pred=model.predict(x_test)\n",
    "        y_prediction.append(y_pred)\n",
    "        rmse = np.sqrt(mean_squared_error(y_test, y_pred))\n",
    "\n",
    "        network.rmse = rmse\n",
    "        print ('RMSE: {}'.format(network.rmse))\n",
    "      #  except:\n",
    "        network.rmse = 50000\n",
    "        print ('Build failed.')\n",
    "\n",
    "    return networks\n"
   ]
  },
  {
   "cell_type": "code",
   "execution_count": 39,
   "metadata": {},
   "outputs": [],
   "source": [
    "def selection(networks):\n",
    "    networks = sorted(networks, key=lambda network: network.rmse, reverse=True)\n",
    "    networks = networks[:int(0.2 * len(networks))]\n",
    "\n",
    "    return networks\n",
    "\n",
    "def crossover(networks):\n",
    "    offspring = []\n",
    "    for _ in range(int((population - len(networks)) / 2)):\n",
    "        parent1 = random.choice(networks)\n",
    "        parent2 = random.choice(networks)\n",
    "        child1 = Network()\n",
    "        child2 = Network()\n",
    "\n",
    "        # Crossing over parent hyper-params\n",
    "        child1._epochs = int(parent1._epochs/4) + int(parent2._epochs/2)\n",
    "        child2._epochs = int(parent1._epochs/2) + int(parent2._epochs/4)\n",
    "\n",
    "        child1._units1 = int(parent1._units1/4) + int(parent2._units1/2)\n",
    "        child2._units1 = int(parent1._units1/2) + int(parent2._units1/4)\n",
    "\n",
    "        child1._units2 = int(parent1._units2/4) + int(parent2._units2/2)\n",
    "        child2._units2 = int(parent1._units2/2) + int(parent2._units2/4)\n",
    "\n",
    "        child1._act1 = parent2._act2\n",
    "        child2._act1 = parent1._act2\n",
    "\n",
    "        child1._act2 = parent2._act1\n",
    "        child2._act2 = parent1._act1\n",
    "\n",
    "        child1._act3 = parent2._act2\n",
    "        child2._act3 = parent1._act2\n",
    "\n",
    "        offspring.append(child1)\n",
    "        offspring.append(child2)\n",
    "\n",
    "    networks.extend(offspring)\n",
    "\n",
    "    return networks\n",
    "\n",
    "def mutate(networks):\n",
    "    for network in networks:\n",
    "        if np.random.uniform(0, 1) <= 0.1:\n",
    "            network._epochs += np.random.randint(0,100)\n",
    "            network._units1 += np.random.randint(0,100)\n",
    "            network._units2 += np.random.randint(0,100)\n",
    "\n",
    "    return networks\n"
   ]
  },
  {
   "cell_type": "code",
   "execution_count": 40,
   "metadata": {},
   "outputs": [
    {
     "name": "stdout",
     "output_type": "stream",
     "text": [
      "Generation 1\n",
      "RMSE: 299.93890818604467\n",
      "Build failed.\n",
      "RMSE: 18.965299068678462\n",
      "Build failed.\n",
      "RMSE: 299.93890818604467\n",
      "Build failed.\n",
      "RMSE: 18.967205344920366\n",
      "Build failed.\n",
      "RMSE: 49.901583004770735\n",
      "Build failed.\n",
      "RMSE: 71.107975744719\n",
      "Build failed.\n",
      "RMSE: 224.55370109079578\n",
      "Build failed.\n",
      "RMSE: 18.81714834499343\n",
      "Build failed.\n",
      "RMSE: 21.12618213265316\n",
      "Build failed.\n",
      "RMSE: 20.25586386591166\n",
      "Build failed.\n",
      "RMSE: 25.32116814720424\n",
      "Build failed.\n",
      "RMSE: 299.93890818604467\n",
      "Build failed.\n",
      "RMSE: 68.92384313299405\n",
      "Build failed.\n",
      "RMSE: 20.370127529805057\n",
      "Build failed.\n",
      "RMSE: 299.93890818604467\n",
      "Build failed.\n",
      "RMSE: 21.13808605002098\n",
      "Build failed.\n",
      "RMSE: 265.84118644260315\n",
      "Build failed.\n",
      "RMSE: 21.984618341081106\n",
      "Build failed.\n",
      "RMSE: 299.93890818604467\n",
      "Build failed.\n",
      "RMSE: 299.93890818604467\n",
      "Build failed.\n"
     ]
    }
   ],
   "source": [
    "networks = init_networks(population)\n",
    "x=False\n",
    "for gen in range(generations):\n",
    "    print ('Generation {}'.format(gen+1))\n",
    "\n",
    "    networks = fitness(networks)\n",
    "    networks = selection(networks)\n",
    "    networks = crossover(networks)\n",
    "    networks = mutate(networks)\n",
    "\n",
    "    for network in networks:\n",
    "        if network.rmse < threshold:\n",
    "            x=True\n",
    "            print ('Threshold met')\n",
    "            print (network.init_hyperparams())\n",
    "            print ('Best rmse: {}'.format(network.rmse))\n",
    "            break\n",
    "    if x==True:\n",
    "        break"
   ]
  },
  {
   "cell_type": "code",
   "execution_count": 41,
   "metadata": {},
   "outputs": [],
   "source": [
    "pred=y_prediction[len(y_prediction)-1]"
   ]
  },
  {
   "cell_type": "code",
   "execution_count": 42,
   "metadata": {},
   "outputs": [
    {
     "data": {
      "image/png": "[encoded data removed]",
      "text/plain": [
       "<Figure size 1296x432 with 1 Axes>"
      ]
     },
     "metadata": {
      "needs_background": "light"
     },
     "output_type": "display_data"
    }
   ],
   "source": [
    "# plot\n",
    "plt.figure(figsize=(18,6))\n",
    "plt.plot([x for x in range(1,50)], pred[1:50], linestyle='-', color='blue', label='prediction')\n",
    "plt.plot([x for x in range(1,50)], test_y[1:50], linestyle='-', color='black', label='actual')\n",
    "plt.legend(loc=1, prop={'size': 12})\n",
    "plt.show()\n",
    "\n"
   ]
  },
  {
   "cell_type": "code",
   "execution_count": 43,
   "metadata": {},
   "outputs": [
    {
     "data": {
      "text/html": [
       "<div>\n",
       "<style scoped>\n",
       "    .dataframe tbody tr th:only-of-type {\n",
       "        vertical-align: middle;\n",
       "    }\n",
       "\n",
       "    .dataframe tbody tr th {\n",
       "        vertical-align: top;\n",
       "    }\n",
       "\n",
       "    .dataframe thead th {\n",
       "        text-align: right;\n",
       "    }\n",
       "</style>\n",
       "<table border=\"1\" class=\"dataframe\">\n",
       "  <thead>\n",
       "    <tr style=\"text-align: right;\">\n",
       "      <th></th>\n",
       "      <th>eto11(t-1)</th>\n",
       "      <th>sig11(t-1)</th>\n",
       "      <th>siq_eq(t-1)</th>\n",
       "      <th>eto11(t)</th>\n",
       "      <th>sig11(t)</th>\n",
       "      <th>siq_eq(t)</th>\n",
       "    </tr>\n",
       "  </thead>\n",
       "  <tbody>\n",
       "    <tr>\n",
       "      <th>1</th>\n",
       "      <td>0.00000</td>\n",
       "      <td>0.00000</td>\n",
       "      <td>0.000000</td>\n",
       "      <td>0.00064</td>\n",
       "      <td>0.00032</td>\n",
       "      <td>55.008766</td>\n",
       "    </tr>\n",
       "    <tr>\n",
       "      <th>2</th>\n",
       "      <td>0.00064</td>\n",
       "      <td>0.00032</td>\n",
       "      <td>55.008766</td>\n",
       "      <td>0.00128</td>\n",
       "      <td>0.00064</td>\n",
       "      <td>110.017527</td>\n",
       "    </tr>\n",
       "    <tr>\n",
       "      <th>3</th>\n",
       "      <td>0.00128</td>\n",
       "      <td>0.00064</td>\n",
       "      <td>110.017527</td>\n",
       "      <td>0.00192</td>\n",
       "      <td>0.00096</td>\n",
       "      <td>165.020806</td>\n",
       "    </tr>\n",
       "    <tr>\n",
       "      <th>4</th>\n",
       "      <td>0.00192</td>\n",
       "      <td>0.00096</td>\n",
       "      <td>165.020806</td>\n",
       "      <td>0.00256</td>\n",
       "      <td>0.00128</td>\n",
       "      <td>219.419879</td>\n",
       "    </tr>\n",
       "    <tr>\n",
       "      <th>5</th>\n",
       "      <td>0.00256</td>\n",
       "      <td>0.00128</td>\n",
       "      <td>219.419879</td>\n",
       "      <td>0.00320</td>\n",
       "      <td>0.00160</td>\n",
       "      <td>262.274844</td>\n",
       "    </tr>\n",
       "  </tbody>\n",
       "</table>\n",
       "</div>"
      ],
      "text/plain": [
       "   eto11(t-1)  sig11(t-1)  siq_eq(t-1)  eto11(t)  sig11(t)   siq_eq(t)\n",
       "1     0.00000     0.00000     0.000000   0.00064   0.00032   55.008766\n",
       "2     0.00064     0.00032    55.008766   0.00128   0.00064  110.017527\n",
       "3     0.00128     0.00064   110.017527   0.00192   0.00096  165.020806\n",
       "4     0.00192     0.00096   165.020806   0.00256   0.00128  219.419879\n",
       "5     0.00256     0.00128   219.419879   0.00320   0.00160  262.274844"
      ]
     },
     "execution_count": 43,
     "metadata": {},
     "output_type": "execute_result"
    }
   ],
   "source": [
    "data.head()"
   ]
  },
  {
   "cell_type": "code",
   "execution_count": 44,
   "metadata": {},
   "outputs": [],
   "source": [
    "x3=data.iloc[:-1,0].values\n",
    "x4=data.iloc[:-1,1].values\n",
    "x5=data.iloc[:-1,2].values\n",
    "x6=data.iloc[:-1,3].values\n",
    "x7=data.iloc[:-1,4].values\n",
    "y=data.iloc[1:,5].values\n"
   ]
  },
  {
   "cell_type": "code",
   "execution_count": 45,
   "metadata": {},
   "outputs": [],
   "source": [
    "X=[]\n",
    "for i in range (len (x3)):\n",
    "  X.append([x3[i],x4[i],x5[i],x6[i],x7[i]])"
   ]
  },
  {
   "cell_type": "code",
   "execution_count": 46,
   "metadata": {},
   "outputs": [],
   "source": [
    "def multiple_linear_regression(inputs, outputs):\n",
    "    \"\"\"\n",
    "    Get the best expected outcome.\n",
    "    This is expected to equal the coefficients in generate_data().\n",
    "    \"\"\"\n",
    "    X, Y = array(inputs), array(outputs)\n",
    "    X_t, Y_t = X.transpose(), Y.transpose()\n",
    "    coeff = dot((pinv((dot(X_t, X)))), (dot(X_t, Y)))\n",
    "    Y_p = dot(X, coeff)\n",
    "    Y_mean = mean(Y)\n",
    "    SST = array([(i - Y_mean) ** 2 for i in Y]).sum()\n",
    "    SSR = array([(i - j) ** 2 for i, j in zip(Y, Y_p)]).sum()\n",
    "    COD = (1 - (SSR / SST)) * 100.0\n",
    "    av_error = (SSR / len(Y))\n",
    "    return {'COD': COD, 'coeff': coeff}\n",
    "\n",
    "\n",
    "def check_termination_condition(best_individual):\n",
    "    \"\"\"\n",
    "    Check if the current_best_individual is better of equal to the expected.\n",
    "    \"\"\"\n",
    "    if ((best_individual['COD'] >= 99.0)\n",
    "            or (generation_count == max_generations)):\n",
    "        return True\n",
    "    else:\n",
    "        return False\n",
    "\n",
    "\n",
    "def create_individual(individual_size):\n",
    "    \"\"\"\n",
    "    Create an individual.\n",
    "    \"\"\"\n",
    "    return [random() for i in range(individual_size)]\n",
    "\n",
    "\n",
    "def create_population(individual_size, population_size):\n",
    "    \"\"\"\n",
    "    Create an initial population.\n",
    "    \"\"\"\n",
    "    return [create_individual(individual_size) for i in range(population_size)]\n",
    "\n",
    "\n",
    "def get_fitness(individual, inputs):\n",
    "    \"\"\"\n",
    "    Calculate the fitness of an individual.\n",
    "    Return the Coefficient of Determination, average error and weight.\n",
    "    We use the error to get the best individual.\n",
    "    \"\"\"\n",
    "    predicted_outputs = dot(array(inputs), array(individual))\n",
    "    output_mean = mean(outputs)\n",
    "    SST = array(\n",
    "        [(i - output_mean) ** 2 for i in outputs]).sum()\n",
    "    SSR = array(\n",
    "        [(i - j) ** 2 for i, j in zip(outputs, predicted_outputs)]).sum()\n",
    "    COD = (1 - (SSR / SST)) * 100.0\n",
    "    av_error = (SSR / len(outputs))\n",
    "    return {'COD': COD, 'error': av_error, 'coeff': individual}\n",
    "\n",
    "\n",
    "def evaluate_population(population):\n",
    "    \"\"\"\n",
    "    Evaluate a population of individuals and return the best among them.\n",
    "    \"\"\"\n",
    "    fitness_list = [get_fitness(individual, inputs)\n",
    "                    for individual in tqdm(population)]\n",
    "    error_list = sorted(fitness_list, key=lambda i: i['error'])\n",
    "    best_individuals = error_list[: selection_size]\n",
    "    best_individuals_stash.append(best_individuals[0]['coeff'])\n",
    "  #  print('COD: ', best_individuals[0]['COD'])\n",
    "    return best_individuals\n",
    "\n",
    "\n",
    "def crossover(parent_1, parent_2):\n",
    "    \"\"\"\n",
    "    Return offspring given two parents.\n",
    "    Unlike real scenarios, genes in the chromosomes aren't necessarily linked.\n",
    "    \"\"\"\n",
    "    child = {}\n",
    "    loci = [i for i in range(0, individual_size)]\n",
    "    loci_1 = sample(loci, floor(0.5*(individual_size)))\n",
    "    loci_2 = [i for i in loci if i not in loci_1]\n",
    "    chromosome_1 = [[i, parent_1['coeff'][i]] for i in loci_1]\n",
    "    chromosome_2 = [[i, parent_2['coeff'][i]] for i in loci_2]\n",
    "    child.update({key: value for (key, value) in chromosome_1})\n",
    "    child.update({key: value for (key, value) in chromosome_2})\n",
    "    return [child[i] for i in loci]\n",
    "\n",
    "\n",
    "def mutate(individual):\n",
    "    \"\"\"\n",
    "    Mutate an individual.\n",
    "    The gene transform decides whether we'll add or deduct a random value.\n",
    "    \"\"\"\n",
    "    loci = [i for i in range(0, individual_size)]\n",
    "    no_of_genes_mutated = floor(probability_of_gene_mutating*individual_size)\n",
    "    loci_to_mutate = sample(loci, no_of_genes_mutated)\n",
    "    for locus in loci_to_mutate:\n",
    "        gene_transform = choice([-1, 1])\n",
    "        change = gene_transform*random()\n",
    "        individual[locus] = individual[locus] + change\n",
    "    return individual\n",
    "\n",
    "\n",
    "def get_new_generation(selected_individuals):\n",
    "    \"\"\"\n",
    "    Given selected individuals, create a new population by mating them.\n",
    "    Here we also apply variation operations like mutation and crossover.\n",
    "    \"\"\"\n",
    "    parent_pairs = [sample(selected_individuals, 2)\n",
    "                    for i in range(population_size)]\n",
    "    offspring = [crossover(pair[0], pair[1]) for pair in parent_pairs]\n",
    "    offspring_indices = [i for i in range(population_size)]\n",
    "    offspring_to_mutate = sample(\n",
    "        offspring_indices,\n",
    "        floor(probability_of_individual_mutating*population_size)\n",
    "    )\n",
    "    mutated_offspring = [[i, mutate(offspring[i])]\n",
    "                         for i in offspring_to_mutate]\n",
    "    for child in mutated_offspring:\n",
    "        offspring[child[0]] = child[1]\n",
    "    return offspring"
   ]
  },
  {
   "cell_type": "code",
   "execution_count": 47,
   "metadata": {},
   "outputs": [
    {
     "name": "stderr",
     "output_type": "stream",
     "text": [
      "100%|██████████| 1367/1367 [17:01<00:00,  1.34it/s]\n"
     ]
    },
    {
     "name": "stdout",
     "output_type": "stream",
     "text": [
      "{'COD': 67.7891106324521, 'error': 3423.413228354549, 'coeff': [0.5901916618951099, 0.1875087168684587, 0.97974900566126, 0.799999026035474, 0.5888794450374174]}\n"
     ]
    }
   ],
   "source": [
    "from random import random, sample, choice\n",
    "from math import floor\n",
    "from tqdm import tqdm\n",
    "from numpy import array, dot, mean\n",
    "from numpy.linalg import pinv\n",
    "from sys import exit\n",
    "inputs, outputs =X,y\n",
    "individual_size = len(inputs[0])\n",
    "population_size = 1367\n",
    "selection_size = floor(0.1*population_size)\n",
    "max_generations = 50\n",
    "probability_of_individual_mutating = 0.1\n",
    "probability_of_gene_mutating = 0.25\n",
    "best_possible = multiple_linear_regression(inputs, outputs)\n",
    "best_individuals_stash = [create_individual(individual_size)]\n",
    "initial_population = create_population(individual_size, 1367)\n",
    "current_population = initial_population\n",
    "termination = False\n",
    "generation_count = 0\n",
    "while termination is False:\n",
    "    current_best_individual = get_fitness(best_individuals_stash[-1], inputs)\n",
    "    #print('Generation: ', generation_count)\n",
    "    best_individuals = evaluate_population(current_population)\n",
    "    current_population = get_new_generation(best_individuals)\n",
    "    termination = check_termination_condition(current_best_individual)\n",
    "    generation_count += 1\n",
    "    termination=True\n",
    "else:\n",
    "    print(get_fitness(best_individuals_stash[-1], inputs))\n"
   ]
  },
  {
   "cell_type": "code",
   "execution_count": 48,
   "metadata": {},
   "outputs": [
    {
     "name": "stdout",
     "output_type": "stream",
     "text": [
      "(207677, 5) (207677, 1) (23076, 5) (23076, 1)\n"
     ]
    }
   ],
   "source": [
    "n_mins=5\n",
    "n_features=1\n",
    "values = data.values\n",
    "n_train_mins=int(len(data)*0.9)\n",
    "train = values[:n_train_mins, :]\n",
    "test = values[n_train_mins:, :]\n",
    "n_obs = n_mins * n_features\n",
    "train_X, train_y = train[:, :n_obs], train[:, -1]\n",
    "test_X,  test_y =test[:, :n_obs], test[:,-1]\n",
    "train_y=train_y.reshape(-1,1)\n",
    "test_y =test_y.reshape(-1,1)\n",
    "print(train_X.shape, train_y.shape, test_X.shape, test_y.shape)\n"
   ]
  },
  {
   "cell_type": "code",
   "execution_count": 49,
   "metadata": {},
   "outputs": [],
   "source": [
    "pred=[]\n",
    "for i,j,k,a,s in (test_X):\n",
    "    pred.append(i*0.011662344210859432+j*0.8505309559116037+k*0.9801171343267734\n",
    "               +a*0.5910946488844814+s*0.22401669622091414)"
   ]
  },
  {
   "cell_type": "code",
   "execution_count": 50,
   "metadata": {},
   "outputs": [
    {
     "data": {
      "image/png": "[encoded data removed]",
      "text/plain": [
       "<Figure size 1296x432 with 1 Axes>"
      ]
     },
     "metadata": {
      "needs_background": "light"
     },
     "output_type": "display_data"
    }
   ],
   "source": [
    "# plot\n",
    "plt.figure(figsize=(18,6))\n",
    "plt.plot([x for x in range(1,50)], pred[1:50], linestyle='-', color='blue', label='prediction')\n",
    "plt.plot([x for x in range(1,50)], test_y[1:50], linestyle='-', color='black', label='actual')\n",
    "plt.legend(loc=1, prop={'size': 12})\n",
    "plt.show()\n",
    "\n"
   ]
  },
  {
   "cell_type": "code",
   "execution_count": null,
   "metadata": {},
   "outputs": [],
   "source": []
  },
  {
   "cell_type": "markdown",
   "metadata": {},
   "source": [
    "## Lstm(Long-Short-Term-Memory)"
   ]
  },
  {
   "cell_type": "code",
   "execution_count": 51,
   "metadata": {},
   "outputs": [
    {
     "name": "stdout",
     "output_type": "stream",
     "text": [
      "(184602, 5, 1) (184602,) (46151, 5, 1) (46151,)\n"
     ]
    }
   ],
   "source": [
    "n_mins=5\n",
    "n_features=1\n",
    "values = data.values\n",
    "n_train_mins=int(len(data)*0.8)\n",
    "train = values[:n_train_mins, :]\n",
    "test = values[n_train_mins:, :]\n",
    "n_obs = n_mins * n_features\n",
    "train_X, train_y = train[:, :n_obs], train[:, -1]\n",
    "test_X,  test_y =test[:, :n_obs], test[:,-1]\n",
    "train_X = train_X.reshape((train_X.shape[0], n_mins, n_features))\n",
    "test_X = test_X.reshape((test_X.shape[0], n_mins, n_features))\n",
    "print(train_X.shape, train_y.shape, test_X.shape, test_y.shape)\n"
   ]
  },
  {
   "cell_type": "code",
   "execution_count": 52,
   "metadata": {},
   "outputs": [
    {
     "name": "stdout",
     "output_type": "stream",
     "text": [
      "(184602, 1)\n"
     ]
    }
   ],
   "source": [
    "train_y=train_y.reshape(-1,1)\n",
    "#test_y=test_y.reshape(-1,1)\n",
    "\n",
    "print(train_y.shape)"
   ]
  },
  {
   "cell_type": "code",
   "execution_count": 53,
   "metadata": {},
   "outputs": [
    {
     "name": "stdout",
     "output_type": "stream",
     "text": [
      "Model: \"sequential_20\"\n",
      "_________________________________________________________________\n",
      "Layer (type)                 Output Shape              Param #   \n",
      "=================================================================\n",
      "lstm (LSTM)                  (None, 100)               40800     \n",
      "_________________________________________________________________\n",
      "dense_60 (Dense)             (None, 30)                3030      \n",
      "_________________________________________________________________\n",
      "dropout (Dropout)            (None, 30)                0         \n",
      "_________________________________________________________________\n",
      "dense_61 (Dense)             (None, 1)                 31        \n",
      "=================================================================\n",
      "Total params: 43,861\n",
      "Trainable params: 43,861\n",
      "Non-trainable params: 0\n",
      "_________________________________________________________________\n"
     ]
    }
   ],
   "source": [
    "from keras.models import Sequential \n",
    "from keras.layers import Dense,LSTM,LeakyReLU,Dropout\n",
    "\n",
    "# define model\n",
    "model = Sequential()\n",
    "model.add(LSTM(100, activation='relu', input_shape=(train_X.shape[1], train_X.shape[2])))\n",
    "model.add(Dense(30))\n",
    "model.add(Dropout(0.1))\n",
    "model.add(Dense(1))\n",
    "model.compile(loss='mse', optimizer='adam')\n",
    "model.summary()\n"
   ]
  },
  {
   "cell_type": "markdown",
   "metadata": {},
   "source": [
    "## train model"
   ]
  },
  {
   "cell_type": "code",
   "execution_count": 54,
   "metadata": {},
   "outputs": [
    {
     "name": "stdout",
     "output_type": "stream",
     "text": [
      "Epoch 1/10\n",
      "1154/1154 [==============================] - 39s 34ms/step - loss: 2402.7913 - val_loss: 522.3335\n",
      "Epoch 2/10\n",
      "1154/1154 [==============================] - 38s 33ms/step - loss: 1532.9077 - val_loss: 515.4936\n",
      "Epoch 3/10\n",
      "1154/1154 [==============================] - 38s 33ms/step - loss: 1528.7581 - val_loss: 517.0178\n",
      "Epoch 4/10\n",
      "1154/1154 [==============================] - 38s 33ms/step - loss: 1533.4362 - val_loss: 514.7137\n",
      "Epoch 5/10\n",
      "1154/1154 [==============================] - 39s 34ms/step - loss: 1528.8892 - val_loss: 571.8976\n",
      "Epoch 6/10\n",
      "1154/1154 [==============================] - 38s 33ms/step - loss: 1530.0312 - val_loss: 561.9345\n",
      "Epoch 7/10\n",
      "1154/1154 [==============================] - 38s 33ms/step - loss: 1521.7214 - val_loss: 515.8669\n",
      "Epoch 8/10\n",
      "1154/1154 [==============================] - 38s 33ms/step - loss: 1514.6700 - val_loss: 514.7361\n",
      "Epoch 9/10\n",
      "1154/1154 [==============================] - 39s 33ms/step - loss: 1471.2925 - val_loss: 544.8920\n",
      "Epoch 10/10\n",
      "1154/1154 [==============================] - 39s 33ms/step - loss: 1422.2712 - val_loss: 572.8745\n"
     ]
    }
   ],
   "source": [
    "\n",
    "# define parameters\n",
    "verbose, epochs, batch_size = 1, 10, 128\n",
    "# TRain  network\n",
    "history=model.fit(train_X, train_y, epochs=epochs, batch_size=batch_size,validation_split=0.2,verbose=verbose)\n"
   ]
  },
  {
   "cell_type": "code",
   "execution_count": 55,
   "metadata": {},
   "outputs": [
    {
     "data": {
      "image/png": "[encoded data removed]",
      "text/plain": [
       "<Figure size 432x288 with 1 Axes>"
      ]
     },
     "metadata": {
      "needs_background": "light"
     },
     "output_type": "display_data"
    }
   ],
   "source": [
    "# plot history/\n",
    "plt.plot(history.history['loss'], label='train')\n",
    "plt.plot(history.history['val_loss'], label='test')\n",
    "plt.legend()\n",
    "plt.show()"
   ]
  },
  {
   "cell_type": "code",
   "execution_count": 56,
   "metadata": {},
   "outputs": [],
   "source": [
    "# save the model to disk\n",
    "#model.save('bi_axial_Cycle_Behavior.h5')"
   ]
  },
  {
   "cell_type": "code",
   "execution_count": 57,
   "metadata": {},
   "outputs": [],
   "source": [
    "# load the model from disk\n",
    "from keras.models import load_model\n",
    "loaded_model = load_model('bi_axial_Cycle_Behavior.h5')"
   ]
  },
  {
   "cell_type": "code",
   "execution_count": 58,
   "metadata": {},
   "outputs": [],
   "source": [
    "y_pred=loaded_model.predict(test_X)"
   ]
  },
  {
   "cell_type": "code",
   "execution_count": 59,
   "metadata": {},
   "outputs": [
    {
     "name": "stdout",
     "output_type": "stream",
     "text": [
      "Test RMSE : 20.921\n"
     ]
    }
   ],
   "source": [
    "rmse = np.sqrt(mean_squared_error(test_y, y_pred))\n",
    "print('Test RMSE : %.3f' % rmse)"
   ]
  },
  {
   "cell_type": "markdown",
   "metadata": {},
   "source": [
    "### plot actual vs prediction"
   ]
  },
  {
   "cell_type": "code",
   "execution_count": 60,
   "metadata": {},
   "outputs": [
    {
     "data": {
      "image/png": "[encoded data removed]",
      "text/plain": [
       "<Figure size 1296x432 with 1 Axes>"
      ]
     },
     "metadata": {
      "needs_background": "light"
     },
     "output_type": "display_data"
    }
   ],
   "source": [
    "# plot\n",
    "plt.figure(figsize=(18,6))\n",
    "plt.plot([x for x in range(1,y_pred.shape[0]+1)], y_pred, linestyle='-', color='blue', label='prediction')\n",
    "plt.plot([x for x in range(1,test_y.shape[0]+1)], test_y, linestyle='-', color='black', label='actual')\n",
    "plt.legend(loc=1, prop={'size': 12})\n",
    "plt.show()\n",
    "\n"
   ]
  },
  {
   "cell_type": "code",
   "execution_count": 61,
   "metadata": {},
   "outputs": [
    {
     "data": {
      "image/png": "[encoded data removed]",
      "text/plain": [
       "<Figure size 1296x432 with 1 Axes>"
      ]
     },
     "metadata": {
      "needs_background": "light"
     },
     "output_type": "display_data"
    }
   ],
   "source": [
    "# plot\n",
    "plt.figure(figsize=(18,6))\n",
    "plt.plot([x for x in range(1,50)], y_pred[1:50], linestyle='-', color='blue', label='prediction')\n",
    "plt.plot([x for x in range(1,50)], test_y[1:50], linestyle='-', color='black', label='actual')\n",
    "plt.legend(loc=1, prop={'size': 12})\n",
    "plt.show()\n",
    "\n"
   ]
  },
  {
   "cell_type": "code",
   "execution_count": 62,
   "metadata": {},
   "outputs": [
    {
     "data": {
      "text/html": [
       "<div>\n",
       "<style scoped>\n",
       "    .dataframe tbody tr th:only-of-type {\n",
       "        vertical-align: middle;\n",
       "    }\n",
       "\n",
       "    .dataframe tbody tr th {\n",
       "        vertical-align: top;\n",
       "    }\n",
       "\n",
       "    .dataframe thead th {\n",
       "        text-align: right;\n",
       "    }\n",
       "</style>\n",
       "<table border=\"1\" class=\"dataframe\">\n",
       "  <thead>\n",
       "    <tr style=\"text-align: right;\">\n",
       "      <th></th>\n",
       "      <th>eto11</th>\n",
       "      <th>eto12</th>\n",
       "      <th>sig_eq</th>\n",
       "    </tr>\n",
       "  </thead>\n",
       "  <tbody>\n",
       "    <tr>\n",
       "      <th>0</th>\n",
       "      <td>0.00000</td>\n",
       "      <td>0.00000</td>\n",
       "      <td>0.000000</td>\n",
       "    </tr>\n",
       "    <tr>\n",
       "      <th>1</th>\n",
       "      <td>0.00064</td>\n",
       "      <td>0.00032</td>\n",
       "      <td>55.008766</td>\n",
       "    </tr>\n",
       "    <tr>\n",
       "      <th>2</th>\n",
       "      <td>0.00128</td>\n",
       "      <td>0.00064</td>\n",
       "      <td>110.017527</td>\n",
       "    </tr>\n",
       "    <tr>\n",
       "      <th>3</th>\n",
       "      <td>0.00192</td>\n",
       "      <td>0.00096</td>\n",
       "      <td>165.020806</td>\n",
       "    </tr>\n",
       "    <tr>\n",
       "      <th>4</th>\n",
       "      <td>0.00256</td>\n",
       "      <td>0.00128</td>\n",
       "      <td>219.419879</td>\n",
       "    </tr>\n",
       "  </tbody>\n",
       "</table>\n",
       "</div>"
      ],
      "text/plain": [
       "     eto11    eto12      sig_eq\n",
       "0  0.00000  0.00000    0.000000\n",
       "1  0.00064  0.00032   55.008766\n",
       "2  0.00128  0.00064  110.017527\n",
       "3  0.00192  0.00096  165.020806\n",
       "4  0.00256  0.00128  219.419879"
      ]
     },
     "execution_count": 62,
     "metadata": {},
     "output_type": "execute_result"
    }
   ],
   "source": [
    "n_data.head()"
   ]
  },
  {
   "cell_type": "code",
   "execution_count": 63,
   "metadata": {},
   "outputs": [],
   "source": [
    "X=data.iloc[:,0:2]\n",
    "y=data.iloc[:,2].values"
   ]
  },
  {
   "cell_type": "code",
   "execution_count": 64,
   "metadata": {},
   "outputs": [],
   "source": [
    "from sklearn.model_selection import train_test_split\n",
    "\n",
    "train_x,test_x,train_y,test_y=train_test_split(X,y,test_size=0.2)"
   ]
  },
  {
   "cell_type": "code",
   "execution_count": 82,
   "metadata": {},
   "outputs": [
    {
     "data": {
      "text/plain": [
       "184602"
      ]
     },
     "execution_count": 82,
     "metadata": {},
     "output_type": "execute_result"
    }
   ],
   "source": [
    "len(train_x)"
   ]
  },
  {
   "cell_type": "code",
   "execution_count": 65,
   "metadata": {},
   "outputs": [
    {
     "data": {
      "text/plain": [
       "46151"
      ]
     },
     "execution_count": 65,
     "metadata": {},
     "output_type": "execute_result"
    }
   ],
   "source": [
    "len(test_x)"
   ]
  },
  {
   "cell_type": "code",
   "execution_count": 66,
   "metadata": {},
   "outputs": [
    {
     "data": {
      "text/plain": [
       "DecisionTreeRegressor()"
      ]
     },
     "execution_count": 66,
     "metadata": {},
     "output_type": "execute_result"
    }
   ],
   "source": [
    "from sklearn.tree import DecisionTreeRegressor\n",
    "crt=DecisionTreeRegressor()\n",
    "crt.fit(train_x,train_y)"
   ]
  },
  {
   "cell_type": "code",
   "execution_count": 67,
   "metadata": {},
   "outputs": [],
   "source": [
    "y_pred=crt.predict(test_x)"
   ]
  },
  {
   "cell_type": "code",
   "execution_count": 68,
   "metadata": {},
   "outputs": [
    {
     "name": "stdout",
     "output_type": "stream",
     "text": [
      "Test RMSE : 57.652\n"
     ]
    }
   ],
   "source": [
    "from sklearn.metrics import mean_squared_error\n",
    "rmse = np.sqrt(mean_squared_error(test_y, y_pred))\n",
    "print('Test RMSE : %.3f' % rmse)"
   ]
  },
  {
   "cell_type": "code",
   "execution_count": 69,
   "metadata": {},
   "outputs": [
    {
     "data": {
      "image/png": "[encoded data removed]",
      "text/plain": [
       "<Figure size 1296x432 with 1 Axes>"
      ]
     },
     "metadata": {
      "needs_background": "light"
     },
     "output_type": "display_data"
    }
   ],
   "source": [
    "# plot\n",
    "plt.figure(figsize=(18,6))\n",
    "plt.plot([x for x in range(1,50)], y_pred[1:50], linestyle='-', color='blue', label='prediction')\n",
    "plt.plot([x for x in range(1,50)], test_y[1:50], linestyle='-', color='black', label='actual')\n",
    "plt.legend(loc=1, prop={'size': 12})\n",
    "plt.show()\n",
    "\n"
   ]
  },
  {
   "cell_type": "code",
   "execution_count": null,
   "metadata": {},
   "outputs": [],
   "source": []
  },
  {
   "cell_type": "code",
   "execution_count": 70,
   "metadata": {},
   "outputs": [],
   "source": [
    "X_real=real.iloc[:,0:2].values\n",
    "y_real=real.iloc[:,2].values\n",
    "\n"
   ]
  },
  {
   "cell_type": "code",
   "execution_count": 71,
   "metadata": {},
   "outputs": [],
   "source": [
    "y_pred_real=crt.predict(X_real)\n"
   ]
  },
  {
   "cell_type": "code",
   "execution_count": 72,
   "metadata": {},
   "outputs": [
    {
     "name": "stdout",
     "output_type": "stream",
     "text": [
      "Test RMSE : 195.867\n"
     ]
    }
   ],
   "source": [
    "from sklearn.metrics import mean_squared_error\n",
    "rmse = np.sqrt(mean_squared_error(y_real, y_pred_real))\n",
    "print('Test RMSE : %.3f' % rmse)\n"
   ]
  },
  {
   "cell_type": "code",
   "execution_count": 73,
   "metadata": {},
   "outputs": [
    {
     "data": {
      "text/plain": [
       "RandomForestRegressor()"
      ]
     },
     "execution_count": 73,
     "metadata": {},
     "output_type": "execute_result"
    }
   ],
   "source": [
    "from sklearn.ensemble import RandomForestRegressor\n",
    "                \n",
    "DT=RandomForestRegressor(n_estimators=100)\n",
    "DT.fit(train_x,train_y)"
   ]
  },
  {
   "cell_type": "code",
   "execution_count": 74,
   "metadata": {},
   "outputs": [],
   "source": [
    "y_pred=DT.predict(test_x)"
   ]
  },
  {
   "cell_type": "code",
   "execution_count": 75,
   "metadata": {},
   "outputs": [
    {
     "data": {
      "text/plain": [
       "57.13376456918663"
      ]
     },
     "execution_count": 75,
     "metadata": {},
     "output_type": "execute_result"
    }
   ],
   "source": [
    "from sklearn.metrics import mean_squared_error\n",
    "rmse = np.sqrt(mean_squared_error(test_y, y_pred))\n",
    "rmse"
   ]
  },
  {
   "cell_type": "code",
   "execution_count": 76,
   "metadata": {},
   "outputs": [
    {
     "data": {
      "image/png": "[encoded data removed]",
      "text/plain": [
       "<Figure size 1296x432 with 1 Axes>"
      ]
     },
     "metadata": {
      "needs_background": "light"
     },
     "output_type": "display_data"
    }
   ],
   "source": [
    "# plot\n",
    "plt.figure(figsize=(18,6))\n",
    "plt.plot([x for x in range(1,50)], y_pred[1:50], linestyle='-', color='blue', label='prediction')\n",
    "plt.plot([x for x in range(1,50)], test_y[1:50], linestyle='-', color='black', label='actual')\n",
    "plt.legend(loc=1, prop={'size': 12})\n",
    "plt.show()\n",
    "\n"
   ]
  },
  {
   "cell_type": "code",
   "execution_count": null,
   "metadata": {},
   "outputs": [],
   "source": []
  },
  {
   "cell_type": "code",
   "execution_count": 77,
   "metadata": {},
   "outputs": [],
   "source": [
    "y_pred_real=DT.predict(X_real)\n"
   ]
  },
  {
   "cell_type": "code",
   "execution_count": 78,
   "metadata": {},
   "outputs": [
    {
     "name": "stdout",
     "output_type": "stream",
     "text": [
      "Test RMSE : 185.364\n"
     ]
    }
   ],
   "source": [
    "from sklearn.metrics import mean_squared_error\n",
    "rmse = np.sqrt(mean_squared_error(y_real, y_pred_real))\n",
    "print('Test RMSE : %.3f' % rmse)"
   ]
  },
  {
   "cell_type": "code",
   "execution_count": null,
   "metadata": {},
   "outputs": [],
   "source": []
  },
  {
   "cell_type": "code",
   "execution_count": null,
   "metadata": {},
   "outputs": [],
   "source": []
  },
  {
   "cell_type": "markdown",
   "metadata": {},
   "source": [
    "## Prediction part"
   ]
  },
  {
   "cell_type": "code",
   "execution_count": 79,
   "metadata": {},
   "outputs": [],
   "source": [
    "import matplotlib.pyplot as plt\n",
    "import pandas as pd\n",
    "import numpy as np\n",
    "from keras.models import load_model"
   ]
  },
  {
   "cell_type": "code",
   "execution_count": 80,
   "metadata": {},
   "outputs": [],
   "source": [
    "loaded_model = load_model('bi_axial_Cycle_Behavior.h5')"
   ]
  },
  {
   "cell_type": "markdown",
   "metadata": {},
   "source": [
    "### Read data"
   ]
  },
  {
   "cell_type": "code",
   "execution_count": 81,
   "metadata": {},
   "outputs": [
    {
     "ename": "FileNotFoundError",
     "evalue": "[Errno 2] No such file or directory: 'file_name.xlsx'",
     "output_type": "error",
     "traceback": [
      "\u001b[0;31m---------------------------------------------------------------------------\u001b[0m",
      "\u001b[0;31mFileNotFoundError\u001b[0m                         Traceback (most recent call last)",
      "\u001b[0;32m<ipython-input-81-e8594c333ed1>\u001b[0m in \u001b[0;36m<module>\u001b[0;34m\u001b[0m\n\u001b[1;32m      1\u001b[0m \u001b[0;31m## Read Data\u001b[0m\u001b[0;34m\u001b[0m\u001b[0;34m\u001b[0m\u001b[0;34m\u001b[0m\u001b[0m\n\u001b[0;32m----> 2\u001b[0;31m \u001b[0mtest\u001b[0m\u001b[0;34m=\u001b[0m\u001b[0mpd\u001b[0m\u001b[0;34m.\u001b[0m\u001b[0mread_excel\u001b[0m\u001b[0;34m(\u001b[0m\u001b[0;34m'file_name.xlsx'\u001b[0m\u001b[0;34m)\u001b[0m\u001b[0;34m\u001b[0m\u001b[0;34m\u001b[0m\u001b[0m\n\u001b[0m\u001b[1;32m      3\u001b[0m \u001b[0mtest\u001b[0m\u001b[0;34m[\u001b[0m\u001b[0;34m'sig_equ'\u001b[0m\u001b[0;34m]\u001b[0m\u001b[0;34m=\u001b[0m\u001b[0mnp\u001b[0m\u001b[0;34m.\u001b[0m\u001b[0msqrt\u001b[0m\u001b[0;34m(\u001b[0m\u001b[0;34m(\u001b[0m\u001b[0mtest\u001b[0m\u001b[0;34m[\u001b[0m\u001b[0;34m'sig11'\u001b[0m\u001b[0;34m]\u001b[0m\u001b[0;34m**\u001b[0m\u001b[0;36m2\u001b[0m\u001b[0;34m)\u001b[0m\u001b[0;34m+\u001b[0m\u001b[0;34m(\u001b[0m\u001b[0;36m3\u001b[0m\u001b[0;34m*\u001b[0m\u001b[0;34m(\u001b[0m\u001b[0mtest\u001b[0m\u001b[0;34m[\u001b[0m\u001b[0;34m'sig12'\u001b[0m\u001b[0;34m]\u001b[0m\u001b[0;34m**\u001b[0m\u001b[0;36m2\u001b[0m\u001b[0;34m)\u001b[0m\u001b[0;34m)\u001b[0m\u001b[0;34m)\u001b[0m\u001b[0;34m\u001b[0m\u001b[0;34m\u001b[0m\u001b[0m\n",
      "\u001b[0;32m~/anaconda3/envs/seko/lib/python3.8/site-packages/pandas/io/excel/_base.py\u001b[0m in \u001b[0;36mread_excel\u001b[0;34m(io, sheet_name, header, names, index_col, usecols, squeeze, dtype, engine, converters, true_values, false_values, skiprows, nrows, na_values, keep_default_na, verbose, parse_dates, date_parser, thousands, comment, skipfooter, convert_float, mangle_dupe_cols, **kwds)\u001b[0m\n\u001b[1;32m    302\u001b[0m \u001b[0;34m\u001b[0m\u001b[0m\n\u001b[1;32m    303\u001b[0m     \u001b[0;32mif\u001b[0m \u001b[0;32mnot\u001b[0m \u001b[0misinstance\u001b[0m\u001b[0;34m(\u001b[0m\u001b[0mio\u001b[0m\u001b[0;34m,\u001b[0m \u001b[0mExcelFile\u001b[0m\u001b[0;34m)\u001b[0m\u001b[0;34m:\u001b[0m\u001b[0;34m\u001b[0m\u001b[0;34m\u001b[0m\u001b[0m\n\u001b[0;32m--> 304\u001b[0;31m         \u001b[0mio\u001b[0m \u001b[0;34m=\u001b[0m \u001b[0mExcelFile\u001b[0m\u001b[0;34m(\u001b[0m\u001b[0mio\u001b[0m\u001b[0;34m,\u001b[0m \u001b[0mengine\u001b[0m\u001b[0;34m=\u001b[0m\u001b[0mengine\u001b[0m\u001b[0;34m)\u001b[0m\u001b[0;34m\u001b[0m\u001b[0;34m\u001b[0m\u001b[0m\n\u001b[0m\u001b[1;32m    305\u001b[0m     \u001b[0;32melif\u001b[0m \u001b[0mengine\u001b[0m \u001b[0;32mand\u001b[0m \u001b[0mengine\u001b[0m \u001b[0;34m!=\u001b[0m \u001b[0mio\u001b[0m\u001b[0;34m.\u001b[0m\u001b[0mengine\u001b[0m\u001b[0;34m:\u001b[0m\u001b[0;34m\u001b[0m\u001b[0;34m\u001b[0m\u001b[0m\n\u001b[1;32m    306\u001b[0m         raise ValueError(\n",
      "\u001b[0;32m~/anaconda3/envs/seko/lib/python3.8/site-packages/pandas/io/excel/_base.py\u001b[0m in \u001b[0;36m__init__\u001b[0;34m(self, io, engine)\u001b[0m\n\u001b[1;32m    822\u001b[0m         \u001b[0mself\u001b[0m\u001b[0;34m.\u001b[0m\u001b[0m_io\u001b[0m \u001b[0;34m=\u001b[0m \u001b[0mstringify_path\u001b[0m\u001b[0;34m(\u001b[0m\u001b[0mio\u001b[0m\u001b[0;34m)\u001b[0m\u001b[0;34m\u001b[0m\u001b[0;34m\u001b[0m\u001b[0m\n\u001b[1;32m    823\u001b[0m \u001b[0;34m\u001b[0m\u001b[0m\n\u001b[0;32m--> 824\u001b[0;31m         \u001b[0mself\u001b[0m\u001b[0;34m.\u001b[0m\u001b[0m_reader\u001b[0m \u001b[0;34m=\u001b[0m \u001b[0mself\u001b[0m\u001b[0;34m.\u001b[0m\u001b[0m_engines\u001b[0m\u001b[0;34m[\u001b[0m\u001b[0mengine\u001b[0m\u001b[0;34m]\u001b[0m\u001b[0;34m(\u001b[0m\u001b[0mself\u001b[0m\u001b[0;34m.\u001b[0m\u001b[0m_io\u001b[0m\u001b[0;34m)\u001b[0m\u001b[0;34m\u001b[0m\u001b[0;34m\u001b[0m\u001b[0m\n\u001b[0m\u001b[1;32m    825\u001b[0m \u001b[0;34m\u001b[0m\u001b[0m\n\u001b[1;32m    826\u001b[0m     \u001b[0;32mdef\u001b[0m \u001b[0m__fspath__\u001b[0m\u001b[0;34m(\u001b[0m\u001b[0mself\u001b[0m\u001b[0;34m)\u001b[0m\u001b[0;34m:\u001b[0m\u001b[0;34m\u001b[0m\u001b[0;34m\u001b[0m\u001b[0m\n",
      "\u001b[0;32m~/anaconda3/envs/seko/lib/python3.8/site-packages/pandas/io/excel/_xlrd.py\u001b[0m in \u001b[0;36m__init__\u001b[0;34m(self, filepath_or_buffer)\u001b[0m\n\u001b[1;32m     19\u001b[0m         \u001b[0merr_msg\u001b[0m \u001b[0;34m=\u001b[0m \u001b[0;34m\"Install xlrd >= 1.0.0 for Excel support\"\u001b[0m\u001b[0;34m\u001b[0m\u001b[0;34m\u001b[0m\u001b[0m\n\u001b[1;32m     20\u001b[0m         \u001b[0mimport_optional_dependency\u001b[0m\u001b[0;34m(\u001b[0m\u001b[0;34m\"xlrd\"\u001b[0m\u001b[0;34m,\u001b[0m \u001b[0mextra\u001b[0m\u001b[0;34m=\u001b[0m\u001b[0merr_msg\u001b[0m\u001b[0;34m)\u001b[0m\u001b[0;34m\u001b[0m\u001b[0;34m\u001b[0m\u001b[0m\n\u001b[0;32m---> 21\u001b[0;31m         \u001b[0msuper\u001b[0m\u001b[0;34m(\u001b[0m\u001b[0;34m)\u001b[0m\u001b[0;34m.\u001b[0m\u001b[0m__init__\u001b[0m\u001b[0;34m(\u001b[0m\u001b[0mfilepath_or_buffer\u001b[0m\u001b[0;34m)\u001b[0m\u001b[0;34m\u001b[0m\u001b[0;34m\u001b[0m\u001b[0m\n\u001b[0m\u001b[1;32m     22\u001b[0m \u001b[0;34m\u001b[0m\u001b[0m\n\u001b[1;32m     23\u001b[0m     \u001b[0;34m@\u001b[0m\u001b[0mproperty\u001b[0m\u001b[0;34m\u001b[0m\u001b[0;34m\u001b[0m\u001b[0m\n",
      "\u001b[0;32m~/anaconda3/envs/seko/lib/python3.8/site-packages/pandas/io/excel/_base.py\u001b[0m in \u001b[0;36m__init__\u001b[0;34m(self, filepath_or_buffer)\u001b[0m\n\u001b[1;32m    351\u001b[0m             \u001b[0mself\u001b[0m\u001b[0;34m.\u001b[0m\u001b[0mbook\u001b[0m \u001b[0;34m=\u001b[0m \u001b[0mself\u001b[0m\u001b[0;34m.\u001b[0m\u001b[0mload_workbook\u001b[0m\u001b[0;34m(\u001b[0m\u001b[0mfilepath_or_buffer\u001b[0m\u001b[0;34m)\u001b[0m\u001b[0;34m\u001b[0m\u001b[0;34m\u001b[0m\u001b[0m\n\u001b[1;32m    352\u001b[0m         \u001b[0;32melif\u001b[0m \u001b[0misinstance\u001b[0m\u001b[0;34m(\u001b[0m\u001b[0mfilepath_or_buffer\u001b[0m\u001b[0;34m,\u001b[0m \u001b[0mstr\u001b[0m\u001b[0;34m)\u001b[0m\u001b[0;34m:\u001b[0m\u001b[0;34m\u001b[0m\u001b[0;34m\u001b[0m\u001b[0m\n\u001b[0;32m--> 353\u001b[0;31m             \u001b[0mself\u001b[0m\u001b[0;34m.\u001b[0m\u001b[0mbook\u001b[0m \u001b[0;34m=\u001b[0m \u001b[0mself\u001b[0m\u001b[0;34m.\u001b[0m\u001b[0mload_workbook\u001b[0m\u001b[0;34m(\u001b[0m\u001b[0mfilepath_or_buffer\u001b[0m\u001b[0;34m)\u001b[0m\u001b[0;34m\u001b[0m\u001b[0;34m\u001b[0m\u001b[0m\n\u001b[0m\u001b[1;32m    354\u001b[0m         \u001b[0;32melif\u001b[0m \u001b[0misinstance\u001b[0m\u001b[0;34m(\u001b[0m\u001b[0mfilepath_or_buffer\u001b[0m\u001b[0;34m,\u001b[0m \u001b[0mbytes\u001b[0m\u001b[0;34m)\u001b[0m\u001b[0;34m:\u001b[0m\u001b[0;34m\u001b[0m\u001b[0;34m\u001b[0m\u001b[0m\n\u001b[1;32m    355\u001b[0m             \u001b[0mself\u001b[0m\u001b[0;34m.\u001b[0m\u001b[0mbook\u001b[0m \u001b[0;34m=\u001b[0m \u001b[0mself\u001b[0m\u001b[0;34m.\u001b[0m\u001b[0mload_workbook\u001b[0m\u001b[0;34m(\u001b[0m\u001b[0mBytesIO\u001b[0m\u001b[0;34m(\u001b[0m\u001b[0mfilepath_or_buffer\u001b[0m\u001b[0;34m)\u001b[0m\u001b[0;34m)\u001b[0m\u001b[0;34m\u001b[0m\u001b[0;34m\u001b[0m\u001b[0m\n",
      "\u001b[0;32m~/anaconda3/envs/seko/lib/python3.8/site-packages/pandas/io/excel/_xlrd.py\u001b[0m in \u001b[0;36mload_workbook\u001b[0;34m(self, filepath_or_buffer)\u001b[0m\n\u001b[1;32m     34\u001b[0m             \u001b[0;32mreturn\u001b[0m \u001b[0mopen_workbook\u001b[0m\u001b[0;34m(\u001b[0m\u001b[0mfile_contents\u001b[0m\u001b[0;34m=\u001b[0m\u001b[0mdata\u001b[0m\u001b[0;34m)\u001b[0m\u001b[0;34m\u001b[0m\u001b[0;34m\u001b[0m\u001b[0m\n\u001b[1;32m     35\u001b[0m         \u001b[0;32melse\u001b[0m\u001b[0;34m:\u001b[0m\u001b[0;34m\u001b[0m\u001b[0;34m\u001b[0m\u001b[0m\n\u001b[0;32m---> 36\u001b[0;31m             \u001b[0;32mreturn\u001b[0m \u001b[0mopen_workbook\u001b[0m\u001b[0;34m(\u001b[0m\u001b[0mfilepath_or_buffer\u001b[0m\u001b[0;34m)\u001b[0m\u001b[0;34m\u001b[0m\u001b[0;34m\u001b[0m\u001b[0m\n\u001b[0m\u001b[1;32m     37\u001b[0m \u001b[0;34m\u001b[0m\u001b[0m\n\u001b[1;32m     38\u001b[0m     \u001b[0;34m@\u001b[0m\u001b[0mproperty\u001b[0m\u001b[0;34m\u001b[0m\u001b[0;34m\u001b[0m\u001b[0m\n",
      "\u001b[0;32m~/anaconda3/envs/seko/lib/python3.8/site-packages/xlrd/__init__.py\u001b[0m in \u001b[0;36mopen_workbook\u001b[0;34m(filename, logfile, verbosity, use_mmap, file_contents, encoding_override, formatting_info, on_demand, ragged_rows)\u001b[0m\n\u001b[1;32m    109\u001b[0m     \u001b[0;32melse\u001b[0m\u001b[0;34m:\u001b[0m\u001b[0;34m\u001b[0m\u001b[0;34m\u001b[0m\u001b[0m\n\u001b[1;32m    110\u001b[0m         \u001b[0mfilename\u001b[0m \u001b[0;34m=\u001b[0m \u001b[0mos\u001b[0m\u001b[0;34m.\u001b[0m\u001b[0mpath\u001b[0m\u001b[0;34m.\u001b[0m\u001b[0mexpanduser\u001b[0m\u001b[0;34m(\u001b[0m\u001b[0mfilename\u001b[0m\u001b[0;34m)\u001b[0m\u001b[0;34m\u001b[0m\u001b[0;34m\u001b[0m\u001b[0m\n\u001b[0;32m--> 111\u001b[0;31m         \u001b[0;32mwith\u001b[0m \u001b[0mopen\u001b[0m\u001b[0;34m(\u001b[0m\u001b[0mfilename\u001b[0m\u001b[0;34m,\u001b[0m \u001b[0;34m\"rb\"\u001b[0m\u001b[0;34m)\u001b[0m \u001b[0;32mas\u001b[0m \u001b[0mf\u001b[0m\u001b[0;34m:\u001b[0m\u001b[0;34m\u001b[0m\u001b[0;34m\u001b[0m\u001b[0m\n\u001b[0m\u001b[1;32m    112\u001b[0m             \u001b[0mpeek\u001b[0m \u001b[0;34m=\u001b[0m \u001b[0mf\u001b[0m\u001b[0;34m.\u001b[0m\u001b[0mread\u001b[0m\u001b[0;34m(\u001b[0m\u001b[0mpeeksz\u001b[0m\u001b[0;34m)\u001b[0m\u001b[0;34m\u001b[0m\u001b[0;34m\u001b[0m\u001b[0m\n\u001b[1;32m    113\u001b[0m     \u001b[0;32mif\u001b[0m \u001b[0mpeek\u001b[0m \u001b[0;34m==\u001b[0m \u001b[0;34mb\"PK\\x03\\x04\"\u001b[0m\u001b[0;34m:\u001b[0m \u001b[0;31m# a ZIP file\u001b[0m\u001b[0;34m\u001b[0m\u001b[0;34m\u001b[0m\u001b[0m\n",
      "\u001b[0;31mFileNotFoundError\u001b[0m: [Errno 2] No such file or directory: 'file_name.xlsx'"
     ]
    }
   ],
   "source": [
    "## Read Data\n",
    "test=pd.read_excel('file_name.xlsx')\n",
    "test['sig_equ']=np.sqrt((test['sig11']**2)+(3*(test['sig12']**2)))\n"
   ]
  },
  {
   "cell_type": "code",
   "execution_count": null,
   "metadata": {},
   "outputs": [],
   "source": [
    "n_data=pd.DataFrame(columns=['eto11','eto12','sig_eq'])\n",
    "n_data['eto11']=test.iloc[:,1]\n",
    "n_data['eto12']=test.iloc[:,3]\n",
    "n_data['sig_eq']=test.iloc[:,5]\n"
   ]
  },
  {
   "cell_type": "code",
   "execution_count": null,
   "metadata": {},
   "outputs": [],
   "source": [
    "data = series_to_supervised(n_data.values, 1, 1)"
   ]
  },
  {
   "cell_type": "code",
   "execution_count": null,
   "metadata": {},
   "outputs": [],
   "source": [
    "n_mins=5\n",
    "n_features=1\n",
    "values = data.values\n",
    "n_obs = n_mins * n_features\n",
    "test_X,  test_y =values[:, :n_obs], values[:,-1]\n",
    "test_X = test_X.reshape((test_X.shape[0], n_mins, n_features))\n",
    "test_y=test_y.reshape(-1,1)\n"
   ]
  },
  {
   "cell_type": "code",
   "execution_count": null,
   "metadata": {},
   "outputs": [],
   "source": [
    "y_pred=loaded_model.predict(test_X)"
   ]
  },
  {
   "cell_type": "code",
   "execution_count": null,
   "metadata": {},
   "outputs": [],
   "source": [
    "y_pred"
   ]
  },
  {
   "cell_type": "code",
   "execution_count": null,
   "metadata": {},
   "outputs": [],
   "source": [
    "# plot\n",
    "plt.figure(figsize=(18,6))\n",
    "plt.plot([x for x in range(1,y_pred.shape[0]+1)], y_pred, linestyle='-', color='blue', label='prediction')\n",
    "plt.plot([x for x in range(1,test_y.shape[0]+1)], test_y, linestyle='-', color='black', label='actual')\n",
    "plt.legend(loc=1, prop={'size': 12})\n",
    "plt.show()\n",
    "\n"
   ]
  },
  {
   "cell_type": "code",
   "execution_count": null,
   "metadata": {},
   "outputs": [],
   "source": [
    "# plot\n",
    "plt.figure(figsize=(18,6))\n",
    "plt.plot([x for x in range(1,400)], y_pred[1:400], linestyle='-', color='blue', label='prediction')\n",
    "plt.plot([x for x in range(1,400)], test_y[1:400], linestyle='-', color='black', label='actual')\n",
    "plt.legend(loc=1, prop={'size': 12})\n",
    "plt.show()\n"
   ]
  },
  {
   "cell_type": "code",
   "execution_count": null,
   "metadata": {},
   "outputs": [],
   "source": []
  }
 ],
 "metadata": {
  "kernelspec": {
   "display_name": "Python 3",
   "language": "python",
   "name": "python3"
  },
  "language_info": {
   "codemirror_mode": {
    "name": "ipython",
    "version": 3
   },
   "file_extension": ".py",
   "mimetype": "text/x-python",
   "name": "python",
   "nbconvert_exporter": "python",
   "pygments_lexer": "ipython3",
   "version": "3.8.3"
  }
 },
 "nbformat": 4,
 "nbformat_minor": 4
}
